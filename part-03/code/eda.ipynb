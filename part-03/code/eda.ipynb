{
 "cells": [
  {
   "cell_type": "markdown",
   "id": "c74cc7a6",
   "metadata": {},
   "source": [
    "### EDA"
   ]
  },
  {
   "cell_type": "code",
   "execution_count": 36,
   "id": "cb412083",
   "metadata": {},
   "outputs": [],
   "source": [
    "# imports\n",
    "import pandas as pd\n",
    "import sqlite3\n",
    "\n",
    "import matplotlib.pyplot as plt\n",
    "import seaborn as sns\n",
    "\n",
    "from sklearn.feature_extraction.text import TfidfVectorizer\n",
    "from nltk.stem.porter import *\n",
    "from  nltk.stem import PorterStemmer"
   ]
  },
  {
   "cell_type": "code",
   "execution_count": 2,
   "id": "20c3f34d",
   "metadata": {},
   "outputs": [],
   "source": [
    "# initialize db connection\n",
    "db_con = sqlite3.connect('../../part-02/data/yelp.db.sqlite')"
   ]
  },
  {
   "cell_type": "code",
   "execution_count": 3,
   "id": "563016e8",
   "metadata": {},
   "outputs": [],
   "source": [
    "# initialize dataframe\n",
    "reviews = pd.DataFrame(pd.read_sql('select * from reviews;',\n",
    "           con=db_con))"
   ]
  },
  {
   "cell_type": "code",
   "execution_count": 4,
   "id": "316c5bde",
   "metadata": {},
   "outputs": [],
   "source": [
    "\n",
    "# boxplot function\n",
    "def box_plot(df, column_name):\n",
    "    fig, (ax1,ax2) = plt.subplots(1, 2, figsize=(20, 10))\n",
    "\n",
    "    sns.boxplot(data=df[column_name], \n",
    "                ax=ax1,\n",
    "                showmeans=True, \n",
    "                width=0.5,\n",
    "                palette=('pink', 8))\n",
    "    \n",
    "    ax2.hist(df[column_name], color='pink', \n",
    "             orientation='horizontal')\n",
    "    ax1.set_title(column_name, fontsize=16)\n",
    "    ax2.set_title(column_name, fontsize=16)\n",
    "    ax1.set_facecolor('whitesmoke')\n",
    "    ax2.set_facecolor('whitesmoke');"
   ]
  },
  {
   "cell_type": "markdown",
   "id": "2fc57d7a",
   "metadata": {},
   "source": [
    "### Review the data"
   ]
  },
  {
   "cell_type": "code",
   "execution_count": 5,
   "id": "997ced48",
   "metadata": {},
   "outputs": [
    {
     "data": {
      "text/html": [
       "<div>\n",
       "<style scoped>\n",
       "    .dataframe tbody tr th:only-of-type {\n",
       "        vertical-align: middle;\n",
       "    }\n",
       "\n",
       "    .dataframe tbody tr th {\n",
       "        vertical-align: top;\n",
       "    }\n",
       "\n",
       "    .dataframe thead th {\n",
       "        text-align: right;\n",
       "    }\n",
       "</style>\n",
       "<table border=\"1\" class=\"dataframe\">\n",
       "  <thead>\n",
       "    <tr style=\"text-align: right;\">\n",
       "      <th></th>\n",
       "      <th>review_id</th>\n",
       "      <th>user_id</th>\n",
       "      <th>business_id</th>\n",
       "      <th>stars</th>\n",
       "      <th>useful</th>\n",
       "      <th>funny</th>\n",
       "      <th>cool</th>\n",
       "      <th>text</th>\n",
       "      <th>date</th>\n",
       "      <th>target</th>\n",
       "      <th>num_words</th>\n",
       "      <th>num_chars</th>\n",
       "    </tr>\n",
       "  </thead>\n",
       "  <tbody>\n",
       "    <tr>\n",
       "      <th>0</th>\n",
       "      <td>-P5E9BYUaK7s3PwBF5oAyg</td>\n",
       "      <td>Jha0USGDMefGFRLik_xFQg</td>\n",
       "      <td>bMratNjTG5ZFEA6hVyr-xQ</td>\n",
       "      <td>5</td>\n",
       "      <td>0</td>\n",
       "      <td>0</td>\n",
       "      <td>0</td>\n",
       "      <td>First time there and it was excellent It feels...</td>\n",
       "      <td>2017-02-19 13:32:05</td>\n",
       "      <td>0</td>\n",
       "      <td>39</td>\n",
       "      <td>212</td>\n",
       "    </tr>\n",
       "    <tr>\n",
       "      <th>1</th>\n",
       "      <td>dQ3EU6cevDqHAr_ygy1O8A</td>\n",
       "      <td>CNyXcn0c0V5CFmigqqw-Xg</td>\n",
       "      <td>oY5LFo6Yxxf32ePna6mEUQ</td>\n",
       "      <td>5</td>\n",
       "      <td>1</td>\n",
       "      <td>0</td>\n",
       "      <td>0</td>\n",
       "      <td>I absolutely love this place  Great hours impe...</td>\n",
       "      <td>2014-12-30 17:55:51</td>\n",
       "      <td>1</td>\n",
       "      <td>12</td>\n",
       "      <td>70</td>\n",
       "    </tr>\n",
       "    <tr>\n",
       "      <th>2</th>\n",
       "      <td>Pgh9POx-bH7JFggKXqXWMQ</td>\n",
       "      <td>8fL5qUckzt_nAC1uwvbr0w</td>\n",
       "      <td>uW8L6awmCyjovD9OhWPo7g</td>\n",
       "      <td>5</td>\n",
       "      <td>1</td>\n",
       "      <td>0</td>\n",
       "      <td>1</td>\n",
       "      <td>As far as I know this is the best video rental...</td>\n",
       "      <td>2008-04-30 15:49:16</td>\n",
       "      <td>1</td>\n",
       "      <td>72</td>\n",
       "      <td>360</td>\n",
       "    </tr>\n",
       "    <tr>\n",
       "      <th>3</th>\n",
       "      <td>Sgs-rER85vBaOBSPVo96xw</td>\n",
       "      <td>EIi4Fy_JW_6v7DaRDet1uw</td>\n",
       "      <td>Q1HHAb4FzrzfnnrRyA8fgg</td>\n",
       "      <td>4</td>\n",
       "      <td>0</td>\n",
       "      <td>0</td>\n",
       "      <td>0</td>\n",
       "      <td>Great atmosphere and service I dont know how o...</td>\n",
       "      <td>2015-07-28 14:26:48</td>\n",
       "      <td>0</td>\n",
       "      <td>71</td>\n",
       "      <td>320</td>\n",
       "    </tr>\n",
       "    <tr>\n",
       "      <th>4</th>\n",
       "      <td>yqJv_8CoXNb-NpaEiTY4yw</td>\n",
       "      <td>ZiI40HVbRbFE-tv2K8OQkw</td>\n",
       "      <td>45siW2fI0Cuv5ZKCS23knA</td>\n",
       "      <td>5</td>\n",
       "      <td>0</td>\n",
       "      <td>0</td>\n",
       "      <td>0</td>\n",
       "      <td>Great new location on Central Great staff and ...</td>\n",
       "      <td>2014-04-19 13:06:28</td>\n",
       "      <td>0</td>\n",
       "      <td>20</td>\n",
       "      <td>114</td>\n",
       "    </tr>\n",
       "  </tbody>\n",
       "</table>\n",
       "</div>"
      ],
      "text/plain": [
       "                review_id                 user_id             business_id  \\\n",
       "0  -P5E9BYUaK7s3PwBF5oAyg  Jha0USGDMefGFRLik_xFQg  bMratNjTG5ZFEA6hVyr-xQ   \n",
       "1  dQ3EU6cevDqHAr_ygy1O8A  CNyXcn0c0V5CFmigqqw-Xg  oY5LFo6Yxxf32ePna6mEUQ   \n",
       "2  Pgh9POx-bH7JFggKXqXWMQ  8fL5qUckzt_nAC1uwvbr0w  uW8L6awmCyjovD9OhWPo7g   \n",
       "3  Sgs-rER85vBaOBSPVo96xw  EIi4Fy_JW_6v7DaRDet1uw  Q1HHAb4FzrzfnnrRyA8fgg   \n",
       "4  yqJv_8CoXNb-NpaEiTY4yw  ZiI40HVbRbFE-tv2K8OQkw  45siW2fI0Cuv5ZKCS23knA   \n",
       "\n",
       "   stars  useful  funny  cool  \\\n",
       "0      5       0      0     0   \n",
       "1      5       1      0     0   \n",
       "2      5       1      0     1   \n",
       "3      4       0      0     0   \n",
       "4      5       0      0     0   \n",
       "\n",
       "                                                text                 date  \\\n",
       "0  First time there and it was excellent It feels...  2017-02-19 13:32:05   \n",
       "1  I absolutely love this place  Great hours impe...  2014-12-30 17:55:51   \n",
       "2  As far as I know this is the best video rental...  2008-04-30 15:49:16   \n",
       "3  Great atmosphere and service I dont know how o...  2015-07-28 14:26:48   \n",
       "4  Great new location on Central Great staff and ...  2014-04-19 13:06:28   \n",
       "\n",
       "   target  num_words  num_chars  \n",
       "0       0         39        212  \n",
       "1       1         12         70  \n",
       "2       1         72        360  \n",
       "3       0         71        320  \n",
       "4       0         20        114  "
      ]
     },
     "execution_count": 5,
     "metadata": {},
     "output_type": "execute_result"
    }
   ],
   "source": [
    "# visualize first 5 records\n",
    "reviews.head()"
   ]
  },
  {
   "cell_type": "code",
   "execution_count": 6,
   "id": "b54d13bf",
   "metadata": {},
   "outputs": [
    {
     "data": {
      "text/plain": [
       "(21032, 12)"
      ]
     },
     "execution_count": 6,
     "metadata": {},
     "output_type": "execute_result"
    }
   ],
   "source": [
    "# check shape\n",
    "reviews.shape"
   ]
  },
  {
   "cell_type": "code",
   "execution_count": 7,
   "id": "bf0b67b2",
   "metadata": {},
   "outputs": [
    {
     "data": {
      "text/plain": [
       "Index(['review_id', 'user_id', 'business_id', 'stars', 'useful', 'funny',\n",
       "       'cool', 'text', 'date', 'target', 'num_words', 'num_chars'],\n",
       "      dtype='object')"
      ]
     },
     "execution_count": 7,
     "metadata": {},
     "output_type": "execute_result"
    }
   ],
   "source": [
    "# check columns\n",
    "reviews.columns"
   ]
  },
  {
   "cell_type": "markdown",
   "id": "5a4b2692",
   "metadata": {},
   "source": [
    "### Summary statistics"
   ]
  },
  {
   "cell_type": "code",
   "execution_count": 8,
   "id": "396f34b6",
   "metadata": {},
   "outputs": [
    {
     "data": {
      "text/plain": [
       "count    21032.000000\n",
       "mean         3.747147\n",
       "std          1.485500\n",
       "min          1.000000\n",
       "25%          3.000000\n",
       "50%          4.000000\n",
       "75%          5.000000\n",
       "max          5.000000\n",
       "Name: stars, dtype: float64"
      ]
     },
     "execution_count": 8,
     "metadata": {},
     "output_type": "execute_result"
    }
   ],
   "source": [
    "# descriptive statistics\n",
    "reviews.stars.describe()"
   ]
  },
  {
   "cell_type": "code",
   "execution_count": 9,
   "id": "8b9c48d7",
   "metadata": {},
   "outputs": [
    {
     "data": {
      "text/plain": [
       "-0.8462207629580617"
      ]
     },
     "execution_count": 9,
     "metadata": {},
     "output_type": "execute_result"
    }
   ],
   "source": [
    "# skewness of data\n",
    "reviews.stars.skew()"
   ]
  },
  {
   "cell_type": "code",
   "execution_count": 10,
   "id": "1c594d2f",
   "metadata": {},
   "outputs": [
    {
     "data": {
      "image/png": "[encoded data removed]",
      "text/plain": [
       "<Figure size 1440x720 with 2 Axes>"
      ]
     },
     "metadata": {
      "needs_background": "light"
     },
     "output_type": "display_data"
    }
   ],
   "source": [
    "# visualize the data\n",
    "box_plot(reviews, 'stars')"
   ]
  },
  {
   "cell_type": "markdown",
   "id": "79247f00",
   "metadata": {},
   "source": [
    "The 'stars' column shows moderate negative skew.  The median and mean are separated by 1, and the spread through the IQR is relatively large."
   ]
  },
  {
   "cell_type": "code",
   "execution_count": 11,
   "id": "4751b8be",
   "metadata": {},
   "outputs": [
    {
     "data": {
      "text/plain": [
       "count    21032.000000\n",
       "mean         1.195036\n",
       "std          6.651468\n",
       "min          0.000000\n",
       "25%          0.000000\n",
       "50%          0.000000\n",
       "75%          1.000000\n",
       "max        840.000000\n",
       "Name: useful, dtype: float64"
      ]
     },
     "execution_count": 11,
     "metadata": {},
     "output_type": "execute_result"
    }
   ],
   "source": [
    "# descriptive statistics\n",
    "reviews.useful.describe()"
   ]
  },
  {
   "cell_type": "code",
   "execution_count": 12,
   "id": "0fb0afca",
   "metadata": {},
   "outputs": [
    {
     "data": {
      "text/plain": [
       "100.26511356897612"
      ]
     },
     "execution_count": 12,
     "metadata": {},
     "output_type": "execute_result"
    }
   ],
   "source": [
    "# skewness of data\n",
    "reviews.useful.skew()"
   ]
  },
  {
   "cell_type": "code",
   "execution_count": 13,
   "id": "fad1d642",
   "metadata": {},
   "outputs": [
    {
     "data": {
      "image/png": "[encoded data removed]",
      "text/plain": [
       "<Figure size 1440x720 with 2 Axes>"
      ]
     },
     "metadata": {
      "needs_background": "light"
     },
     "output_type": "display_data"
    }
   ],
   "source": [
    "# visualize the data\n",
    "box_plot(reviews, 'useful')"
   ]
  },
  {
   "cell_type": "markdown",
   "id": "d12728fc",
   "metadata": {},
   "source": [
    "(Note: this was the column that the target was created from.  All values of zero got assigned zero, and every other value got a one.)\n",
    "\n",
    "This data is extremely positively skewed, and requires outliers to be addressed.  Investigating the data, it looks like reviews with 'useful' greater than 100 can be dropped. The median is 0 and mean is 1.20.  The outliers are heavily impacting the IQR."
   ]
  },
  {
   "cell_type": "code",
   "execution_count": 14,
   "id": "b908467e",
   "metadata": {},
   "outputs": [
    {
     "data": {
      "text/plain": [
       "count    21032.000000\n",
       "mean         0.311192\n",
       "std          1.175694\n",
       "min          0.000000\n",
       "25%          0.000000\n",
       "50%          0.000000\n",
       "75%          0.000000\n",
       "max         35.000000\n",
       "Name: funny, dtype: float64"
      ]
     },
     "execution_count": 14,
     "metadata": {},
     "output_type": "execute_result"
    }
   ],
   "source": [
    "# descriptive statistics\n",
    "reviews.funny.describe()"
   ]
  },
  {
   "cell_type": "code",
   "execution_count": 15,
   "id": "600fe843",
   "metadata": {},
   "outputs": [
    {
     "data": {
      "text/plain": [
       "9.845942231214517"
      ]
     },
     "execution_count": 15,
     "metadata": {},
     "output_type": "execute_result"
    }
   ],
   "source": [
    "# sknewness of data\n",
    "reviews.funny.skew()"
   ]
  },
  {
   "cell_type": "code",
   "execution_count": 16,
   "id": "d8ce4c82",
   "metadata": {},
   "outputs": [
    {
     "data": {
      "image/png": "[encoded data removed]",
      "text/plain": [
       "<Figure size 1440x720 with 2 Axes>"
      ]
     },
     "metadata": {
      "needs_background": "light"
     },
     "output_type": "display_data"
    }
   ],
   "source": [
    "# visualize the data\n",
    "box_plot(reviews, 'funny')"
   ]
  },
  {
   "cell_type": "markdown",
   "id": "4bb1c9a5",
   "metadata": {},
   "source": [
    "Similary to the useful column, the funny column shows extensive positive skew, though the outlier range is less expansive than the 'useful' column.  I have elected to not deal with the outliers in this instance, as most of the values are zero. Instead, I will drop the column. \n",
    "\n",
    "The mean is 0.31, and the median is 0.  The spread is very small through the IQR, with outliers contributing to the larger area of spread.  "
   ]
  },
  {
   "cell_type": "code",
   "execution_count": 17,
   "id": "581a5b16",
   "metadata": {},
   "outputs": [
    {
     "data": {
      "text/plain": [
       "count    21032.000000\n",
       "mean         0.484880\n",
       "std          2.717127\n",
       "min          0.000000\n",
       "25%          0.000000\n",
       "50%          0.000000\n",
       "75%          0.000000\n",
       "max        303.000000\n",
       "Name: cool, dtype: float64"
      ]
     },
     "execution_count": 17,
     "metadata": {},
     "output_type": "execute_result"
    }
   ],
   "source": [
    "# descriptive statistics\n",
    "reviews.cool.describe()"
   ]
  },
  {
   "cell_type": "code",
   "execution_count": 18,
   "id": "b371e277",
   "metadata": {},
   "outputs": [
    {
     "data": {
      "text/plain": [
       "69.6692554361721"
      ]
     },
     "execution_count": 18,
     "metadata": {},
     "output_type": "execute_result"
    }
   ],
   "source": [
    "# skewness of data\n",
    "reviews.cool.skew()"
   ]
  },
  {
   "cell_type": "code",
   "execution_count": 19,
   "id": "f00a95e4",
   "metadata": {},
   "outputs": [
    {
     "data": {
      "image/png": "[encoded data removed]",
      "text/plain": [
       "<Figure size 1440x720 with 2 Axes>"
      ]
     },
     "metadata": {
      "needs_background": "light"
     },
     "output_type": "display_data"
    }
   ],
   "source": [
    "# visualize the data\n",
    "box_plot(reviews, 'cool')"
   ]
  },
  {
   "cell_type": "markdown",
   "id": "4ef977f2",
   "metadata": {},
   "source": [
    "Similarly to the 'funny' column, the data is heavily positively skewed, with most of the values being zero.  I have elected to not deal with the outliers in this instance. Instead I will drop the column. \n",
    "\n"
   ]
  },
  {
   "cell_type": "code",
   "execution_count": 20,
   "id": "b5a7a203",
   "metadata": {},
   "outputs": [
    {
     "data": {
      "text/plain": [
       "count    21032.000000\n",
       "mean       108.575076\n",
       "std        102.135081\n",
       "min          1.000000\n",
       "25%         43.000000\n",
       "50%         77.000000\n",
       "75%        138.000000\n",
       "max       1002.000000\n",
       "Name: num_words, dtype: float64"
      ]
     },
     "execution_count": 20,
     "metadata": {},
     "output_type": "execute_result"
    }
   ],
   "source": [
    "# descriptive statistics\n",
    "reviews.num_words.describe()"
   ]
  },
  {
   "cell_type": "code",
   "execution_count": 21,
   "id": "6c650890",
   "metadata": {},
   "outputs": [
    {
     "data": {
      "text/plain": [
       "2.7248802511452985"
      ]
     },
     "execution_count": 21,
     "metadata": {},
     "output_type": "execute_result"
    }
   ],
   "source": [
    "# skewness of data\n",
    "reviews.num_words.skew()"
   ]
  },
  {
   "cell_type": "code",
   "execution_count": 22,
   "id": "d24b02ac",
   "metadata": {},
   "outputs": [
    {
     "data": {
      "image/png": "[encoded data removed]",
      "text/plain": [
       "<Figure size 1440x720 with 2 Axes>"
      ]
     },
     "metadata": {
      "needs_background": "light"
     },
     "output_type": "display_data"
    }
   ],
   "source": [
    "# visualize the data\n",
    "box_plot(reviews, 'num_words')"
   ]
  },
  {
   "cell_type": "markdown",
   "id": "b1a2a07b",
   "metadata": {},
   "source": [
    "The mean and median are offset from each other by some degree, and the spread through the IQR is fairly small.  The data is highly positively skewed.  There are outliers which need to be dealth with, so I'm going to drop numbers of words that are > 600."
   ]
  },
  {
   "cell_type": "code",
   "execution_count": 23,
   "id": "f1e8d835",
   "metadata": {},
   "outputs": [
    {
     "data": {
      "text/plain": [
       "count    21032.000000\n",
       "mean       555.283853\n",
       "std        516.577952\n",
       "min          8.000000\n",
       "25%        223.000000\n",
       "50%        396.000000\n",
       "75%        707.000000\n",
       "max       4868.000000\n",
       "Name: num_chars, dtype: float64"
      ]
     },
     "execution_count": 23,
     "metadata": {},
     "output_type": "execute_result"
    }
   ],
   "source": [
    "# summary statistics\n",
    "reviews.num_chars.describe()"
   ]
  },
  {
   "cell_type": "code",
   "execution_count": 24,
   "id": "111e0b42",
   "metadata": {},
   "outputs": [
    {
     "data": {
      "text/plain": [
       "2.7359704121219197"
      ]
     },
     "execution_count": 24,
     "metadata": {},
     "output_type": "execute_result"
    }
   ],
   "source": [
    "reviews.num_chars.skew()"
   ]
  },
  {
   "cell_type": "code",
   "execution_count": 25,
   "id": "bb8968fa",
   "metadata": {},
   "outputs": [
    {
     "data": {
      "image/png": "[encoded data removed]",
      "text/plain": [
       "<Figure size 1440x720 with 2 Axes>"
      ]
     },
     "metadata": {
      "needs_background": "light"
     },
     "output_type": "display_data"
    }
   ],
   "source": [
    "box_plot(reviews, 'num_chars')"
   ]
  },
  {
   "cell_type": "markdown",
   "id": "8ac959f0",
   "metadata": {},
   "source": [
    "The num_chars shows heavy positive skew, with outliers above 2,500.  The mean is 555.28, and the median is 396.00, which shows heavy offset.  The spread through the IQR is fairly small, with those outliers mentioned skewing the data.  "
   ]
  },
  {
   "cell_type": "code",
   "execution_count": null,
   "id": "586cf1b2",
   "metadata": {},
   "outputs": [],
   "source": []
  },
  {
   "cell_type": "markdown",
   "id": "5caa7ea4",
   "metadata": {},
   "source": [
    "### Data clean up\n",
    "(After reviewing the summary statistics and visualizaing the data)"
   ]
  },
  {
   "cell_type": "code",
   "execution_count": 26,
   "id": "e38f3b2c",
   "metadata": {},
   "outputs": [],
   "source": [
    "# drop columns that have too many zero values\n",
    "reviews.drop(['funny', 'cool'], axis=1, inplace=True)"
   ]
  },
  {
   "cell_type": "code",
   "execution_count": 27,
   "id": "d1636ed7",
   "metadata": {},
   "outputs": [],
   "source": [
    "# drop useful with values greater than 100\n",
    "reviews.drop(reviews[reviews.useful > 100].index, \n",
    "             inplace=True)"
   ]
  },
  {
   "cell_type": "code",
   "execution_count": 28,
   "id": "5764b1ae",
   "metadata": {},
   "outputs": [],
   "source": [
    "# drop num_words that are greater than 600\n",
    "reviews[reviews.num_words < 600]\n",
    "reviews.drop(reviews[reviews.num_words > 600].index, \n",
    "             inplace=True)"
   ]
  },
  {
   "cell_type": "code",
   "execution_count": 29,
   "id": "2427c9a1",
   "metadata": {},
   "outputs": [],
   "source": [
    "# drop num_chars that are greater than 600\n",
    "reviews[reviews.num_chars < 2500]\n",
    "reviews.drop(reviews[reviews.num_chars > 2500].index, \n",
    "             inplace=True)"
   ]
  },
  {
   "cell_type": "code",
   "execution_count": 30,
   "id": "0b079cf9",
   "metadata": {},
   "outputs": [],
   "source": [
    "# reset index\n",
    "reviews.reset_index(inplace=True, drop=True)\n"
   ]
  },
  {
   "cell_type": "markdown",
   "id": "5a2eb127",
   "metadata": {},
   "source": [
    "### Export data"
   ]
  },
  {
   "cell_type": "code",
   "execution_count": 31,
   "id": "9952673a",
   "metadata": {},
   "outputs": [],
   "source": [
    "# export clean data to csv\n",
    "reviews.to_csv('../../part-02/data/yelp_cleaned.csv',\n",
    "               index=False)"
   ]
  },
  {
   "cell_type": "code",
   "execution_count": 33,
   "id": "d7a06e58",
   "metadata": {},
   "outputs": [],
   "source": [
    "# import data to db\n",
    "reviews.to_sql(\n",
    "    'reviews_cleaned',\n",
    "    con=db_con,\n",
    "    if_exists = 'replace',\n",
    "    index=False\n",
    "    )"
   ]
  },
  {
   "cell_type": "code",
   "execution_count": 34,
   "id": "638b1853",
   "metadata": {},
   "outputs": [
    {
     "data": {
      "text/html": [
       "<div>\n",
       "<style scoped>\n",
       "    .dataframe tbody tr th:only-of-type {\n",
       "        vertical-align: middle;\n",
       "    }\n",
       "\n",
       "    .dataframe tbody tr th {\n",
       "        vertical-align: top;\n",
       "    }\n",
       "\n",
       "    .dataframe thead th {\n",
       "        text-align: right;\n",
       "    }\n",
       "</style>\n",
       "<table border=\"1\" class=\"dataframe\">\n",
       "  <thead>\n",
       "    <tr style=\"text-align: right;\">\n",
       "      <th></th>\n",
       "      <th>count</th>\n",
       "    </tr>\n",
       "  </thead>\n",
       "  <tbody>\n",
       "    <tr>\n",
       "      <th>0</th>\n",
       "      <td>20789</td>\n",
       "    </tr>\n",
       "  </tbody>\n",
       "</table>\n",
       "</div>"
      ],
      "text/plain": [
       "   count\n",
       "0  20789"
      ]
     },
     "execution_count": 34,
     "metadata": {},
     "output_type": "execute_result"
    }
   ],
   "source": [
    "# check numbers of rows in db\n",
    "pd.read_sql('select count(*) as count from reviews_cleaned;',\n",
    "           con=db_con)"
   ]
  },
  {
   "cell_type": "markdown",
   "id": "d3fa2a21",
   "metadata": {},
   "source": [
    "### Word tokens"
   ]
  },
  {
   "cell_type": "code",
   "execution_count": 38,
   "id": "955dac5f",
   "metadata": {},
   "outputs": [],
   "source": [
    "# stem the reviews\n",
    "stemmer = PorterStemmer()\n",
    "reviews.text = reviews.text.apply(lambda x: stemmer.stem(x))"
   ]
  },
  {
   "cell_type": "code",
   "execution_count": 39,
   "id": "c908859a",
   "metadata": {},
   "outputs": [
    {
     "data": {
      "text/plain": [
       "TfidfVectorizer(max_df=0.6, max_features=200, stop_words='english',\n",
       "                strip_accents='ascii')"
      ]
     },
     "execution_count": 39,
     "metadata": {},
     "output_type": "execute_result"
    }
   ],
   "source": [
    "# instantiate vectorizer\n",
    "tvec = TfidfVectorizer(stop_words = 'english',\n",
    "                       strip_accents = 'ascii',\n",
    "                       max_features = 200,\n",
    "                       max_df = .60,\n",
    "                       norm = 'l2'\n",
    "                      )\n",
    "tvec.fit(reviews.text)"
   ]
  },
  {
   "cell_type": "code",
   "execution_count": 40,
   "id": "cbf3a739",
   "metadata": {},
   "outputs": [],
   "source": [
    "# create vectorized dataframe\n",
    "reviews_tokens = pd.DataFrame(tvec.transform(reviews.text).todense(),\n",
    "                  columns = tvec.get_feature_names())"
   ]
  },
  {
   "cell_type": "code",
   "execution_count": 43,
   "id": "c2ecdd3d",
   "metadata": {},
   "outputs": [
    {
     "data": {
      "text/html": [
       "<div>\n",
       "<style scoped>\n",
       "    .dataframe tbody tr th:only-of-type {\n",
       "        vertical-align: middle;\n",
       "    }\n",
       "\n",
       "    .dataframe tbody tr th {\n",
       "        vertical-align: top;\n",
       "    }\n",
       "\n",
       "    .dataframe thead th {\n",
       "        text-align: right;\n",
       "    }\n",
       "</style>\n",
       "<table border=\"1\" class=\"dataframe\">\n",
       "  <thead>\n",
       "    <tr style=\"text-align: right;\">\n",
       "      <th></th>\n",
       "      <th>10</th>\n",
       "      <th>absolutely</th>\n",
       "      <th>actually</th>\n",
       "      <th>amazing</th>\n",
       "      <th>area</th>\n",
       "      <th>ask</th>\n",
       "      <th>asked</th>\n",
       "      <th>atmosphere</th>\n",
       "      <th>away</th>\n",
       "      <th>awesome</th>\n",
       "      <th>...</th>\n",
       "      <th>want</th>\n",
       "      <th>wanted</th>\n",
       "      <th>wasnt</th>\n",
       "      <th>way</th>\n",
       "      <th>went</th>\n",
       "      <th>wonderful</th>\n",
       "      <th>work</th>\n",
       "      <th>worth</th>\n",
       "      <th>years</th>\n",
       "      <th>youre</th>\n",
       "    </tr>\n",
       "  </thead>\n",
       "  <tbody>\n",
       "    <tr>\n",
       "      <th>0</th>\n",
       "      <td>0.0</td>\n",
       "      <td>0.000000</td>\n",
       "      <td>0.0</td>\n",
       "      <td>0.0</td>\n",
       "      <td>0.0</td>\n",
       "      <td>0.0</td>\n",
       "      <td>0.0</td>\n",
       "      <td>0.000000</td>\n",
       "      <td>0.0</td>\n",
       "      <td>0.0</td>\n",
       "      <td>...</td>\n",
       "      <td>0.000000</td>\n",
       "      <td>0.0</td>\n",
       "      <td>0.000000</td>\n",
       "      <td>0.0</td>\n",
       "      <td>0.0</td>\n",
       "      <td>0.0</td>\n",
       "      <td>0.0</td>\n",
       "      <td>0.0</td>\n",
       "      <td>0.0</td>\n",
       "      <td>0.0</td>\n",
       "    </tr>\n",
       "    <tr>\n",
       "      <th>1</th>\n",
       "      <td>0.0</td>\n",
       "      <td>0.589598</td>\n",
       "      <td>0.0</td>\n",
       "      <td>0.0</td>\n",
       "      <td>0.0</td>\n",
       "      <td>0.0</td>\n",
       "      <td>0.0</td>\n",
       "      <td>0.000000</td>\n",
       "      <td>0.0</td>\n",
       "      <td>0.0</td>\n",
       "      <td>...</td>\n",
       "      <td>0.000000</td>\n",
       "      <td>0.0</td>\n",
       "      <td>0.000000</td>\n",
       "      <td>0.0</td>\n",
       "      <td>0.0</td>\n",
       "      <td>0.0</td>\n",
       "      <td>0.0</td>\n",
       "      <td>0.0</td>\n",
       "      <td>0.0</td>\n",
       "      <td>0.0</td>\n",
       "    </tr>\n",
       "    <tr>\n",
       "      <th>2</th>\n",
       "      <td>0.0</td>\n",
       "      <td>0.000000</td>\n",
       "      <td>0.0</td>\n",
       "      <td>0.0</td>\n",
       "      <td>0.0</td>\n",
       "      <td>0.0</td>\n",
       "      <td>0.0</td>\n",
       "      <td>0.000000</td>\n",
       "      <td>0.0</td>\n",
       "      <td>0.0</td>\n",
       "      <td>...</td>\n",
       "      <td>0.292284</td>\n",
       "      <td>0.0</td>\n",
       "      <td>0.000000</td>\n",
       "      <td>0.0</td>\n",
       "      <td>0.0</td>\n",
       "      <td>0.0</td>\n",
       "      <td>0.0</td>\n",
       "      <td>0.0</td>\n",
       "      <td>0.0</td>\n",
       "      <td>0.0</td>\n",
       "    </tr>\n",
       "    <tr>\n",
       "      <th>3</th>\n",
       "      <td>0.0</td>\n",
       "      <td>0.000000</td>\n",
       "      <td>0.0</td>\n",
       "      <td>0.0</td>\n",
       "      <td>0.0</td>\n",
       "      <td>0.0</td>\n",
       "      <td>0.0</td>\n",
       "      <td>0.273026</td>\n",
       "      <td>0.0</td>\n",
       "      <td>0.0</td>\n",
       "      <td>...</td>\n",
       "      <td>0.000000</td>\n",
       "      <td>0.0</td>\n",
       "      <td>0.264327</td>\n",
       "      <td>0.0</td>\n",
       "      <td>0.0</td>\n",
       "      <td>0.0</td>\n",
       "      <td>0.0</td>\n",
       "      <td>0.0</td>\n",
       "      <td>0.0</td>\n",
       "      <td>0.0</td>\n",
       "    </tr>\n",
       "    <tr>\n",
       "      <th>4</th>\n",
       "      <td>0.0</td>\n",
       "      <td>0.000000</td>\n",
       "      <td>0.0</td>\n",
       "      <td>0.0</td>\n",
       "      <td>0.0</td>\n",
       "      <td>0.0</td>\n",
       "      <td>0.0</td>\n",
       "      <td>0.434320</td>\n",
       "      <td>0.0</td>\n",
       "      <td>0.0</td>\n",
       "      <td>...</td>\n",
       "      <td>0.000000</td>\n",
       "      <td>0.0</td>\n",
       "      <td>0.000000</td>\n",
       "      <td>0.0</td>\n",
       "      <td>0.0</td>\n",
       "      <td>0.0</td>\n",
       "      <td>0.0</td>\n",
       "      <td>0.0</td>\n",
       "      <td>0.0</td>\n",
       "      <td>0.0</td>\n",
       "    </tr>\n",
       "  </tbody>\n",
       "</table>\n",
       "<p>5 rows × 200 columns</p>\n",
       "</div>"
      ],
      "text/plain": [
       "    10  absolutely  actually  amazing  area  ask  asked  atmosphere  away  \\\n",
       "0  0.0    0.000000       0.0      0.0   0.0  0.0    0.0    0.000000   0.0   \n",
       "1  0.0    0.589598       0.0      0.0   0.0  0.0    0.0    0.000000   0.0   \n",
       "2  0.0    0.000000       0.0      0.0   0.0  0.0    0.0    0.000000   0.0   \n",
       "3  0.0    0.000000       0.0      0.0   0.0  0.0    0.0    0.273026   0.0   \n",
       "4  0.0    0.000000       0.0      0.0   0.0  0.0    0.0    0.434320   0.0   \n",
       "\n",
       "   awesome  ...      want  wanted     wasnt  way  went  wonderful  work  \\\n",
       "0      0.0  ...  0.000000     0.0  0.000000  0.0   0.0        0.0   0.0   \n",
       "1      0.0  ...  0.000000     0.0  0.000000  0.0   0.0        0.0   0.0   \n",
       "2      0.0  ...  0.292284     0.0  0.000000  0.0   0.0        0.0   0.0   \n",
       "3      0.0  ...  0.000000     0.0  0.264327  0.0   0.0        0.0   0.0   \n",
       "4      0.0  ...  0.000000     0.0  0.000000  0.0   0.0        0.0   0.0   \n",
       "\n",
       "   worth  years  youre  \n",
       "0    0.0    0.0    0.0  \n",
       "1    0.0    0.0    0.0  \n",
       "2    0.0    0.0    0.0  \n",
       "3    0.0    0.0    0.0  \n",
       "4    0.0    0.0    0.0  \n",
       "\n",
       "[5 rows x 200 columns]"
      ]
     },
     "execution_count": 43,
     "metadata": {},
     "output_type": "execute_result"
    }
   ],
   "source": [
    "# visualize the tokens\n",
    "reviews_tokens.head()"
   ]
  },
  {
   "cell_type": "code",
   "execution_count": 46,
   "id": "e8449447",
   "metadata": {},
   "outputs": [
    {
     "data": {
      "text/plain": [
       "2188     1.000000\n",
       "1320     0.934097\n",
       "14093    0.829410\n",
       "7536     0.820700\n",
       "4936     0.819978\n",
       "           ...   \n",
       "7308     0.000000\n",
       "7307     0.000000\n",
       "7305     0.000000\n",
       "7304     0.000000\n",
       "20788    0.000000\n",
       "Name: amazing, Length: 20789, dtype: float64"
      ]
     },
     "execution_count": 46,
     "metadata": {},
     "output_type": "execute_result"
    }
   ],
   "source": [
    "reviews_tokens.amazing.sort_values(ascending=False)"
   ]
  },
  {
   "cell_type": "code",
   "execution_count": null,
   "id": "0e91ba97",
   "metadata": {},
   "outputs": [],
   "source": []
  }
 ],
 "metadata": {
  "kernelspec": {
   "display_name": "Python 3 (ipykernel)",
   "language": "python",
   "name": "python3"
  },
  "language_info": {
   "codemirror_mode": {
    "name": "ipython",
    "version": 3
   },
   "file_extension": ".py",
   "mimetype": "text/x-python",
   "name": "python",
   "nbconvert_exporter": "python",
   "pygments_lexer": "ipython3",
   "version": "3.9.7"
  }
 },
 "nbformat": 4,
 "nbformat_minor": 5
}
