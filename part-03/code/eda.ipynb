{
 "cells": [
  {
   "cell_type": "markdown",
   "id": "32ad04cb",
   "metadata": {},
   "source": [
    "### EDA"
   ]
  },
  {
   "cell_type": "code",
   "execution_count": 1,
   "id": "2b0af310",
   "metadata": {},
   "outputs": [],
   "source": [
    "# imports\n",
    "import pandas as pd\n",
    "import sqlite3\n",
    "\n",
    "import matplotlib.pyplot as plt\n",
    "import seaborn as sns\n",
    "\n",
    "from sklearn.feature_extraction.text import TfidfVectorizer\n",
    "from nltk.stem.porter import *\n",
    "from  nltk.stem import PorterStemmer"
   ]
  },
  {
   "cell_type": "code",
   "execution_count": 2,
   "id": "cd3e9097",
   "metadata": {},
   "outputs": [],
   "source": [
    "# initialize db connection\n",
    "db_con = sqlite3.connect('../../part-02/data/yelp.db.sqlite')"
   ]
  },
  {
   "cell_type": "code",
   "execution_count": 3,
   "id": "97658f0e",
   "metadata": {},
   "outputs": [],
   "source": [
    "# initialize dataframe\n",
    "reviews = pd.DataFrame(pd.read_sql('select * from reviews;',\n",
    "           con=db_con))"
   ]
  },
  {
   "cell_type": "code",
   "execution_count": 4,
   "id": "d6d3be26",
   "metadata": {},
   "outputs": [],
   "source": [
    "\n",
    "# boxplot function\n",
    "def box_plot(df, column_name):\n",
    "    fig, (ax1,ax2) = plt.subplots(1, 2, figsize=(20, 10))\n",
    "\n",
    "    sns.boxplot(data=df[column_name], \n",
    "                ax=ax1,\n",
    "                showmeans=True, \n",
    "                width=0.5,\n",
    "                palette=('pink', 8))\n",
    "    \n",
    "    ax2.hist(df[column_name], color='pink', \n",
    "             orientation='horizontal')\n",
    "    ax1.set_title(column_name, fontsize=16)\n",
    "    ax2.set_title(column_name, fontsize=16)\n",
    "    ax1.set_facecolor('whitesmoke')\n",
    "    ax2.set_facecolor('whitesmoke');"
   ]
  },
  {
   "cell_type": "markdown",
   "id": "031f5260",
   "metadata": {},
   "source": [
    "### Review the data"
   ]
  },
  {
   "cell_type": "code",
   "execution_count": 5,
   "id": "da5d1268",
   "metadata": {},
   "outputs": [
    {
     "data": {
      "text/html": [
       "<div>\n",
       "<style scoped>\n",
       "    .dataframe tbody tr th:only-of-type {\n",
       "        vertical-align: middle;\n",
       "    }\n",
       "\n",
       "    .dataframe tbody tr th {\n",
       "        vertical-align: top;\n",
       "    }\n",
       "\n",
       "    .dataframe thead th {\n",
       "        text-align: right;\n",
       "    }\n",
       "</style>\n",
       "<table border=\"1\" class=\"dataframe\">\n",
       "  <thead>\n",
       "    <tr style=\"text-align: right;\">\n",
       "      <th></th>\n",
       "      <th>review_id</th>\n",
       "      <th>user_id</th>\n",
       "      <th>business_id</th>\n",
       "      <th>stars</th>\n",
       "      <th>useful</th>\n",
       "      <th>funny</th>\n",
       "      <th>cool</th>\n",
       "      <th>text</th>\n",
       "      <th>date</th>\n",
       "      <th>target</th>\n",
       "      <th>num_words</th>\n",
       "      <th>num_chars</th>\n",
       "    </tr>\n",
       "  </thead>\n",
       "  <tbody>\n",
       "    <tr>\n",
       "      <th>0</th>\n",
       "      <td>-P5E9BYUaK7s3PwBF5oAyg</td>\n",
       "      <td>Jha0USGDMefGFRLik_xFQg</td>\n",
       "      <td>bMratNjTG5ZFEA6hVyr-xQ</td>\n",
       "      <td>5</td>\n",
       "      <td>0</td>\n",
       "      <td>0</td>\n",
       "      <td>0</td>\n",
       "      <td>First time there and it was excellent It feels...</td>\n",
       "      <td>2017-02-19 13:32:05</td>\n",
       "      <td>0</td>\n",
       "      <td>39</td>\n",
       "      <td>212</td>\n",
       "    </tr>\n",
       "    <tr>\n",
       "      <th>1</th>\n",
       "      <td>dQ3EU6cevDqHAr_ygy1O8A</td>\n",
       "      <td>CNyXcn0c0V5CFmigqqw-Xg</td>\n",
       "      <td>oY5LFo6Yxxf32ePna6mEUQ</td>\n",
       "      <td>5</td>\n",
       "      <td>1</td>\n",
       "      <td>0</td>\n",
       "      <td>0</td>\n",
       "      <td>I absolutely love this place  Great hours impe...</td>\n",
       "      <td>2014-12-30 17:55:51</td>\n",
       "      <td>1</td>\n",
       "      <td>12</td>\n",
       "      <td>70</td>\n",
       "    </tr>\n",
       "    <tr>\n",
       "      <th>2</th>\n",
       "      <td>Pgh9POx-bH7JFggKXqXWMQ</td>\n",
       "      <td>8fL5qUckzt_nAC1uwvbr0w</td>\n",
       "      <td>uW8L6awmCyjovD9OhWPo7g</td>\n",
       "      <td>5</td>\n",
       "      <td>1</td>\n",
       "      <td>0</td>\n",
       "      <td>1</td>\n",
       "      <td>As far as I know this is the best video rental...</td>\n",
       "      <td>2008-04-30 15:49:16</td>\n",
       "      <td>1</td>\n",
       "      <td>72</td>\n",
       "      <td>360</td>\n",
       "    </tr>\n",
       "    <tr>\n",
       "      <th>3</th>\n",
       "      <td>Sgs-rER85vBaOBSPVo96xw</td>\n",
       "      <td>EIi4Fy_JW_6v7DaRDet1uw</td>\n",
       "      <td>Q1HHAb4FzrzfnnrRyA8fgg</td>\n",
       "      <td>4</td>\n",
       "      <td>0</td>\n",
       "      <td>0</td>\n",
       "      <td>0</td>\n",
       "      <td>Great atmosphere and service I dont know how o...</td>\n",
       "      <td>2015-07-28 14:26:48</td>\n",
       "      <td>0</td>\n",
       "      <td>71</td>\n",
       "      <td>320</td>\n",
       "    </tr>\n",
       "    <tr>\n",
       "      <th>4</th>\n",
       "      <td>yqJv_8CoXNb-NpaEiTY4yw</td>\n",
       "      <td>ZiI40HVbRbFE-tv2K8OQkw</td>\n",
       "      <td>45siW2fI0Cuv5ZKCS23knA</td>\n",
       "      <td>5</td>\n",
       "      <td>0</td>\n",
       "      <td>0</td>\n",
       "      <td>0</td>\n",
       "      <td>Great new location on Central Great staff and ...</td>\n",
       "      <td>2014-04-19 13:06:28</td>\n",
       "      <td>0</td>\n",
       "      <td>20</td>\n",
       "      <td>114</td>\n",
       "    </tr>\n",
       "  </tbody>\n",
       "</table>\n",
       "</div>"
      ],
      "text/plain": [
       "                review_id                 user_id             business_id  \\\n",
       "0  -P5E9BYUaK7s3PwBF5oAyg  Jha0USGDMefGFRLik_xFQg  bMratNjTG5ZFEA6hVyr-xQ   \n",
       "1  dQ3EU6cevDqHAr_ygy1O8A  CNyXcn0c0V5CFmigqqw-Xg  oY5LFo6Yxxf32ePna6mEUQ   \n",
       "2  Pgh9POx-bH7JFggKXqXWMQ  8fL5qUckzt_nAC1uwvbr0w  uW8L6awmCyjovD9OhWPo7g   \n",
       "3  Sgs-rER85vBaOBSPVo96xw  EIi4Fy_JW_6v7DaRDet1uw  Q1HHAb4FzrzfnnrRyA8fgg   \n",
       "4  yqJv_8CoXNb-NpaEiTY4yw  ZiI40HVbRbFE-tv2K8OQkw  45siW2fI0Cuv5ZKCS23knA   \n",
       "\n",
       "   stars  useful  funny  cool  \\\n",
       "0      5       0      0     0   \n",
       "1      5       1      0     0   \n",
       "2      5       1      0     1   \n",
       "3      4       0      0     0   \n",
       "4      5       0      0     0   \n",
       "\n",
       "                                                text                 date  \\\n",
       "0  First time there and it was excellent It feels...  2017-02-19 13:32:05   \n",
       "1  I absolutely love this place  Great hours impe...  2014-12-30 17:55:51   \n",
       "2  As far as I know this is the best video rental...  2008-04-30 15:49:16   \n",
       "3  Great atmosphere and service I dont know how o...  2015-07-28 14:26:48   \n",
       "4  Great new location on Central Great staff and ...  2014-04-19 13:06:28   \n",
       "\n",
       "   target  num_words  num_chars  \n",
       "0       0         39        212  \n",
       "1       1         12         70  \n",
       "2       1         72        360  \n",
       "3       0         71        320  \n",
       "4       0         20        114  "
      ]
     },
     "execution_count": 5,
     "metadata": {},
     "output_type": "execute_result"
    }
   ],
   "source": [
    "# visualize first 5 records\n",
    "reviews.head()"
   ]
  },
  {
   "cell_type": "code",
   "execution_count": 6,
   "id": "a5ce92c1",
   "metadata": {},
   "outputs": [
    {
     "data": {
      "text/plain": [
       "(21032, 12)"
      ]
     },
     "execution_count": 6,
     "metadata": {},
     "output_type": "execute_result"
    }
   ],
   "source": [
    "# check shape\n",
    "reviews.shape"
   ]
  },
  {
   "cell_type": "code",
   "execution_count": 7,
   "id": "fbed8a34",
   "metadata": {},
   "outputs": [
    {
     "data": {
      "text/plain": [
       "Index(['review_id', 'user_id', 'business_id', 'stars', 'useful', 'funny',\n",
       "       'cool', 'text', 'date', 'target', 'num_words', 'num_chars'],\n",
       "      dtype='object')"
      ]
     },
     "execution_count": 7,
     "metadata": {},
     "output_type": "execute_result"
    }
   ],
   "source": [
    "# check columns\n",
    "reviews.columns"
   ]
  },
  {
   "cell_type": "markdown",
   "id": "07993d86",
   "metadata": {},
   "source": [
    "### Summary statistics"
   ]
  },
  {
   "cell_type": "code",
   "execution_count": 8,
   "id": "45d9ed9f",
   "metadata": {},
   "outputs": [
    {
     "data": {
      "text/plain": [
       "count    21032.000000\n",
       "mean         3.747147\n",
       "std          1.485500\n",
       "min          1.000000\n",
       "25%          3.000000\n",
       "50%          4.000000\n",
       "75%          5.000000\n",
       "max          5.000000\n",
       "Name: stars, dtype: float64"
      ]
     },
     "execution_count": 8,
     "metadata": {},
     "output_type": "execute_result"
    }
   ],
   "source": [
    "# descriptive statistics\n",
    "reviews.stars.describe()"
   ]
  },
  {
   "cell_type": "code",
   "execution_count": 9,
   "id": "57582bcb",
   "metadata": {},
   "outputs": [
    {
     "data": {
      "text/plain": [
       "-0.8462207629580617"
      ]
     },
     "execution_count": 9,
     "metadata": {},
     "output_type": "execute_result"
    }
   ],
   "source": [
    "# skewness of data\n",
    "reviews.stars.skew()"
   ]
  },
  {
   "cell_type": "code",
   "execution_count": 10,
   "id": "fadada1a",
   "metadata": {},
   "outputs": [
    {
     "data": {
      "image/png": "[encoded data removed]",
      "text/plain": [
       "<Figure size 1440x720 with 2 Axes>"
      ]
     },
     "metadata": {
      "needs_background": "light"
     },
     "output_type": "display_data"
    }
   ],
   "source": [
    "# visualize the data\n",
    "box_plot(reviews, 'stars')"
   ]
  },
  {
   "cell_type": "markdown",
   "id": "4885fe98",
   "metadata": {},
   "source": [
    "The 'stars' column shows moderate negative skew.  The median and mean are separated by 1, and the spread through the IQR is relatively large."
   ]
  },
  {
   "cell_type": "code",
   "execution_count": 11,
   "id": "b0d82d3e",
   "metadata": {},
   "outputs": [
    {
     "data": {
      "text/plain": [
       "count    21032.000000\n",
       "mean         1.195036\n",
       "std          6.651468\n",
       "min          0.000000\n",
       "25%          0.000000\n",
       "50%          0.000000\n",
       "75%          1.000000\n",
       "max        840.000000\n",
       "Name: useful, dtype: float64"
      ]
     },
     "execution_count": 11,
     "metadata": {},
     "output_type": "execute_result"
    }
   ],
   "source": [
    "# descriptive statistics\n",
    "reviews.useful.describe()"
   ]
  },
  {
   "cell_type": "code",
   "execution_count": 12,
   "id": "27feecd5",
   "metadata": {},
   "outputs": [
    {
     "data": {
      "text/plain": [
       "100.26511356897612"
      ]
     },
     "execution_count": 12,
     "metadata": {},
     "output_type": "execute_result"
    }
   ],
   "source": [
    "# skewness of data\n",
    "reviews.useful.skew()"
   ]
  },
  {
   "cell_type": "code",
   "execution_count": 13,
   "id": "3e6ae043",
   "metadata": {},
   "outputs": [
    {
     "data": {
      "image/png": "[encoded data removed]",
      "text/plain": [
       "<Figure size 1440x720 with 2 Axes>"
      ]
     },
     "metadata": {
      "needs_background": "light"
     },
     "output_type": "display_data"
    }
   ],
   "source": [
    "# visualize the data\n",
    "box_plot(reviews, 'useful')"
   ]
  },
  {
   "cell_type": "markdown",
   "id": "1970b7f7",
   "metadata": {},
   "source": [
    "(Note: this was the column that the target was created from.  All values of zero got assigned zero, and every other value got assigned a one.)\n",
    "\n",
    "This data is extremely positively skewed, and requires outliers to be addressed.  Investigating the data, it looks like reviews with 'useful' greater than 100 can be dropped. The median is 0 and mean is 1.20.  The outliers are heavily impacting the IQR."
   ]
  },
  {
   "cell_type": "code",
   "execution_count": 14,
   "id": "2881e7cc",
   "metadata": {},
   "outputs": [
    {
     "data": {
      "text/plain": [
       "count    21032.000000\n",
       "mean         0.311192\n",
       "std          1.175694\n",
       "min          0.000000\n",
       "25%          0.000000\n",
       "50%          0.000000\n",
       "75%          0.000000\n",
       "max         35.000000\n",
       "Name: funny, dtype: float64"
      ]
     },
     "execution_count": 14,
     "metadata": {},
     "output_type": "execute_result"
    }
   ],
   "source": [
    "# descriptive statistics\n",
    "reviews.funny.describe()"
   ]
  },
  {
   "cell_type": "code",
   "execution_count": 15,
   "id": "ab134457",
   "metadata": {},
   "outputs": [
    {
     "data": {
      "text/plain": [
       "9.845942231214517"
      ]
     },
     "execution_count": 15,
     "metadata": {},
     "output_type": "execute_result"
    }
   ],
   "source": [
    "# sknewness of data\n",
    "reviews.funny.skew()"
   ]
  },
  {
   "cell_type": "code",
   "execution_count": 16,
   "id": "8ad64396",
   "metadata": {},
   "outputs": [
    {
     "data": {
      "image/png": "[encoded data removed]",
      "text/plain": [
       "<Figure size 1440x720 with 2 Axes>"
      ]
     },
     "metadata": {
      "needs_background": "light"
     },
     "output_type": "display_data"
    }
   ],
   "source": [
    "# visualize the data\n",
    "box_plot(reviews, 'funny')"
   ]
  },
  {
   "cell_type": "markdown",
   "id": "bb545700",
   "metadata": {},
   "source": [
    "Similary to the useful column, the funny column shows extensive positive skew, though the outlier range is less expansive than the 'useful' column.  I have elected to not deal with the outliers in this instance, as most of the values are zero. Instead, I will drop the column. \n",
    "\n",
    "The mean is 0.31, and the median is 0.  The spread is very small through the IQR, with outliers contributing to the larger area of spread.  "
   ]
  },
  {
   "cell_type": "code",
   "execution_count": 17,
   "id": "c1e6930f",
   "metadata": {},
   "outputs": [
    {
     "data": {
      "text/plain": [
       "count    21032.000000\n",
       "mean         0.484880\n",
       "std          2.717127\n",
       "min          0.000000\n",
       "25%          0.000000\n",
       "50%          0.000000\n",
       "75%          0.000000\n",
       "max        303.000000\n",
       "Name: cool, dtype: float64"
      ]
     },
     "execution_count": 17,
     "metadata": {},
     "output_type": "execute_result"
    }
   ],
   "source": [
    "# descriptive statistics\n",
    "reviews.cool.describe()"
   ]
  },
  {
   "cell_type": "code",
   "execution_count": 18,
   "id": "f4a5271e",
   "metadata": {},
   "outputs": [
    {
     "data": {
      "text/plain": [
       "69.6692554361721"
      ]
     },
     "execution_count": 18,
     "metadata": {},
     "output_type": "execute_result"
    }
   ],
   "source": [
    "# skewness of data\n",
    "reviews.cool.skew()"
   ]
  },
  {
   "cell_type": "code",
   "execution_count": 19,
   "id": "08825b39",
   "metadata": {},
   "outputs": [
    {
     "data": {
      "image/png": "[encoded data removed]",
      "text/plain": [
       "<Figure size 1440x720 with 2 Axes>"
      ]
     },
     "metadata": {
      "needs_background": "light"
     },
     "output_type": "display_data"
    }
   ],
   "source": [
    "# visualize the data\n",
    "box_plot(reviews, 'cool')"
   ]
  },
  {
   "cell_type": "markdown",
   "id": "2a9a6b2c",
   "metadata": {},
   "source": [
    "Similarly to the 'funny' column, the data is heavily positively skewed, with most of the values being zero.  I have elected to not deal with the outliers in this instance. Instead I will drop the column. \n",
    "\n"
   ]
  },
  {
   "cell_type": "code",
   "execution_count": 20,
   "id": "d8a37174",
   "metadata": {},
   "outputs": [
    {
     "data": {
      "text/plain": [
       "count    21032.000000\n",
       "mean       108.575076\n",
       "std        102.135081\n",
       "min          1.000000\n",
       "25%         43.000000\n",
       "50%         77.000000\n",
       "75%        138.000000\n",
       "max       1002.000000\n",
       "Name: num_words, dtype: float64"
      ]
     },
     "execution_count": 20,
     "metadata": {},
     "output_type": "execute_result"
    }
   ],
   "source": [
    "# descriptive statistics\n",
    "reviews.num_words.describe()"
   ]
  },
  {
   "cell_type": "code",
   "execution_count": 21,
   "id": "6f3fb4a8",
   "metadata": {},
   "outputs": [
    {
     "data": {
      "text/plain": [
       "2.7248802511452985"
      ]
     },
     "execution_count": 21,
     "metadata": {},
     "output_type": "execute_result"
    }
   ],
   "source": [
    "# skewness of data\n",
    "reviews.num_words.skew()"
   ]
  },
  {
   "cell_type": "code",
   "execution_count": 22,
   "id": "a1a55a7b",
   "metadata": {},
   "outputs": [
    {
     "data": {
      "image/png": "[encoded data removed]",
      "text/plain": [
       "<Figure size 1440x720 with 2 Axes>"
      ]
     },
     "metadata": {
      "needs_background": "light"
     },
     "output_type": "display_data"
    }
   ],
   "source": [
    "# visualize the data\n",
    "box_plot(reviews, 'num_words')"
   ]
  },
  {
   "cell_type": "markdown",
   "id": "2d42f31d",
   "metadata": {},
   "source": [
    "The mean and median are offset from each other by some degree, and the spread through the IQR is fairly small.  The data is highly positively skewed.  There are outliers which need to be dealth with, so I'm going to drop numbers of words that are > 600."
   ]
  },
  {
   "cell_type": "code",
   "execution_count": 23,
   "id": "5b1a8661",
   "metadata": {},
   "outputs": [
    {
     "data": {
      "text/plain": [
       "count    21032.000000\n",
       "mean       555.283853\n",
       "std        516.577952\n",
       "min          8.000000\n",
       "25%        223.000000\n",
       "50%        396.000000\n",
       "75%        707.000000\n",
       "max       4868.000000\n",
       "Name: num_chars, dtype: float64"
      ]
     },
     "execution_count": 23,
     "metadata": {},
     "output_type": "execute_result"
    }
   ],
   "source": [
    "# summary statistics\n",
    "reviews.num_chars.describe()"
   ]
  },
  {
   "cell_type": "code",
   "execution_count": 24,
   "id": "5a7ff422",
   "metadata": {},
   "outputs": [
    {
     "data": {
      "text/plain": [
       "2.7359704121219197"
      ]
     },
     "execution_count": 24,
     "metadata": {},
     "output_type": "execute_result"
    }
   ],
   "source": [
    "reviews.num_chars.skew()"
   ]
  },
  {
   "cell_type": "code",
   "execution_count": 25,
   "id": "32f4a5a0",
   "metadata": {},
   "outputs": [
    {
     "data": {
      "image/png": "[encoded data removed]",
      "text/plain": [
       "<Figure size 1440x720 with 2 Axes>"
      ]
     },
     "metadata": {
      "needs_background": "light"
     },
     "output_type": "display_data"
    }
   ],
   "source": [
    "box_plot(reviews, 'num_chars')"
   ]
  },
  {
   "cell_type": "markdown",
   "id": "723203ee",
   "metadata": {},
   "source": [
    "The num_chars shows heavy positive skew, with outliers above 2,500.  The mean is 555.28, and the median is 396.00, which shows heavy offset.  The spread through the IQR is fairly small, with those outliers mentioned skewing the data.  "
   ]
  },
  {
   "cell_type": "code",
   "execution_count": null,
   "id": "ecac2558",
   "metadata": {},
   "outputs": [],
   "source": []
  },
  {
   "cell_type": "markdown",
   "id": "0c702e7e",
   "metadata": {},
   "source": [
    "### Data clean up\n",
    "(After reviewing the summary statistics and visualizaing the data)"
   ]
  },
  {
   "cell_type": "code",
   "execution_count": 26,
   "id": "6036e3c4",
   "metadata": {},
   "outputs": [],
   "source": [
    "# drop columns that have too many zero values\n",
    "reviews.drop(['funny', 'cool'], axis=1, inplace=True)"
   ]
  },
  {
   "cell_type": "code",
   "execution_count": 27,
   "id": "c3852671",
   "metadata": {},
   "outputs": [],
   "source": [
    "# drop useful with values greater than 100\n",
    "reviews.drop(reviews[reviews.useful > 100].index, \n",
    "             inplace=True)"
   ]
  },
  {
   "cell_type": "code",
   "execution_count": 28,
   "id": "02e5593e",
   "metadata": {},
   "outputs": [],
   "source": [
    "# drop num_words that are greater than 600\n",
    "reviews[reviews.num_words < 600]\n",
    "reviews.drop(reviews[reviews.num_words > 600].index, \n",
    "             inplace=True)"
   ]
  },
  {
   "cell_type": "code",
   "execution_count": 29,
   "id": "30e5c1dd",
   "metadata": {},
   "outputs": [],
   "source": [
    "# drop num_chars that are greater than 2,500\n",
    "reviews[reviews.num_chars < 2500]\n",
    "reviews.drop(reviews[reviews.num_chars > 2500].index, \n",
    "             inplace=True)"
   ]
  },
  {
   "cell_type": "code",
   "execution_count": 30,
   "id": "1e4460bd",
   "metadata": {},
   "outputs": [],
   "source": [
    "# reset index\n",
    "reviews.reset_index(inplace=True, drop=True)\n"
   ]
  },
  {
   "cell_type": "markdown",
   "id": "259e3108",
   "metadata": {},
   "source": [
    "### Export data"
   ]
  },
  {
   "cell_type": "code",
   "execution_count": 31,
   "id": "a8856fa4",
   "metadata": {},
   "outputs": [],
   "source": [
    "# export clean data to csv\n",
    "reviews.to_csv('../../part-02/data/yelp_cleaned.csv',\n",
    "               index=False)"
   ]
  },
  {
   "cell_type": "code",
   "execution_count": 32,
   "id": "67cceede",
   "metadata": {},
   "outputs": [],
   "source": [
    "# import data to db\n",
    "reviews.to_sql(\n",
    "    'reviews_cleaned',\n",
    "    con=db_con,\n",
    "    if_exists = 'replace',\n",
    "    index=False\n",
    "    )"
   ]
  },
  {
   "cell_type": "code",
   "execution_count": 33,
   "id": "f1005ec0",
   "metadata": {},
   "outputs": [
    {
     "data": {
      "text/html": [
       "<div>\n",
       "<style scoped>\n",
       "    .dataframe tbody tr th:only-of-type {\n",
       "        vertical-align: middle;\n",
       "    }\n",
       "\n",
       "    .dataframe tbody tr th {\n",
       "        vertical-align: top;\n",
       "    }\n",
       "\n",
       "    .dataframe thead th {\n",
       "        text-align: right;\n",
       "    }\n",
       "</style>\n",
       "<table border=\"1\" class=\"dataframe\">\n",
       "  <thead>\n",
       "    <tr style=\"text-align: right;\">\n",
       "      <th></th>\n",
       "      <th>count</th>\n",
       "    </tr>\n",
       "  </thead>\n",
       "  <tbody>\n",
       "    <tr>\n",
       "      <th>0</th>\n",
       "      <td>20789</td>\n",
       "    </tr>\n",
       "  </tbody>\n",
       "</table>\n",
       "</div>"
      ],
      "text/plain": [
       "   count\n",
       "0  20789"
      ]
     },
     "execution_count": 33,
     "metadata": {},
     "output_type": "execute_result"
    }
   ],
   "source": [
    "# check numbers of rows in db\n",
    "pd.read_sql('select count(*) as count from reviews_cleaned;',\n",
    "           con=db_con)"
   ]
  },
  {
   "cell_type": "markdown",
   "id": "67367eb0",
   "metadata": {},
   "source": [
    "### Word vectors"
   ]
  },
  {
   "cell_type": "code",
   "execution_count": 34,
   "id": "9a5d8a8f",
   "metadata": {},
   "outputs": [],
   "source": [
    "# stem the reviews\n",
    "stemmer = PorterStemmer()\n",
    "reviews.text = reviews.text.apply(lambda x: stemmer.stem(x))"
   ]
  },
  {
   "cell_type": "code",
   "execution_count": 35,
   "id": "6866cb2e",
   "metadata": {},
   "outputs": [
    {
     "data": {
      "text/plain": [
       "TfidfVectorizer(max_df=0.6, max_features=50, stop_words='english',\n",
       "                strip_accents='ascii')"
      ]
     },
     "execution_count": 35,
     "metadata": {},
     "output_type": "execute_result"
    }
   ],
   "source": [
    "# instantiate vectorizer\n",
    "tvec = TfidfVectorizer(stop_words = 'english',\n",
    "                       strip_accents = 'ascii',\n",
    "                       max_features = 50,\n",
    "                       max_df = .60,\n",
    "                       norm = 'l2'\n",
    "                      )\n",
    "tvec.fit(reviews.text)"
   ]
  },
  {
   "cell_type": "code",
   "execution_count": 36,
   "id": "5243b970",
   "metadata": {},
   "outputs": [],
   "source": [
    "# create vectorized dataframe\n",
    "reviews_vectorized = pd.DataFrame(tvec.transform(reviews.text).todense(),\n",
    "                  columns = tvec.get_feature_names())"
   ]
  },
  {
   "cell_type": "code",
   "execution_count": 37,
   "id": "4c22e415",
   "metadata": {},
   "outputs": [
    {
     "data": {
      "text/html": [
       "<div>\n",
       "<style scoped>\n",
       "    .dataframe tbody tr th:only-of-type {\n",
       "        vertical-align: middle;\n",
       "    }\n",
       "\n",
       "    .dataframe tbody tr th {\n",
       "        vertical-align: top;\n",
       "    }\n",
       "\n",
       "    .dataframe thead th {\n",
       "        text-align: right;\n",
       "    }\n",
       "</style>\n",
       "<table border=\"1\" class=\"dataframe\">\n",
       "  <thead>\n",
       "    <tr style=\"text-align: right;\">\n",
       "      <th></th>\n",
       "      <th>amazing</th>\n",
       "      <th>area</th>\n",
       "      <th>bar</th>\n",
       "      <th>best</th>\n",
       "      <th>came</th>\n",
       "      <th>chicken</th>\n",
       "      <th>come</th>\n",
       "      <th>day</th>\n",
       "      <th>definitely</th>\n",
       "      <th>delicious</th>\n",
       "      <th>...</th>\n",
       "      <th>restaurant</th>\n",
       "      <th>right</th>\n",
       "      <th>said</th>\n",
       "      <th>service</th>\n",
       "      <th>staff</th>\n",
       "      <th>time</th>\n",
       "      <th>try</th>\n",
       "      <th>wait</th>\n",
       "      <th>way</th>\n",
       "      <th>went</th>\n",
       "    </tr>\n",
       "  </thead>\n",
       "  <tbody>\n",
       "    <tr>\n",
       "      <th>0</th>\n",
       "      <td>0.0</td>\n",
       "      <td>0.0</td>\n",
       "      <td>0.0</td>\n",
       "      <td>0.00000</td>\n",
       "      <td>0.0</td>\n",
       "      <td>0.0</td>\n",
       "      <td>0.434129</td>\n",
       "      <td>0.0</td>\n",
       "      <td>0.411026</td>\n",
       "      <td>0.0</td>\n",
       "      <td>...</td>\n",
       "      <td>0.0</td>\n",
       "      <td>0.0</td>\n",
       "      <td>0.0</td>\n",
       "      <td>0.000000</td>\n",
       "      <td>0.000000</td>\n",
       "      <td>0.327505</td>\n",
       "      <td>0.0</td>\n",
       "      <td>0.0</td>\n",
       "      <td>0.0</td>\n",
       "      <td>0.0</td>\n",
       "    </tr>\n",
       "    <tr>\n",
       "      <th>1</th>\n",
       "      <td>0.0</td>\n",
       "      <td>0.0</td>\n",
       "      <td>0.0</td>\n",
       "      <td>0.00000</td>\n",
       "      <td>0.0</td>\n",
       "      <td>0.0</td>\n",
       "      <td>0.000000</td>\n",
       "      <td>0.0</td>\n",
       "      <td>0.000000</td>\n",
       "      <td>0.0</td>\n",
       "      <td>...</td>\n",
       "      <td>0.0</td>\n",
       "      <td>0.0</td>\n",
       "      <td>0.0</td>\n",
       "      <td>0.000000</td>\n",
       "      <td>0.000000</td>\n",
       "      <td>0.000000</td>\n",
       "      <td>0.0</td>\n",
       "      <td>0.0</td>\n",
       "      <td>0.0</td>\n",
       "      <td>0.0</td>\n",
       "    </tr>\n",
       "    <tr>\n",
       "      <th>2</th>\n",
       "      <td>0.0</td>\n",
       "      <td>0.0</td>\n",
       "      <td>0.0</td>\n",
       "      <td>0.64235</td>\n",
       "      <td>0.0</td>\n",
       "      <td>0.0</td>\n",
       "      <td>0.000000</td>\n",
       "      <td>0.0</td>\n",
       "      <td>0.000000</td>\n",
       "      <td>0.0</td>\n",
       "      <td>...</td>\n",
       "      <td>0.0</td>\n",
       "      <td>0.0</td>\n",
       "      <td>0.0</td>\n",
       "      <td>0.000000</td>\n",
       "      <td>0.324895</td>\n",
       "      <td>0.000000</td>\n",
       "      <td>0.0</td>\n",
       "      <td>0.0</td>\n",
       "      <td>0.0</td>\n",
       "      <td>0.0</td>\n",
       "    </tr>\n",
       "    <tr>\n",
       "      <th>3</th>\n",
       "      <td>0.0</td>\n",
       "      <td>0.0</td>\n",
       "      <td>0.0</td>\n",
       "      <td>0.27631</td>\n",
       "      <td>0.0</td>\n",
       "      <td>0.0</td>\n",
       "      <td>0.000000</td>\n",
       "      <td>0.0</td>\n",
       "      <td>0.000000</td>\n",
       "      <td>0.0</td>\n",
       "      <td>...</td>\n",
       "      <td>0.0</td>\n",
       "      <td>0.0</td>\n",
       "      <td>0.0</td>\n",
       "      <td>0.222406</td>\n",
       "      <td>0.000000</td>\n",
       "      <td>0.234791</td>\n",
       "      <td>0.0</td>\n",
       "      <td>0.0</td>\n",
       "      <td>0.0</td>\n",
       "      <td>0.0</td>\n",
       "    </tr>\n",
       "    <tr>\n",
       "      <th>4</th>\n",
       "      <td>0.0</td>\n",
       "      <td>0.0</td>\n",
       "      <td>0.0</td>\n",
       "      <td>0.00000</td>\n",
       "      <td>0.0</td>\n",
       "      <td>0.0</td>\n",
       "      <td>0.000000</td>\n",
       "      <td>0.0</td>\n",
       "      <td>0.000000</td>\n",
       "      <td>0.0</td>\n",
       "      <td>...</td>\n",
       "      <td>0.0</td>\n",
       "      <td>0.0</td>\n",
       "      <td>0.0</td>\n",
       "      <td>0.000000</td>\n",
       "      <td>0.421415</td>\n",
       "      <td>0.000000</td>\n",
       "      <td>0.0</td>\n",
       "      <td>0.0</td>\n",
       "      <td>0.0</td>\n",
       "      <td>0.0</td>\n",
       "    </tr>\n",
       "  </tbody>\n",
       "</table>\n",
       "<p>5 rows × 50 columns</p>\n",
       "</div>"
      ],
      "text/plain": [
       "   amazing  area  bar     best  came  chicken      come  day  definitely  \\\n",
       "0      0.0   0.0  0.0  0.00000   0.0      0.0  0.434129  0.0    0.411026   \n",
       "1      0.0   0.0  0.0  0.00000   0.0      0.0  0.000000  0.0    0.000000   \n",
       "2      0.0   0.0  0.0  0.64235   0.0      0.0  0.000000  0.0    0.000000   \n",
       "3      0.0   0.0  0.0  0.27631   0.0      0.0  0.000000  0.0    0.000000   \n",
       "4      0.0   0.0  0.0  0.00000   0.0      0.0  0.000000  0.0    0.000000   \n",
       "\n",
       "   delicious  ...  restaurant  right  said   service     staff      time  try  \\\n",
       "0        0.0  ...         0.0    0.0   0.0  0.000000  0.000000  0.327505  0.0   \n",
       "1        0.0  ...         0.0    0.0   0.0  0.000000  0.000000  0.000000  0.0   \n",
       "2        0.0  ...         0.0    0.0   0.0  0.000000  0.324895  0.000000  0.0   \n",
       "3        0.0  ...         0.0    0.0   0.0  0.222406  0.000000  0.234791  0.0   \n",
       "4        0.0  ...         0.0    0.0   0.0  0.000000  0.421415  0.000000  0.0   \n",
       "\n",
       "   wait  way  went  \n",
       "0   0.0  0.0   0.0  \n",
       "1   0.0  0.0   0.0  \n",
       "2   0.0  0.0   0.0  \n",
       "3   0.0  0.0   0.0  \n",
       "4   0.0  0.0   0.0  \n",
       "\n",
       "[5 rows x 50 columns]"
      ]
     },
     "execution_count": 37,
     "metadata": {},
     "output_type": "execute_result"
    }
   ],
   "source": [
    "# visualize the tokens\n",
    "reviews_vectorized.head()"
   ]
  },
  {
   "cell_type": "code",
   "execution_count": 38,
   "id": "f1cafe07",
   "metadata": {},
   "outputs": [],
   "source": [
    "# get column names for tokens\n",
    "vector_cols = list(reviews_vectorized.columns)"
   ]
  },
  {
   "cell_type": "code",
   "execution_count": 39,
   "id": "c9b29af2",
   "metadata": {},
   "outputs": [
    {
     "data": {
      "text/plain": [
       "count    20789.000000\n",
       "mean         0.043194\n",
       "std          0.137532\n",
       "min          0.000000\n",
       "25%          0.000000\n",
       "50%          0.000000\n",
       "75%          0.000000\n",
       "max          1.000000\n",
       "Name: amazing, dtype: float64"
      ]
     },
     "execution_count": 39,
     "metadata": {},
     "output_type": "execute_result"
    }
   ],
   "source": [
    "reviews_vectorized[vector_cols[0]].describe()"
   ]
  },
  {
   "cell_type": "code",
   "execution_count": 40,
   "id": "d4d34c73",
   "metadata": {},
   "outputs": [
    {
     "data": {
      "text/plain": [
       "3.452791729401451"
      ]
     },
     "execution_count": 40,
     "metadata": {},
     "output_type": "execute_result"
    }
   ],
   "source": [
    "reviews_vectorized[vector_cols[0]].skew()"
   ]
  },
  {
   "cell_type": "code",
   "execution_count": 41,
   "id": "84f71c2b",
   "metadata": {},
   "outputs": [
    {
     "data": {
      "image/png": "[encoded data removed]",
      "text/plain": [
       "<Figure size 1440x720 with 2 Axes>"
      ]
     },
     "metadata": {
      "needs_background": "light"
     },
     "output_type": "display_data"
    }
   ],
   "source": [
    "box_plot(reviews_vectorized, vector_cols[0])"
   ]
  },
  {
   "cell_type": "markdown",
   "id": "b7f26527",
   "metadata": {},
   "source": [
    "The median for 'amazing' is 0, while the mean is offset from the median.  The data is highly positively skewed. Spread in the IQR is very small, with a large number of outliers. "
   ]
  },
  {
   "cell_type": "code",
   "execution_count": 42,
   "id": "04bb89c0",
   "metadata": {},
   "outputs": [
    {
     "data": {
      "text/plain": [
       "count    20789.000000\n",
       "mean         0.029883\n",
       "std          0.111109\n",
       "min          0.000000\n",
       "25%          0.000000\n",
       "50%          0.000000\n",
       "75%          0.000000\n",
       "max          1.000000\n",
       "Name: area, dtype: float64"
      ]
     },
     "execution_count": 42,
     "metadata": {},
     "output_type": "execute_result"
    }
   ],
   "source": [
    "reviews_vectorized[vector_cols[1]].describe()"
   ]
  },
  {
   "cell_type": "code",
   "execution_count": 43,
   "id": "7ac56cd5",
   "metadata": {},
   "outputs": [
    {
     "data": {
      "text/plain": [
       "4.08934632047955"
      ]
     },
     "execution_count": 43,
     "metadata": {},
     "output_type": "execute_result"
    }
   ],
   "source": [
    "reviews_vectorized[vector_cols[1]].skew()"
   ]
  },
  {
   "cell_type": "code",
   "execution_count": 44,
   "id": "640ba78a",
   "metadata": {},
   "outputs": [
    {
     "data": {
      "image/png": "[encoded data removed]",
      "text/plain": [
       "<Figure size 1440x720 with 2 Axes>"
      ]
     },
     "metadata": {
      "needs_background": "light"
     },
     "output_type": "display_data"
    }
   ],
   "source": [
    "box_plot(reviews_vectorized, vector_cols[1])"
   ]
  },
  {
   "cell_type": "markdown",
   "id": "8ccfb35e",
   "metadata": {},
   "source": [
    "The median for 'area' is 0, while the mean is offset from the median.  The data is highly positively skewed. Spread in the IQR is very small, with a large number of outliers. "
   ]
  },
  {
   "cell_type": "code",
   "execution_count": 45,
   "id": "6a33807b",
   "metadata": {},
   "outputs": [
    {
     "data": {
      "text/plain": [
       "count    20789.000000\n",
       "mean         0.032126\n",
       "std          0.122926\n",
       "min          0.000000\n",
       "25%          0.000000\n",
       "50%          0.000000\n",
       "75%          0.000000\n",
       "max          1.000000\n",
       "Name: bar, dtype: float64"
      ]
     },
     "execution_count": 45,
     "metadata": {},
     "output_type": "execute_result"
    }
   ],
   "source": [
    "reviews_vectorized[vector_cols[2]].describe()"
   ]
  },
  {
   "cell_type": "code",
   "execution_count": 46,
   "id": "e23ce0f0",
   "metadata": {},
   "outputs": [
    {
     "data": {
      "text/plain": [
       "4.229639886319445"
      ]
     },
     "execution_count": 46,
     "metadata": {},
     "output_type": "execute_result"
    }
   ],
   "source": [
    "reviews_vectorized[vector_cols[2]].skew()"
   ]
  },
  {
   "cell_type": "code",
   "execution_count": 47,
   "id": "ac2fd643",
   "metadata": {},
   "outputs": [
    {
     "data": {
      "image/png": "[encoded data removed]",
      "text/plain": [
       "<Figure size 1440x720 with 2 Axes>"
      ]
     },
     "metadata": {
      "needs_background": "light"
     },
     "output_type": "display_data"
    }
   ],
   "source": [
    "box_plot(reviews_vectorized, vector_cols[2])"
   ]
  },
  {
   "cell_type": "markdown",
   "id": "15334458",
   "metadata": {},
   "source": [
    "The median for 'bar' is 0, while the mean is offset from the median.  The data is highly positively skewed. Spread in the IQR is very small, with a large number of outliers. "
   ]
  },
  {
   "cell_type": "code",
   "execution_count": 48,
   "id": "0a5989ac",
   "metadata": {},
   "outputs": [
    {
     "data": {
      "text/plain": [
       "count    20789.000000\n",
       "mean         0.054312\n",
       "std          0.146026\n",
       "min          0.000000\n",
       "25%          0.000000\n",
       "50%          0.000000\n",
       "75%          0.000000\n",
       "max          1.000000\n",
       "Name: best, dtype: float64"
      ]
     },
     "execution_count": 48,
     "metadata": {},
     "output_type": "execute_result"
    }
   ],
   "source": [
    "reviews_vectorized[vector_cols[3]].describe()"
   ]
  },
  {
   "cell_type": "code",
   "execution_count": 49,
   "id": "20aab5a9",
   "metadata": {},
   "outputs": [
    {
     "data": {
      "text/plain": [
       "2.968409895905177"
      ]
     },
     "execution_count": 49,
     "metadata": {},
     "output_type": "execute_result"
    }
   ],
   "source": [
    "reviews_vectorized[vector_cols[3]].skew()"
   ]
  },
  {
   "cell_type": "code",
   "execution_count": 50,
   "id": "e04fa843",
   "metadata": {},
   "outputs": [
    {
     "data": {
      "image/png": "[encoded data removed]",
      "text/plain": [
       "<Figure size 1440x720 with 2 Axes>"
      ]
     },
     "metadata": {
      "needs_background": "light"
     },
     "output_type": "display_data"
    }
   ],
   "source": [
    "box_plot(reviews_vectorized, vector_cols[3])"
   ]
  },
  {
   "cell_type": "markdown",
   "id": "81394502",
   "metadata": {},
   "source": [
    "The median for 'best' is 0, while the mean is offset from the median.  The data is highly positively skewed. Spread in the IQR is very small, with a large number of outliers. "
   ]
  },
  {
   "cell_type": "code",
   "execution_count": 51,
   "id": "81a705f9",
   "metadata": {},
   "outputs": [
    {
     "data": {
      "text/plain": [
       "count    20789.000000\n",
       "mean         0.038529\n",
       "std          0.116316\n",
       "min          0.000000\n",
       "25%          0.000000\n",
       "50%          0.000000\n",
       "75%          0.000000\n",
       "max          1.000000\n",
       "Name: came, dtype: float64"
      ]
     },
     "execution_count": 51,
     "metadata": {},
     "output_type": "execute_result"
    }
   ],
   "source": [
    "reviews_vectorized[vector_cols[4]].describe()"
   ]
  },
  {
   "cell_type": "code",
   "execution_count": 52,
   "id": "ba910be1",
   "metadata": {},
   "outputs": [
    {
     "data": {
      "text/plain": [
       "3.2938888540541127"
      ]
     },
     "execution_count": 52,
     "metadata": {},
     "output_type": "execute_result"
    }
   ],
   "source": [
    "reviews_vectorized[vector_cols[4]].skew()"
   ]
  },
  {
   "cell_type": "code",
   "execution_count": 53,
   "id": "cc90e9c3",
   "metadata": {},
   "outputs": [
    {
     "data": {
      "image/png": "[encoded data removed]",
      "text/plain": [
       "<Figure size 1440x720 with 2 Axes>"
      ]
     },
     "metadata": {
      "needs_background": "light"
     },
     "output_type": "display_data"
    }
   ],
   "source": [
    "box_plot(reviews_vectorized, vector_cols[4])"
   ]
  },
  {
   "cell_type": "markdown",
   "id": "e9a55154",
   "metadata": {},
   "source": [
    "The median for 'came' is 0, while the mean is offset from the median.  The data is highly positively skewed. Spread in the IQR is very small, with a large number of outliers. "
   ]
  },
  {
   "cell_type": "code",
   "execution_count": 54,
   "id": "b88b53cd",
   "metadata": {},
   "outputs": [
    {
     "data": {
      "text/plain": [
       "count    20789.000000\n",
       "mean         0.039164\n",
       "std          0.136523\n",
       "min          0.000000\n",
       "25%          0.000000\n",
       "50%          0.000000\n",
       "75%          0.000000\n",
       "max          1.000000\n",
       "Name: chicken, dtype: float64"
      ]
     },
     "execution_count": 54,
     "metadata": {},
     "output_type": "execute_result"
    }
   ],
   "source": [
    "reviews_vectorized[vector_cols[5]].describe()"
   ]
  },
  {
   "cell_type": "code",
   "execution_count": 55,
   "id": "e86ebab6",
   "metadata": {},
   "outputs": [
    {
     "data": {
      "text/plain": [
       "3.8144354837679164"
      ]
     },
     "execution_count": 55,
     "metadata": {},
     "output_type": "execute_result"
    }
   ],
   "source": [
    "reviews_vectorized[vector_cols[5]].skew()"
   ]
  },
  {
   "cell_type": "code",
   "execution_count": 56,
   "id": "23417d47",
   "metadata": {},
   "outputs": [
    {
     "data": {
      "image/png": "[encoded data removed]",
      "text/plain": [
       "<Figure size 1440x720 with 2 Axes>"
      ]
     },
     "metadata": {
      "needs_background": "light"
     },
     "output_type": "display_data"
    }
   ],
   "source": [
    "box_plot(reviews_vectorized, vector_cols[5])"
   ]
  },
  {
   "cell_type": "markdown",
   "id": "8fc34967",
   "metadata": {},
   "source": [
    "The median for 'chicken' is 0, while the mean is offset from the median.  The data is highly positively skewed. Spread in the IQR is very small, with a large number of outliers. "
   ]
  },
  {
   "cell_type": "code",
   "execution_count": 57,
   "id": "61766e83",
   "metadata": {},
   "outputs": [
    {
     "data": {
      "text/plain": [
       "count    20789.000000\n",
       "mean         0.035852\n",
       "std          0.117464\n",
       "min          0.000000\n",
       "25%          0.000000\n",
       "50%          0.000000\n",
       "75%          0.000000\n",
       "max          1.000000\n",
       "Name: come, dtype: float64"
      ]
     },
     "execution_count": 57,
     "metadata": {},
     "output_type": "execute_result"
    }
   ],
   "source": [
    "reviews_vectorized[vector_cols[6]].describe()"
   ]
  },
  {
   "cell_type": "code",
   "execution_count": 58,
   "id": "ddf510f5",
   "metadata": {},
   "outputs": [
    {
     "data": {
      "text/plain": [
       "3.6883211306391543"
      ]
     },
     "execution_count": 58,
     "metadata": {},
     "output_type": "execute_result"
    }
   ],
   "source": [
    "reviews_vectorized[vector_cols[6]].skew()"
   ]
  },
  {
   "cell_type": "code",
   "execution_count": 59,
   "id": "6351ce06",
   "metadata": {},
   "outputs": [
    {
     "data": {
      "image/png": "[encoded data removed]",
      "text/plain": [
       "<Figure size 1440x720 with 2 Axes>"
      ]
     },
     "metadata": {
      "needs_background": "light"
     },
     "output_type": "display_data"
    }
   ],
   "source": [
    "box_plot(reviews_vectorized, vector_cols[6])"
   ]
  },
  {
   "cell_type": "markdown",
   "id": "80db375e",
   "metadata": {},
   "source": [
    "The median for 'come' is 0, while the mean is offset from the median.  The data is highly positively skewed. Spread in the IQR is very small, with a large number of outliers. "
   ]
  },
  {
   "cell_type": "code",
   "execution_count": 60,
   "id": "c450157b",
   "metadata": {},
   "outputs": [
    {
     "data": {
      "text/plain": [
       "count    20789.000000\n",
       "mean         0.033341\n",
       "std          0.118451\n",
       "min          0.000000\n",
       "25%          0.000000\n",
       "50%          0.000000\n",
       "75%          0.000000\n",
       "max          1.000000\n",
       "Name: day, dtype: float64"
      ]
     },
     "execution_count": 60,
     "metadata": {},
     "output_type": "execute_result"
    }
   ],
   "source": [
    "reviews_vectorized[vector_cols[7]].describe()"
   ]
  },
  {
   "cell_type": "code",
   "execution_count": 61,
   "id": "af9c10cf",
   "metadata": {},
   "outputs": [
    {
     "data": {
      "text/plain": [
       "3.9694528762255428"
      ]
     },
     "execution_count": 61,
     "metadata": {},
     "output_type": "execute_result"
    }
   ],
   "source": [
    "reviews_vectorized[vector_cols[7]].skew()"
   ]
  },
  {
   "cell_type": "code",
   "execution_count": 62,
   "id": "6add7c94",
   "metadata": {},
   "outputs": [
    {
     "data": {
      "image/png": "[encoded data removed]",
      "text/plain": [
       "<Figure size 1440x720 with 2 Axes>"
      ]
     },
     "metadata": {
      "needs_background": "light"
     },
     "output_type": "display_data"
    }
   ],
   "source": [
    "box_plot(reviews_vectorized, vector_cols[7])"
   ]
  },
  {
   "cell_type": "markdown",
   "id": "5f626a1e",
   "metadata": {},
   "source": [
    "The median for 'day' is 0, while the mean is offset from the median.  The data is highly positively skewed. Spread in the IQR is very small, with a large number of outliers. "
   ]
  },
  {
   "cell_type": "code",
   "execution_count": 63,
   "id": "12105289",
   "metadata": {},
   "outputs": [
    {
     "data": {
      "text/plain": [
       "count    20789.000000\n",
       "mean         0.042789\n",
       "std          0.126074\n",
       "min          0.000000\n",
       "25%          0.000000\n",
       "50%          0.000000\n",
       "75%          0.000000\n",
       "max          1.000000\n",
       "Name: definitely, dtype: float64"
      ]
     },
     "execution_count": 63,
     "metadata": {},
     "output_type": "execute_result"
    }
   ],
   "source": [
    "reviews_vectorized[vector_cols[8]].describe()"
   ]
  },
  {
   "cell_type": "code",
   "execution_count": 64,
   "id": "e798c3b5",
   "metadata": {},
   "outputs": [
    {
     "data": {
      "text/plain": [
       "3.1847537304348985"
      ]
     },
     "execution_count": 64,
     "metadata": {},
     "output_type": "execute_result"
    }
   ],
   "source": [
    "reviews_vectorized[vector_cols[8]].skew()"
   ]
  },
  {
   "cell_type": "code",
   "execution_count": 65,
   "id": "28127122",
   "metadata": {},
   "outputs": [
    {
     "data": {
      "image/png": "[encoded data removed]",
      "text/plain": [
       "<Figure size 1440x720 with 2 Axes>"
      ]
     },
     "metadata": {
      "needs_background": "light"
     },
     "output_type": "display_data"
    }
   ],
   "source": [
    "box_plot(reviews_vectorized, vector_cols[8])"
   ]
  },
  {
   "cell_type": "markdown",
   "id": "ae44996a",
   "metadata": {},
   "source": [
    "The median for 'definitely' is 0, while the mean is offset from the median.  The data is highly positively skewed. Spread in the IQR is very small, with a large number of outliers. "
   ]
  },
  {
   "cell_type": "code",
   "execution_count": 66,
   "id": "ae0bcd2b",
   "metadata": {},
   "outputs": [
    {
     "data": {
      "text/plain": [
       "count    20789.000000\n",
       "mean         0.044545\n",
       "std          0.130702\n",
       "min          0.000000\n",
       "25%          0.000000\n",
       "50%          0.000000\n",
       "75%          0.000000\n",
       "max          1.000000\n",
       "Name: delicious, dtype: float64"
      ]
     },
     "execution_count": 66,
     "metadata": {},
     "output_type": "execute_result"
    }
   ],
   "source": [
    "reviews_vectorized[vector_cols[9]].describe()"
   ]
  },
  {
   "cell_type": "code",
   "execution_count": 67,
   "id": "2a547012",
   "metadata": {},
   "outputs": [
    {
     "data": {
      "text/plain": [
       "3.153232116954352"
      ]
     },
     "execution_count": 67,
     "metadata": {},
     "output_type": "execute_result"
    }
   ],
   "source": [
    "reviews_vectorized[vector_cols[9]].skew()"
   ]
  },
  {
   "cell_type": "code",
   "execution_count": 68,
   "id": "2626388f",
   "metadata": {},
   "outputs": [
    {
     "data": {
      "image/png": "[encoded data removed]",
      "text/plain": [
       "<Figure size 1440x720 with 2 Axes>"
      ]
     },
     "metadata": {
      "needs_background": "light"
     },
     "output_type": "display_data"
    }
   ],
   "source": [
    "box_plot(reviews_vectorized, vector_cols[9])"
   ]
  },
  {
   "cell_type": "markdown",
   "id": "285efba2",
   "metadata": {},
   "source": [
    "The median for 'delicious' is 0, while the mean is offset from the median.  The data is highly positively skewed. Spread in the IQR is very small, with a large number of outliers. "
   ]
  },
  {
   "cell_type": "code",
   "execution_count": 69,
   "id": "b33568b5",
   "metadata": {},
   "outputs": [
    {
     "data": {
      "text/plain": [
       "count    20789.000000\n",
       "mean         0.041389\n",
       "std          0.128543\n",
       "min          0.000000\n",
       "25%          0.000000\n",
       "50%          0.000000\n",
       "75%          0.000000\n",
       "max          1.000000\n",
       "Name: did, dtype: float64"
      ]
     },
     "execution_count": 69,
     "metadata": {},
     "output_type": "execute_result"
    }
   ],
   "source": [
    "reviews_vectorized[vector_cols[10]].describe()"
   ]
  },
  {
   "cell_type": "code",
   "execution_count": 70,
   "id": "cf945dec",
   "metadata": {},
   "outputs": [
    {
     "data": {
      "text/plain": [
       "3.4924167305540603"
      ]
     },
     "execution_count": 70,
     "metadata": {},
     "output_type": "execute_result"
    }
   ],
   "source": [
    "reviews_vectorized[vector_cols[10]].skew()"
   ]
  },
  {
   "cell_type": "code",
   "execution_count": 71,
   "id": "a0f5e325",
   "metadata": {},
   "outputs": [
    {
     "data": {
      "image/png": "[encoded data removed]",
      "text/plain": [
       "<Figure size 1440x720 with 2 Axes>"
      ]
     },
     "metadata": {
      "needs_background": "light"
     },
     "output_type": "display_data"
    }
   ],
   "source": [
    "box_plot(reviews_vectorized, vector_cols[10])"
   ]
  },
  {
   "cell_type": "markdown",
   "id": "4fa817cf",
   "metadata": {},
   "source": [
    "The median for 'did' is 0, while the mean is offset from the median.  The data is highly positively skewed. Spread in the IQR is very small, with a large number of outliers. "
   ]
  },
  {
   "cell_type": "code",
   "execution_count": 72,
   "id": "8a5904c8",
   "metadata": {},
   "outputs": [
    {
     "data": {
      "text/plain": [
       "count    20789.000000\n",
       "mean         0.037366\n",
       "std          0.116675\n",
       "min          0.000000\n",
       "25%          0.000000\n",
       "50%          0.000000\n",
       "75%          0.000000\n",
       "max          1.000000\n",
       "Name: didnt, dtype: float64"
      ]
     },
     "execution_count": 72,
     "metadata": {},
     "output_type": "execute_result"
    }
   ],
   "source": [
    "reviews_vectorized[vector_cols[11]].describe()"
   ]
  },
  {
   "cell_type": "code",
   "execution_count": 73,
   "id": "bdb70621",
   "metadata": {},
   "outputs": [
    {
     "data": {
      "text/plain": [
       "3.467866396923055"
      ]
     },
     "execution_count": 73,
     "metadata": {},
     "output_type": "execute_result"
    }
   ],
   "source": [
    "reviews_vectorized[vector_cols[11]].skew()"
   ]
  },
  {
   "cell_type": "code",
   "execution_count": 74,
   "id": "0025e7cb",
   "metadata": {},
   "outputs": [
    {
     "data": {
      "image/png": "[encoded data removed]",
      "text/plain": [
       "<Figure size 1440x720 with 2 Axes>"
      ]
     },
     "metadata": {
      "needs_background": "light"
     },
     "output_type": "display_data"
    }
   ],
   "source": [
    "box_plot(reviews_vectorized, vector_cols[11])"
   ]
  },
  {
   "cell_type": "markdown",
   "id": "90af2f05",
   "metadata": {},
   "source": [
    "The median for \"didn't\" is 0, while the mean is offset from the median.  The data is highly positively skewed. Spread in the IQR is very small, with a large number of outliers. "
   ]
  },
  {
   "cell_type": "code",
   "execution_count": 75,
   "id": "4a7ce805",
   "metadata": {},
   "outputs": [
    {
     "data": {
      "text/plain": [
       "count    20789.000000\n",
       "mean         0.045840\n",
       "std          0.129728\n",
       "min          0.000000\n",
       "25%          0.000000\n",
       "50%          0.000000\n",
       "75%          0.000000\n",
       "max          1.000000\n",
       "Name: dont, dtype: float64"
      ]
     },
     "execution_count": 75,
     "metadata": {},
     "output_type": "execute_result"
    }
   ],
   "source": [
    "reviews_vectorized[vector_cols[12]].describe()"
   ]
  },
  {
   "cell_type": "code",
   "execution_count": 76,
   "id": "37734b6c",
   "metadata": {},
   "outputs": [
    {
     "data": {
      "text/plain": [
       "3.179973017928886"
      ]
     },
     "execution_count": 76,
     "metadata": {},
     "output_type": "execute_result"
    }
   ],
   "source": [
    "reviews_vectorized[vector_cols[12]].skew()"
   ]
  },
  {
   "cell_type": "code",
   "execution_count": 77,
   "id": "a8943902",
   "metadata": {},
   "outputs": [
    {
     "data": {
      "image/png": "[encoded data removed]",
      "text/plain": [
       "<Figure size 1440x720 with 2 Axes>"
      ]
     },
     "metadata": {
      "needs_background": "light"
     },
     "output_type": "display_data"
    }
   ],
   "source": [
    "box_plot(reviews_vectorized, vector_cols[12])"
   ]
  },
  {
   "cell_type": "markdown",
   "id": "b653eece",
   "metadata": {},
   "source": [
    "The median for \"don't\" is 0, while the mean is offset from the median.  The data is highly positively skewed. Spread in the IQR is very small, with a large number of outliers. "
   ]
  },
  {
   "cell_type": "code",
   "execution_count": 78,
   "id": "d5eea943",
   "metadata": {},
   "outputs": [
    {
     "data": {
      "text/plain": [
       "count    20789.000000\n",
       "mean         0.035164\n",
       "std          0.118291\n",
       "min          0.000000\n",
       "25%          0.000000\n",
       "50%          0.000000\n",
       "75%          0.000000\n",
       "max          1.000000\n",
       "Name: experience, dtype: float64"
      ]
     },
     "execution_count": 78,
     "metadata": {},
     "output_type": "execute_result"
    }
   ],
   "source": [
    "reviews_vectorized[vector_cols[13]].describe()"
   ]
  },
  {
   "cell_type": "code",
   "execution_count": 79,
   "id": "bd439199",
   "metadata": {},
   "outputs": [
    {
     "data": {
      "text/plain": [
       "3.7564771985412544"
      ]
     },
     "execution_count": 79,
     "metadata": {},
     "output_type": "execute_result"
    }
   ],
   "source": [
    "reviews_vectorized[vector_cols[13]].skew()"
   ]
  },
  {
   "cell_type": "code",
   "execution_count": 80,
   "id": "fd8b2dc0",
   "metadata": {},
   "outputs": [
    {
     "data": {
      "image/png": "[encoded data removed]",
      "text/plain": [
       "<Figure size 1440x720 with 2 Axes>"
      ]
     },
     "metadata": {
      "needs_background": "light"
     },
     "output_type": "display_data"
    }
   ],
   "source": [
    "box_plot(reviews_vectorized, vector_cols[13])"
   ]
  },
  {
   "cell_type": "markdown",
   "id": "55ca785f",
   "metadata": {},
   "source": [
    "The median for 'experience' is 0, while the mean is offset from the median.  The data is highly positively skewed. Spread in the IQR is very small, with a large number of outliers. "
   ]
  },
  {
   "cell_type": "code",
   "execution_count": 81,
   "id": "6d7d254d",
   "metadata": {},
   "outputs": [
    {
     "data": {
      "text/plain": [
       "count    20789.000000\n",
       "mean         0.108555\n",
       "std          0.173722\n",
       "min          0.000000\n",
       "25%          0.000000\n",
       "50%          0.000000\n",
       "75%          0.210080\n",
       "max          1.000000\n",
       "Name: food, dtype: float64"
      ]
     },
     "execution_count": 81,
     "metadata": {},
     "output_type": "execute_result"
    }
   ],
   "source": [
    "reviews_vectorized[vector_cols[14]].describe()"
   ]
  },
  {
   "cell_type": "code",
   "execution_count": 82,
   "id": "08fe8e50",
   "metadata": {},
   "outputs": [
    {
     "data": {
      "text/plain": [
       "1.6527505744137219"
      ]
     },
     "execution_count": 82,
     "metadata": {},
     "output_type": "execute_result"
    }
   ],
   "source": [
    "reviews_vectorized[vector_cols[14]].skew()"
   ]
  },
  {
   "cell_type": "code",
   "execution_count": 83,
   "id": "b08a2d98",
   "metadata": {},
   "outputs": [
    {
     "data": {
      "image/png": "[encoded data removed]",
      "text/plain": [
       "<Figure size 1440x720 with 2 Axes>"
      ]
     },
     "metadata": {
      "needs_background": "light"
     },
     "output_type": "display_data"
    }
   ],
   "source": [
    "box_plot(reviews_vectorized, vector_cols[14])"
   ]
  },
  {
   "cell_type": "markdown",
   "id": "fe8288da",
   "metadata": {},
   "source": [
    "The median for 'food' is 0, while the mean is offset from the median.  The data is highly positively skewed. Spread in the IQR is small, with a large number of outliers. "
   ]
  },
  {
   "cell_type": "code",
   "execution_count": 84,
   "id": "2b29b5b0",
   "metadata": {},
   "outputs": [
    {
     "data": {
      "text/plain": [
       "count    20789.000000\n",
       "mean         0.031536\n",
       "std          0.116733\n",
       "min          0.000000\n",
       "25%          0.000000\n",
       "50%          0.000000\n",
       "75%          0.000000\n",
       "max          1.000000\n",
       "Name: fresh, dtype: float64"
      ]
     },
     "execution_count": 84,
     "metadata": {},
     "output_type": "execute_result"
    }
   ],
   "source": [
    "reviews_vectorized[vector_cols[15]].describe()"
   ]
  },
  {
   "cell_type": "code",
   "execution_count": 85,
   "id": "8e7db809",
   "metadata": {},
   "outputs": [
    {
     "data": {
      "text/plain": [
       "4.032131357550636"
      ]
     },
     "execution_count": 85,
     "metadata": {},
     "output_type": "execute_result"
    }
   ],
   "source": [
    "reviews_vectorized[vector_cols[15]].skew()"
   ]
  },
  {
   "cell_type": "code",
   "execution_count": 86,
   "id": "b0b4169c",
   "metadata": {},
   "outputs": [
    {
     "data": {
      "image/png": "[encoded data removed]",
      "text/plain": [
       "<Figure size 1440x720 with 2 Axes>"
      ]
     },
     "metadata": {
      "needs_background": "light"
     },
     "output_type": "display_data"
    }
   ],
   "source": [
    "box_plot(reviews_vectorized, vector_cols[15])"
   ]
  },
  {
   "cell_type": "markdown",
   "id": "8237615c",
   "metadata": {},
   "source": [
    "The median for 'fresh' is 0, while the mean is offset from the median.  The data is highly positively skewed. Spread in the IQR is very small, with a large number of outliers. "
   ]
  },
  {
   "cell_type": "code",
   "execution_count": 87,
   "id": "b5d2e39a",
   "metadata": {},
   "outputs": [
    {
     "data": {
      "text/plain": [
       "count    20789.000000\n",
       "mean         0.047880\n",
       "std          0.132159\n",
       "min          0.000000\n",
       "25%          0.000000\n",
       "50%          0.000000\n",
       "75%          0.000000\n",
       "max          1.000000\n",
       "Name: friendly, dtype: float64"
      ]
     },
     "execution_count": 87,
     "metadata": {},
     "output_type": "execute_result"
    }
   ],
   "source": [
    "reviews_vectorized[vector_cols[16]].describe()"
   ]
  },
  {
   "cell_type": "code",
   "execution_count": 88,
   "id": "9a586378",
   "metadata": {},
   "outputs": [
    {
     "data": {
      "text/plain": [
       "3.00959555271693"
      ]
     },
     "execution_count": 88,
     "metadata": {},
     "output_type": "execute_result"
    }
   ],
   "source": [
    "reviews_vectorized[vector_cols[16]].skew()"
   ]
  },
  {
   "cell_type": "code",
   "execution_count": 89,
   "id": "33c730ce",
   "metadata": {},
   "outputs": [
    {
     "data": {
      "image/png": "[encoded data removed]",
      "text/plain": [
       "<Figure size 1440x720 with 2 Axes>"
      ]
     },
     "metadata": {
      "needs_background": "light"
     },
     "output_type": "display_data"
    }
   ],
   "source": [
    "box_plot(reviews_vectorized, vector_cols[16])"
   ]
  },
  {
   "cell_type": "markdown",
   "id": "6af272fc",
   "metadata": {},
   "source": [
    "The median for 'friendly' is 0, while the mean is offset from the median.  The data is highly positively skewed. Spread in the IQR is very small, with a large number of outliers. "
   ]
  },
  {
   "cell_type": "code",
   "execution_count": 90,
   "id": "e041f4e0",
   "metadata": {},
   "outputs": [
    {
     "data": {
      "text/plain": [
       "count    20789.000000\n",
       "mean         0.033227\n",
       "std          0.113040\n",
       "min          0.000000\n",
       "25%          0.000000\n",
       "50%          0.000000\n",
       "75%          0.000000\n",
       "max          1.000000\n",
       "Name: going, dtype: float64"
      ]
     },
     "execution_count": 90,
     "metadata": {},
     "output_type": "execute_result"
    }
   ],
   "source": [
    "reviews_vectorized[vector_cols[17]].describe()"
   ]
  },
  {
   "cell_type": "code",
   "execution_count": 91,
   "id": "b80b102d",
   "metadata": {},
   "outputs": [
    {
     "data": {
      "text/plain": [
       "3.8505639361027115"
      ]
     },
     "execution_count": 91,
     "metadata": {},
     "output_type": "execute_result"
    }
   ],
   "source": [
    "reviews_vectorized[vector_cols[17]].skew()"
   ]
  },
  {
   "cell_type": "code",
   "execution_count": 92,
   "id": "e987e18a",
   "metadata": {},
   "outputs": [
    {
     "data": {
      "image/png": "[encoded data removed]",
      "text/plain": [
       "<Figure size 1440x720 with 2 Axes>"
      ]
     },
     "metadata": {
      "needs_background": "light"
     },
     "output_type": "display_data"
    }
   ],
   "source": [
    "box_plot(reviews_vectorized, vector_cols[17])"
   ]
  },
  {
   "cell_type": "markdown",
   "id": "65322e54",
   "metadata": {},
   "source": [
    "The median for 'going' is 0, while the mean is offset from the median.  The data is highly positively skewed. Spread in the IQR is very small, with a large number of outliers. "
   ]
  },
  {
   "cell_type": "code",
   "execution_count": 93,
   "id": "e15a2c8e",
   "metadata": {},
   "outputs": [
    {
     "data": {
      "text/plain": [
       "count    20789.000000\n",
       "mean         0.100509\n",
       "std          0.174433\n",
       "min          0.000000\n",
       "25%          0.000000\n",
       "50%          0.000000\n",
       "75%          0.183002\n",
       "max          1.000000\n",
       "Name: good, dtype: float64"
      ]
     },
     "execution_count": 93,
     "metadata": {},
     "output_type": "execute_result"
    }
   ],
   "source": [
    "reviews_vectorized[vector_cols[18]].describe()"
   ]
  },
  {
   "cell_type": "code",
   "execution_count": 94,
   "id": "a3e8849f",
   "metadata": {},
   "outputs": [
    {
     "data": {
      "text/plain": [
       "1.8894714804179418"
      ]
     },
     "execution_count": 94,
     "metadata": {},
     "output_type": "execute_result"
    }
   ],
   "source": [
    "reviews_vectorized[vector_cols[18]].skew()"
   ]
  },
  {
   "cell_type": "code",
   "execution_count": 95,
   "id": "08df9666",
   "metadata": {},
   "outputs": [
    {
     "data": {
      "image/png": "[encoded data removed]",
      "text/plain": [
       "<Figure size 1440x720 with 2 Axes>"
      ]
     },
     "metadata": {
      "needs_background": "light"
     },
     "output_type": "display_data"
    }
   ],
   "source": [
    "box_plot(reviews_vectorized, vector_cols[18])"
   ]
  },
  {
   "cell_type": "markdown",
   "id": "99ce5f2c",
   "metadata": {},
   "source": [
    "The median for 'good' is 0, while the mean is offset from the median.  The data is highly positively skewed. Spread in the IQR is small, with a large number of outliers. "
   ]
  },
  {
   "cell_type": "code",
   "execution_count": 96,
   "id": "af5c18d9",
   "metadata": {},
   "outputs": [
    {
     "data": {
      "text/plain": [
       "count    20789.000000\n",
       "mean         0.049086\n",
       "std          0.134618\n",
       "min          0.000000\n",
       "25%          0.000000\n",
       "50%          0.000000\n",
       "75%          0.000000\n",
       "max          1.000000\n",
       "Name: got, dtype: float64"
      ]
     },
     "execution_count": 96,
     "metadata": {},
     "output_type": "execute_result"
    }
   ],
   "source": [
    "reviews_vectorized[vector_cols[19]].describe()"
   ]
  },
  {
   "cell_type": "code",
   "execution_count": 97,
   "id": "6ed62d45",
   "metadata": {},
   "outputs": [
    {
     "data": {
      "text/plain": [
       "3.02886432327704"
      ]
     },
     "execution_count": 97,
     "metadata": {},
     "output_type": "execute_result"
    }
   ],
   "source": [
    "reviews_vectorized[vector_cols[19]].skew()"
   ]
  },
  {
   "cell_type": "code",
   "execution_count": 98,
   "id": "0bd9831c",
   "metadata": {},
   "outputs": [
    {
     "data": {
      "image/png": "[encoded data removed]",
      "text/plain": [
       "<Figure size 1440x720 with 2 Axes>"
      ]
     },
     "metadata": {
      "needs_background": "light"
     },
     "output_type": "display_data"
    }
   ],
   "source": [
    "box_plot(reviews_vectorized, vector_cols[19])"
   ]
  },
  {
   "cell_type": "markdown",
   "id": "ead3c4cd",
   "metadata": {},
   "source": [
    "The median for 'got' is 0, while the mean is offset from the median.  The data is highly positively skewed. Spread in the IQR is very small, with a large number of outliers. "
   ]
  },
  {
   "cell_type": "code",
   "execution_count": 99,
   "id": "48fd76af",
   "metadata": {},
   "outputs": [
    {
     "data": {
      "text/plain": [
       "count    20789.000000\n",
       "mean         0.108027\n",
       "std          0.187341\n",
       "min          0.000000\n",
       "25%          0.000000\n",
       "50%          0.000000\n",
       "75%          0.194544\n",
       "max          1.000000\n",
       "Name: great, dtype: float64"
      ]
     },
     "execution_count": 99,
     "metadata": {},
     "output_type": "execute_result"
    }
   ],
   "source": [
    "reviews_vectorized[vector_cols[20]].describe()"
   ]
  },
  {
   "cell_type": "code",
   "execution_count": 100,
   "id": "a7ffdd4e",
   "metadata": {},
   "outputs": [
    {
     "data": {
      "text/plain": [
       "1.8853768972976443"
      ]
     },
     "execution_count": 100,
     "metadata": {},
     "output_type": "execute_result"
    }
   ],
   "source": [
    "reviews_vectorized[vector_cols[20]].skew()"
   ]
  },
  {
   "cell_type": "code",
   "execution_count": 101,
   "id": "6abf77b1",
   "metadata": {},
   "outputs": [
    {
     "data": {
      "image/png": "[encoded data removed]",
      "text/plain": [
       "<Figure size 1440x720 with 2 Axes>"
      ]
     },
     "metadata": {
      "needs_background": "light"
     },
     "output_type": "display_data"
    }
   ],
   "source": [
    "box_plot(reviews_vectorized, vector_cols[20])"
   ]
  },
  {
   "cell_type": "markdown",
   "id": "e2ac0b60",
   "metadata": {},
   "source": [
    "The median for 'great' is 0, while the mean is offset from the median.  The data is highly positively skewed. Spread in the IQR is small, with a large number of outliers. "
   ]
  },
  {
   "cell_type": "code",
   "execution_count": 102,
   "id": "1a5aa055",
   "metadata": {},
   "outputs": [
    {
     "data": {
      "text/plain": [
       "count    20789.000000\n",
       "mean         0.040996\n",
       "std          0.124937\n",
       "min          0.000000\n",
       "25%          0.000000\n",
       "50%          0.000000\n",
       "75%          0.000000\n",
       "max          1.000000\n",
       "Name: im, dtype: float64"
      ]
     },
     "execution_count": 102,
     "metadata": {},
     "output_type": "execute_result"
    }
   ],
   "source": [
    "reviews_vectorized[vector_cols[21]].describe()"
   ]
  },
  {
   "cell_type": "code",
   "execution_count": 103,
   "id": "f42a0070",
   "metadata": {},
   "outputs": [
    {
     "data": {
      "text/plain": [
       "3.42387439809317"
      ]
     },
     "execution_count": 103,
     "metadata": {},
     "output_type": "execute_result"
    }
   ],
   "source": [
    "reviews_vectorized[vector_cols[21]].skew()"
   ]
  },
  {
   "cell_type": "code",
   "execution_count": 104,
   "id": "d57a629e",
   "metadata": {},
   "outputs": [
    {
     "data": {
      "image/png": "[encoded data removed]",
      "text/plain": [
       "<Figure size 1440x720 with 2 Axes>"
      ]
     },
     "metadata": {
      "needs_background": "light"
     },
     "output_type": "display_data"
    }
   ],
   "source": [
    "box_plot(reviews_vectorized, vector_cols[21])"
   ]
  },
  {
   "cell_type": "markdown",
   "id": "606189ac",
   "metadata": {},
   "source": [
    "The median for 'im' is 0, while the mean is offset from the median.  The data is highly positively skewed. Spread in the IQR is very small, with a large number of outliers. "
   ]
  },
  {
   "cell_type": "code",
   "execution_count": 105,
   "id": "dc072024",
   "metadata": {},
   "outputs": [
    {
     "data": {
      "text/plain": [
       "count    20789.000000\n",
       "mean         0.043678\n",
       "std          0.131725\n",
       "min          0.000000\n",
       "25%          0.000000\n",
       "50%          0.000000\n",
       "75%          0.000000\n",
       "max          1.000000\n",
       "Name: ive, dtype: float64"
      ]
     },
     "execution_count": 105,
     "metadata": {},
     "output_type": "execute_result"
    }
   ],
   "source": [
    "reviews_vectorized[vector_cols[22]].describe()"
   ]
  },
  {
   "cell_type": "code",
   "execution_count": 106,
   "id": "52ddba76",
   "metadata": {},
   "outputs": [
    {
     "data": {
      "text/plain": [
       "3.302372312418537"
      ]
     },
     "execution_count": 106,
     "metadata": {},
     "output_type": "execute_result"
    }
   ],
   "source": [
    "reviews_vectorized[vector_cols[22]].skew()"
   ]
  },
  {
   "cell_type": "code",
   "execution_count": 107,
   "id": "15c419e3",
   "metadata": {},
   "outputs": [
    {
     "data": {
      "image/png": "[encoded data removed]",
      "text/plain": [
       "<Figure size 1440x720 with 2 Axes>"
      ]
     },
     "metadata": {
      "needs_background": "light"
     },
     "output_type": "display_data"
    }
   ],
   "source": [
    "box_plot(reviews_vectorized, vector_cols[22])"
   ]
  },
  {
   "cell_type": "markdown",
   "id": "f959dcf1",
   "metadata": {},
   "source": [
    "The median for 'ive' is 0, while the mean is offset from the median.  The data is highly positively skewed. Spread in the IQR is very small, with a large number of outliers. "
   ]
  },
  {
   "cell_type": "code",
   "execution_count": 108,
   "id": "02168b1d",
   "metadata": {},
   "outputs": [
    {
     "data": {
      "text/plain": [
       "count    20789.000000\n",
       "mean         0.068201\n",
       "std          0.143291\n",
       "min          0.000000\n",
       "25%          0.000000\n",
       "50%          0.000000\n",
       "75%          0.000000\n",
       "max          1.000000\n",
       "Name: just, dtype: float64"
      ]
     },
     "execution_count": 108,
     "metadata": {},
     "output_type": "execute_result"
    }
   ],
   "source": [
    "reviews_vectorized[vector_cols[23]].describe()"
   ]
  },
  {
   "cell_type": "code",
   "execution_count": 109,
   "id": "34cd8ad2",
   "metadata": {},
   "outputs": [
    {
     "data": {
      "text/plain": [
       "2.3218609620641626"
      ]
     },
     "execution_count": 109,
     "metadata": {},
     "output_type": "execute_result"
    }
   ],
   "source": [
    "reviews_vectorized[vector_cols[23]].skew()"
   ]
  },
  {
   "cell_type": "code",
   "execution_count": 110,
   "id": "9f910195",
   "metadata": {},
   "outputs": [
    {
     "data": {
      "image/png": "[encoded data removed]",
      "text/plain": [
       "<Figure size 1440x720 with 2 Axes>"
      ]
     },
     "metadata": {
      "needs_background": "light"
     },
     "output_type": "display_data"
    }
   ],
   "source": [
    "box_plot(reviews_vectorized, vector_cols[23])"
   ]
  },
  {
   "cell_type": "markdown",
   "id": "32c3ce1a",
   "metadata": {},
   "source": [
    "The median for 'just' is 0, while the mean is offset from the median.  The data is highly positively skewed. Spread in the IQR is very small, with a large number of outliers. "
   ]
  },
  {
   "cell_type": "code",
   "execution_count": 111,
   "id": "da120e1e",
   "metadata": {},
   "outputs": [
    {
     "data": {
      "text/plain": [
       "count    20789.000000\n",
       "mean         0.028096\n",
       "std          0.102123\n",
       "min          0.000000\n",
       "25%          0.000000\n",
       "50%          0.000000\n",
       "75%          0.000000\n",
       "max          1.000000\n",
       "Name: know, dtype: float64"
      ]
     },
     "execution_count": 111,
     "metadata": {},
     "output_type": "execute_result"
    }
   ],
   "source": [
    "reviews_vectorized[vector_cols[24]].describe()"
   ]
  },
  {
   "cell_type": "code",
   "execution_count": 112,
   "id": "26b84dae",
   "metadata": {},
   "outputs": [
    {
     "data": {
      "text/plain": [
       "4.079085098171642"
      ]
     },
     "execution_count": 112,
     "metadata": {},
     "output_type": "execute_result"
    }
   ],
   "source": [
    "reviews_vectorized[vector_cols[24]].skew()"
   ]
  },
  {
   "cell_type": "code",
   "execution_count": 113,
   "id": "8d1eeecf",
   "metadata": {},
   "outputs": [
    {
     "data": {
      "image/png": "[encoded data removed]",
      "text/plain": [
       "<Figure size 1440x720 with 2 Axes>"
      ]
     },
     "metadata": {
      "needs_background": "light"
     },
     "output_type": "display_data"
    }
   ],
   "source": [
    "box_plot(reviews_vectorized, vector_cols[24])"
   ]
  },
  {
   "cell_type": "markdown",
   "id": "cb69b2fd",
   "metadata": {},
   "source": [
    "The median for 'know' is 0, while the mean is offset from the median.  The data is highly positively skewed. Spread in the IQR is very small, with a large number of outliers. "
   ]
  },
  {
   "cell_type": "code",
   "execution_count": 114,
   "id": "f64fccc5",
   "metadata": {},
   "outputs": [
    {
     "data": {
      "text/plain": [
       "count    20789.000000\n",
       "mean         0.066694\n",
       "std          0.145180\n",
       "min          0.000000\n",
       "25%          0.000000\n",
       "50%          0.000000\n",
       "75%          0.000000\n",
       "max          1.000000\n",
       "Name: like, dtype: float64"
      ]
     },
     "execution_count": 114,
     "metadata": {},
     "output_type": "execute_result"
    }
   ],
   "source": [
    "reviews_vectorized[vector_cols[25]].describe()"
   ]
  },
  {
   "cell_type": "code",
   "execution_count": 115,
   "id": "d8973d0e",
   "metadata": {},
   "outputs": [
    {
     "data": {
      "text/plain": [
       "2.4258017644827685"
      ]
     },
     "execution_count": 115,
     "metadata": {},
     "output_type": "execute_result"
    }
   ],
   "source": [
    "reviews_vectorized[vector_cols[25]].skew()"
   ]
  },
  {
   "cell_type": "code",
   "execution_count": 116,
   "id": "9e29d5f1",
   "metadata": {},
   "outputs": [
    {
     "data": {
      "image/png": "[encoded data removed]",
      "text/plain": [
       "<Figure size 1440x720 with 2 Axes>"
      ]
     },
     "metadata": {
      "needs_background": "light"
     },
     "output_type": "display_data"
    }
   ],
   "source": [
    "box_plot(reviews_vectorized, vector_cols[25])"
   ]
  },
  {
   "cell_type": "markdown",
   "id": "478a5084",
   "metadata": {},
   "source": [
    "The median for 'like' is 0, while the mean is offset from the median.  The data is highly positively skewed. Spread in the IQR is very small, with a large number of outliers. "
   ]
  },
  {
   "cell_type": "code",
   "execution_count": 117,
   "id": "95bf27dc",
   "metadata": {},
   "outputs": [
    {
     "data": {
      "text/plain": [
       "count    20789.000000\n",
       "mean         0.037281\n",
       "std          0.120065\n",
       "min          0.000000\n",
       "25%          0.000000\n",
       "50%          0.000000\n",
       "75%          0.000000\n",
       "max          1.000000\n",
       "Name: little, dtype: float64"
      ]
     },
     "execution_count": 117,
     "metadata": {},
     "output_type": "execute_result"
    }
   ],
   "source": [
    "reviews_vectorized[vector_cols[26]].describe()"
   ]
  },
  {
   "cell_type": "code",
   "execution_count": 118,
   "id": "835ef8d2",
   "metadata": {},
   "outputs": [
    {
     "data": {
      "text/plain": [
       "3.5942211664223644"
      ]
     },
     "execution_count": 118,
     "metadata": {},
     "output_type": "execute_result"
    }
   ],
   "source": [
    "reviews_vectorized[vector_cols[26]].skew()"
   ]
  },
  {
   "cell_type": "code",
   "execution_count": 119,
   "id": "48d063e6",
   "metadata": {},
   "outputs": [
    {
     "data": {
      "image/png": "[encoded data removed]",
      "text/plain": [
       "<Figure size 1440x720 with 2 Axes>"
      ]
     },
     "metadata": {
      "needs_background": "light"
     },
     "output_type": "display_data"
    }
   ],
   "source": [
    "box_plot(reviews_vectorized, vector_cols[26])"
   ]
  },
  {
   "cell_type": "markdown",
   "id": "45f9071c",
   "metadata": {},
   "source": [
    "The median for 'little' is 0, while the mean is offset from the median.  The data is highly positively skewed. Spread in the IQR is very small, with a large number of outliers. "
   ]
  },
  {
   "cell_type": "code",
   "execution_count": 120,
   "id": "f5a6c49b",
   "metadata": {},
   "outputs": [
    {
     "data": {
      "text/plain": [
       "count    20789.000000\n",
       "mean         0.047238\n",
       "std          0.144567\n",
       "min          0.000000\n",
       "25%          0.000000\n",
       "50%          0.000000\n",
       "75%          0.000000\n",
       "max          1.000000\n",
       "Name: love, dtype: float64"
      ]
     },
     "execution_count": 120,
     "metadata": {},
     "output_type": "execute_result"
    }
   ],
   "source": [
    "reviews_vectorized[vector_cols[27]].describe()"
   ]
  },
  {
   "cell_type": "code",
   "execution_count": 121,
   "id": "f9eb46a6",
   "metadata": {},
   "outputs": [
    {
     "data": {
      "text/plain": [
       "3.340291762148963"
      ]
     },
     "execution_count": 121,
     "metadata": {},
     "output_type": "execute_result"
    }
   ],
   "source": [
    "reviews_vectorized[vector_cols[27]].skew()"
   ]
  },
  {
   "cell_type": "code",
   "execution_count": 122,
   "id": "13f5d3eb",
   "metadata": {},
   "outputs": [
    {
     "data": {
      "image/png": "[encoded data removed]",
      "text/plain": [
       "<Figure size 1440x720 with 2 Axes>"
      ]
     },
     "metadata": {
      "needs_background": "light"
     },
     "output_type": "display_data"
    }
   ],
   "source": [
    "box_plot(reviews_vectorized, vector_cols[27])"
   ]
  },
  {
   "cell_type": "markdown",
   "id": "3dface63",
   "metadata": {},
   "source": [
    "The median for 'love' is 0, while the mean is offset from the median.  The data is highly positively skewed. Spread in the IQR is very small, with a large number of outliers. "
   ]
  },
  {
   "cell_type": "code",
   "execution_count": 123,
   "id": "326955d1",
   "metadata": {},
   "outputs": [
    {
     "data": {
      "text/plain": [
       "count    20789.000000\n",
       "mean         0.034627\n",
       "std          0.113515\n",
       "min          0.000000\n",
       "25%          0.000000\n",
       "50%          0.000000\n",
       "75%          0.000000\n",
       "max          1.000000\n",
       "Name: make, dtype: float64"
      ]
     },
     "execution_count": 123,
     "metadata": {},
     "output_type": "execute_result"
    }
   ],
   "source": [
    "reviews_vectorized[vector_cols[28]].describe()"
   ]
  },
  {
   "cell_type": "code",
   "execution_count": 124,
   "id": "9aa9ec15",
   "metadata": {},
   "outputs": [
    {
     "data": {
      "text/plain": [
       "3.639158954073286"
      ]
     },
     "execution_count": 124,
     "metadata": {},
     "output_type": "execute_result"
    }
   ],
   "source": [
    "reviews_vectorized[vector_cols[28]].skew()"
   ]
  },
  {
   "cell_type": "code",
   "execution_count": 125,
   "id": "94dc322b",
   "metadata": {},
   "outputs": [
    {
     "data": {
      "image/png": "[encoded data removed]",
      "text/plain": [
       "<Figure size 1440x720 with 2 Axes>"
      ]
     },
     "metadata": {
      "needs_background": "light"
     },
     "output_type": "display_data"
    }
   ],
   "source": [
    "box_plot(reviews_vectorized, vector_cols[28])"
   ]
  },
  {
   "cell_type": "markdown",
   "id": "1a1eb2e9",
   "metadata": {},
   "source": [
    "The median for 'make' is 0, while the mean is offset from the median.  The data is highly positively skewed. Spread in the IQR is very small, with a large number of outliers. "
   ]
  },
  {
   "cell_type": "code",
   "execution_count": 126,
   "id": "889ba24d",
   "metadata": {},
   "outputs": [
    {
     "data": {
      "text/plain": [
       "count    20789.000000\n",
       "mean         0.034132\n",
       "std          0.116157\n",
       "min          0.000000\n",
       "25%          0.000000\n",
       "50%          0.000000\n",
       "75%          0.000000\n",
       "max          1.000000\n",
       "Name: menu, dtype: float64"
      ]
     },
     "execution_count": 126,
     "metadata": {},
     "output_type": "execute_result"
    }
   ],
   "source": [
    "reviews_vectorized[vector_cols[29]].describe()"
   ]
  },
  {
   "cell_type": "code",
   "execution_count": 127,
   "id": "926964fa",
   "metadata": {},
   "outputs": [
    {
     "data": {
      "text/plain": [
       "3.7843718070389687"
      ]
     },
     "execution_count": 127,
     "metadata": {},
     "output_type": "execute_result"
    }
   ],
   "source": [
    "reviews_vectorized[vector_cols[29]].skew()"
   ]
  },
  {
   "cell_type": "code",
   "execution_count": 128,
   "id": "dae8eadc",
   "metadata": {},
   "outputs": [
    {
     "data": {
      "image/png": "[encoded data removed]",
      "text/plain": [
       "<Figure size 1440x720 with 2 Axes>"
      ]
     },
     "metadata": {
      "needs_background": "light"
     },
     "output_type": "display_data"
    }
   ],
   "source": [
    "box_plot(reviews_vectorized, vector_cols[29])"
   ]
  },
  {
   "cell_type": "markdown",
   "id": "9e489a05",
   "metadata": {},
   "source": [
    "The median for 'menu' is 0, while the mean is offset from the median.  The data is highly positively skewed. Spread in the IQR is very small, with a large number of outliers. "
   ]
  },
  {
   "cell_type": "code",
   "execution_count": 129,
   "id": "ba164fd8",
   "metadata": {},
   "outputs": [
    {
     "data": {
      "text/plain": [
       "count    20789.000000\n",
       "mean         0.037169\n",
       "std          0.124370\n",
       "min          0.000000\n",
       "25%          0.000000\n",
       "50%          0.000000\n",
       "75%          0.000000\n",
       "max          1.000000\n",
       "Name: new, dtype: float64"
      ]
     },
     "execution_count": 129,
     "metadata": {},
     "output_type": "execute_result"
    }
   ],
   "source": [
    "reviews_vectorized[vector_cols[30]].describe()"
   ]
  },
  {
   "cell_type": "code",
   "execution_count": 130,
   "id": "0c629312",
   "metadata": {},
   "outputs": [
    {
     "data": {
      "text/plain": [
       "3.708876274027503"
      ]
     },
     "execution_count": 130,
     "metadata": {},
     "output_type": "execute_result"
    }
   ],
   "source": [
    "reviews_vectorized[vector_cols[30]].skew()"
   ]
  },
  {
   "cell_type": "code",
   "execution_count": 131,
   "id": "66824e7b",
   "metadata": {},
   "outputs": [
    {
     "data": {
      "image/png": "[encoded data removed]",
      "text/plain": [
       "<Figure size 1440x720 with 2 Axes>"
      ]
     },
     "metadata": {
      "needs_background": "light"
     },
     "output_type": "display_data"
    }
   ],
   "source": [
    "box_plot(reviews_vectorized, vector_cols[30])"
   ]
  },
  {
   "cell_type": "markdown",
   "id": "63939755",
   "metadata": {},
   "source": [
    "The median for 'new' is 0, while the mean is offset from the median.  The data is highly positively skewed. Spread in the IQR is very small, with a large number of outliers. "
   ]
  },
  {
   "cell_type": "code",
   "execution_count": 132,
   "id": "6f7da420",
   "metadata": {},
   "outputs": [
    {
     "data": {
      "text/plain": [
       "count    20789.000000\n",
       "mean         0.049044\n",
       "std          0.135688\n",
       "min          0.000000\n",
       "25%          0.000000\n",
       "50%          0.000000\n",
       "75%          0.000000\n",
       "max          1.000000\n",
       "Name: nice, dtype: float64"
      ]
     },
     "execution_count": 132,
     "metadata": {},
     "output_type": "execute_result"
    }
   ],
   "source": [
    "reviews_vectorized[vector_cols[31]].describe()"
   ]
  },
  {
   "cell_type": "code",
   "execution_count": 133,
   "id": "1eb3835b",
   "metadata": {},
   "outputs": [
    {
     "data": {
      "text/plain": [
       "3.0505335516757017"
      ]
     },
     "execution_count": 133,
     "metadata": {},
     "output_type": "execute_result"
    }
   ],
   "source": [
    "reviews_vectorized[vector_cols[31]].skew()"
   ]
  },
  {
   "cell_type": "code",
   "execution_count": 134,
   "id": "305de220",
   "metadata": {},
   "outputs": [
    {
     "data": {
      "image/png": "[encoded data removed]",
      "text/plain": [
       "<Figure size 1440x720 with 2 Axes>"
      ]
     },
     "metadata": {
      "needs_background": "light"
     },
     "output_type": "display_data"
    }
   ],
   "source": [
    "box_plot(reviews_vectorized, vector_cols[31])"
   ]
  },
  {
   "cell_type": "markdown",
   "id": "7489b722",
   "metadata": {},
   "source": [
    "The median for 'nice' is 0, while the mean is offset from the median.  The data is highly positively skewed. Spread in the IQR is very small, with a large number of outliers. "
   ]
  },
  {
   "cell_type": "code",
   "execution_count": 135,
   "id": "54ef6b17",
   "metadata": {},
   "outputs": [
    {
     "data": {
      "text/plain": [
       "count    20789.000000\n",
       "mean         0.041549\n",
       "std          0.130436\n",
       "min          0.000000\n",
       "25%          0.000000\n",
       "50%          0.000000\n",
       "75%          0.000000\n",
       "max          1.000000\n",
       "Name: order, dtype: float64"
      ]
     },
     "execution_count": 135,
     "metadata": {},
     "output_type": "execute_result"
    }
   ],
   "source": [
    "reviews_vectorized[vector_cols[32]].describe()"
   ]
  },
  {
   "cell_type": "code",
   "execution_count": 136,
   "id": "22f26d9c",
   "metadata": {},
   "outputs": [
    {
     "data": {
      "text/plain": [
       "3.569052204831414"
      ]
     },
     "execution_count": 136,
     "metadata": {},
     "output_type": "execute_result"
    }
   ],
   "source": [
    "reviews_vectorized[vector_cols[32]].skew()"
   ]
  },
  {
   "cell_type": "code",
   "execution_count": 137,
   "id": "31d80df4",
   "metadata": {},
   "outputs": [
    {
     "data": {
      "image/png": "[encoded data removed]",
      "text/plain": [
       "<Figure size 1440x720 with 2 Axes>"
      ]
     },
     "metadata": {
      "needs_background": "light"
     },
     "output_type": "display_data"
    }
   ],
   "source": [
    "box_plot(reviews_vectorized, vector_cols[32])"
   ]
  },
  {
   "cell_type": "markdown",
   "id": "77b512f5",
   "metadata": {},
   "source": [
    "The median for 'order' is 0, while the mean is offset from the median.  The data is highly positively skewed. Spread in the IQR is very small, with a large number of outliers. "
   ]
  },
  {
   "cell_type": "code",
   "execution_count": 138,
   "id": "4cb81213",
   "metadata": {},
   "outputs": [
    {
     "data": {
      "text/plain": [
       "count    20789.000000\n",
       "mean         0.039885\n",
       "std          0.122956\n",
       "min          0.000000\n",
       "25%          0.000000\n",
       "50%          0.000000\n",
       "75%          0.000000\n",
       "max          1.000000\n",
       "Name: ordered, dtype: float64"
      ]
     },
     "execution_count": 138,
     "metadata": {},
     "output_type": "execute_result"
    }
   ],
   "source": [
    "reviews_vectorized[vector_cols[33]].describe()"
   ]
  },
  {
   "cell_type": "code",
   "execution_count": 139,
   "id": "d360e4cd",
   "metadata": {},
   "outputs": [
    {
     "data": {
      "text/plain": [
       "3.400643109811625"
      ]
     },
     "execution_count": 139,
     "metadata": {},
     "output_type": "execute_result"
    }
   ],
   "source": [
    "reviews_vectorized[vector_cols[33]].skew()"
   ]
  },
  {
   "cell_type": "code",
   "execution_count": 140,
   "id": "8f0aede1",
   "metadata": {},
   "outputs": [
    {
     "data": {
      "image/png": "[encoded data removed]",
      "text/plain": [
       "<Figure size 1440x720 with 2 Axes>"
      ]
     },
     "metadata": {
      "needs_background": "light"
     },
     "output_type": "display_data"
    }
   ],
   "source": [
    "box_plot(reviews_vectorized, vector_cols[33])"
   ]
  },
  {
   "cell_type": "markdown",
   "id": "dd289457",
   "metadata": {},
   "source": [
    "The median for 'ordered' is 0, while the mean is offset from the median.  The data is highly positively skewed. Spread in the IQR is very small, with a large number of outliers. "
   ]
  },
  {
   "cell_type": "code",
   "execution_count": 141,
   "id": "8373646b",
   "metadata": {},
   "outputs": [
    {
     "data": {
      "text/plain": [
       "count    20789.000000\n",
       "mean         0.033877\n",
       "std          0.115806\n",
       "min          0.000000\n",
       "25%          0.000000\n",
       "50%          0.000000\n",
       "75%          0.000000\n",
       "max          1.000000\n",
       "Name: people, dtype: float64"
      ]
     },
     "execution_count": 141,
     "metadata": {},
     "output_type": "execute_result"
    }
   ],
   "source": [
    "reviews_vectorized[vector_cols[34]].describe()"
   ]
  },
  {
   "cell_type": "code",
   "execution_count": 142,
   "id": "2f375553",
   "metadata": {},
   "outputs": [
    {
     "data": {
      "text/plain": [
       "3.886442516516909"
      ]
     },
     "execution_count": 142,
     "metadata": {},
     "output_type": "execute_result"
    }
   ],
   "source": [
    "reviews_vectorized[vector_cols[34]].skew()"
   ]
  },
  {
   "cell_type": "code",
   "execution_count": 143,
   "id": "5a4a5743",
   "metadata": {},
   "outputs": [
    {
     "data": {
      "image/png": "[encoded data removed]",
      "text/plain": [
       "<Figure size 1440x720 with 2 Axes>"
      ]
     },
     "metadata": {
      "needs_background": "light"
     },
     "output_type": "display_data"
    }
   ],
   "source": [
    "box_plot(reviews_vectorized, vector_cols[34])"
   ]
  },
  {
   "cell_type": "markdown",
   "id": "8b9500ce",
   "metadata": {},
   "source": [
    "The median for 'people' is 0, while the mean is offset from the median.  The data is highly positively skewed. Spread in the IQR is very small, with a large number of outliers. "
   ]
  },
  {
   "cell_type": "code",
   "execution_count": 144,
   "id": "71483b43",
   "metadata": {},
   "outputs": [
    {
     "data": {
      "text/plain": [
       "count    20789.000000\n",
       "mean         0.027648\n",
       "std          0.134382\n",
       "min          0.000000\n",
       "25%          0.000000\n",
       "50%          0.000000\n",
       "75%          0.000000\n",
       "max          1.000000\n",
       "Name: pizza, dtype: float64"
      ]
     },
     "execution_count": 144,
     "metadata": {},
     "output_type": "execute_result"
    }
   ],
   "source": [
    "reviews_vectorized[vector_cols[35]].describe()"
   ]
  },
  {
   "cell_type": "code",
   "execution_count": 145,
   "id": "e1200803",
   "metadata": {},
   "outputs": [
    {
     "data": {
      "text/plain": [
       "5.073023390291924"
      ]
     },
     "execution_count": 145,
     "metadata": {},
     "output_type": "execute_result"
    }
   ],
   "source": [
    "reviews_vectorized[vector_cols[35]].skew()"
   ]
  },
  {
   "cell_type": "code",
   "execution_count": 146,
   "id": "5c771d96",
   "metadata": {},
   "outputs": [
    {
     "data": {
      "image/png": "[encoded data removed]",
      "text/plain": [
       "<Figure size 1440x720 with 2 Axes>"
      ]
     },
     "metadata": {
      "needs_background": "light"
     },
     "output_type": "display_data"
    }
   ],
   "source": [
    "box_plot(reviews_vectorized, vector_cols[35])"
   ]
  },
  {
   "cell_type": "markdown",
   "id": "a7eaac31",
   "metadata": {},
   "source": [
    "The median for 'pizza' is 0, while the mean is offset from the median.  The data is highly positively skewed. Spread in the IQR is very small, with a large number of outliers. "
   ]
  },
  {
   "cell_type": "code",
   "execution_count": 147,
   "id": "843ee76a",
   "metadata": {},
   "outputs": [
    {
     "data": {
      "text/plain": [
       "count    20789.000000\n",
       "mean         0.096598\n",
       "std          0.164248\n",
       "min          0.000000\n",
       "25%          0.000000\n",
       "50%          0.000000\n",
       "75%          0.182335\n",
       "max          1.000000\n",
       "Name: place, dtype: float64"
      ]
     },
     "execution_count": 147,
     "metadata": {},
     "output_type": "execute_result"
    }
   ],
   "source": [
    "reviews_vectorized[vector_cols[36]].describe()"
   ]
  },
  {
   "cell_type": "code",
   "execution_count": 148,
   "id": "e8505ce4",
   "metadata": {},
   "outputs": [
    {
     "data": {
      "text/plain": [
       "1.8205003318198132"
      ]
     },
     "execution_count": 148,
     "metadata": {},
     "output_type": "execute_result"
    }
   ],
   "source": [
    "reviews_vectorized[vector_cols[36]].skew()"
   ]
  },
  {
   "cell_type": "code",
   "execution_count": 149,
   "id": "91de2f37",
   "metadata": {},
   "outputs": [
    {
     "data": {
      "image/png": "[encoded data removed]",
      "text/plain": [
       "<Figure size 1440x720 with 2 Axes>"
      ]
     },
     "metadata": {
      "needs_background": "light"
     },
     "output_type": "display_data"
    }
   ],
   "source": [
    "box_plot(reviews_vectorized, vector_cols[36])"
   ]
  },
  {
   "cell_type": "markdown",
   "id": "1c171a09",
   "metadata": {},
   "source": [
    "The median for 'place' is 0, while the mean is offset from the median.  The data is highly positively skewed. Spread in the IQR is small, with a large number of outliers. "
   ]
  },
  {
   "cell_type": "code",
   "execution_count": 150,
   "id": "54069ead",
   "metadata": {},
   "outputs": [
    {
     "data": {
      "text/plain": [
       "count    20789.000000\n",
       "mean         0.029260\n",
       "std          0.108087\n",
       "min          0.000000\n",
       "25%          0.000000\n",
       "50%          0.000000\n",
       "75%          0.000000\n",
       "max          1.000000\n",
       "Name: pretty, dtype: float64"
      ]
     },
     "execution_count": 150,
     "metadata": {},
     "output_type": "execute_result"
    }
   ],
   "source": [
    "reviews_vectorized[vector_cols[37]].describe()"
   ]
  },
  {
   "cell_type": "code",
   "execution_count": 151,
   "id": "af62fb2b",
   "metadata": {},
   "outputs": [
    {
     "data": {
      "text/plain": [
       "4.117463265773541"
      ]
     },
     "execution_count": 151,
     "metadata": {},
     "output_type": "execute_result"
    }
   ],
   "source": [
    "reviews_vectorized[vector_cols[37]].skew()"
   ]
  },
  {
   "cell_type": "code",
   "execution_count": 152,
   "id": "78fd7d0e",
   "metadata": {},
   "outputs": [
    {
     "data": {
      "image/png": "[encoded data removed]",
      "text/plain": [
       "<Figure size 1440x720 with 2 Axes>"
      ]
     },
     "metadata": {
      "needs_background": "light"
     },
     "output_type": "display_data"
    }
   ],
   "source": [
    "box_plot(reviews_vectorized, vector_cols[37])"
   ]
  },
  {
   "cell_type": "markdown",
   "id": "4c8bace7",
   "metadata": {},
   "source": [
    "The median for 'pretty' is 0, while the mean is offset from the median.  The data is highly positively skewed. Spread in the IQR is very small, with a large number of outliers. "
   ]
  },
  {
   "cell_type": "code",
   "execution_count": 153,
   "id": "d1df4a7b",
   "metadata": {},
   "outputs": [
    {
     "data": {
      "text/plain": [
       "count    20789.000000\n",
       "mean         0.055826\n",
       "std          0.138945\n",
       "min          0.000000\n",
       "25%          0.000000\n",
       "50%          0.000000\n",
       "75%          0.000000\n",
       "max          1.000000\n",
       "Name: really, dtype: float64"
      ]
     },
     "execution_count": 153,
     "metadata": {},
     "output_type": "execute_result"
    }
   ],
   "source": [
    "reviews_vectorized[vector_cols[38]].describe()"
   ]
  },
  {
   "cell_type": "code",
   "execution_count": 154,
   "id": "bc6c3896",
   "metadata": {},
   "outputs": [
    {
     "data": {
      "text/plain": [
       "2.711909134852717"
      ]
     },
     "execution_count": 154,
     "metadata": {},
     "output_type": "execute_result"
    }
   ],
   "source": [
    "reviews_vectorized[vector_cols[38]].skew()"
   ]
  },
  {
   "cell_type": "code",
   "execution_count": 155,
   "id": "84471ec6",
   "metadata": {},
   "outputs": [
    {
     "data": {
      "image/png": "[encoded data removed]",
      "text/plain": [
       "<Figure size 1440x720 with 2 Axes>"
      ]
     },
     "metadata": {
      "needs_background": "light"
     },
     "output_type": "display_data"
    }
   ],
   "source": [
    "box_plot(reviews_vectorized, vector_cols[38])"
   ]
  },
  {
   "cell_type": "markdown",
   "id": "84bce06b",
   "metadata": {},
   "source": [
    "The median for 'really' is 0, while the mean is offset from the median.  The data is highly positively skewed. Spread in the IQR is very small, with a large number of outliers. "
   ]
  },
  {
   "cell_type": "code",
   "execution_count": 156,
   "id": "6d2fbf6e",
   "metadata": {},
   "outputs": [
    {
     "data": {
      "text/plain": [
       "count    20789.000000\n",
       "mean         0.041306\n",
       "std          0.130364\n",
       "min          0.000000\n",
       "25%          0.000000\n",
       "50%          0.000000\n",
       "75%          0.000000\n",
       "max          1.000000\n",
       "Name: recommend, dtype: float64"
      ]
     },
     "execution_count": 156,
     "metadata": {},
     "output_type": "execute_result"
    }
   ],
   "source": [
    "reviews_vectorized[vector_cols[39]].describe()"
   ]
  },
  {
   "cell_type": "code",
   "execution_count": 157,
   "id": "9aee2c58",
   "metadata": {},
   "outputs": [
    {
     "data": {
      "text/plain": [
       "3.44372733427345"
      ]
     },
     "execution_count": 157,
     "metadata": {},
     "output_type": "execute_result"
    }
   ],
   "source": [
    "reviews_vectorized[vector_cols[39]].skew()"
   ]
  },
  {
   "cell_type": "code",
   "execution_count": 158,
   "id": "d5d53683",
   "metadata": {},
   "outputs": [
    {
     "data": {
      "image/png": "[encoded data removed]",
      "text/plain": [
       "<Figure size 1440x720 with 2 Axes>"
      ]
     },
     "metadata": {
      "needs_background": "light"
     },
     "output_type": "display_data"
    }
   ],
   "source": [
    "box_plot(reviews_vectorized, vector_cols[39])"
   ]
  },
  {
   "cell_type": "markdown",
   "id": "0d17152d",
   "metadata": {},
   "source": [
    "The median for 'recommend' is 0, while the mean is offset from the median.  The data is highly positively skewed. Spread in the IQR is very small, with a large number of outliers. "
   ]
  },
  {
   "cell_type": "code",
   "execution_count": 159,
   "id": "ee5694d8",
   "metadata": {},
   "outputs": [
    {
     "data": {
      "text/plain": [
       "count    20789.000000\n",
       "mean         0.038258\n",
       "std          0.122763\n",
       "min          0.000000\n",
       "25%          0.000000\n",
       "50%          0.000000\n",
       "75%          0.000000\n",
       "max          1.000000\n",
       "Name: restaurant, dtype: float64"
      ]
     },
     "execution_count": 159,
     "metadata": {},
     "output_type": "execute_result"
    }
   ],
   "source": [
    "reviews_vectorized[vector_cols[40]].describe()"
   ]
  },
  {
   "cell_type": "code",
   "execution_count": 160,
   "id": "89501bad",
   "metadata": {},
   "outputs": [
    {
     "data": {
      "text/plain": [
       "3.5055884948595537"
      ]
     },
     "execution_count": 160,
     "metadata": {},
     "output_type": "execute_result"
    }
   ],
   "source": [
    "reviews_vectorized[vector_cols[40]].skew()"
   ]
  },
  {
   "cell_type": "code",
   "execution_count": 161,
   "id": "914fbb18",
   "metadata": {},
   "outputs": [
    {
     "data": {
      "image/png": "[encoded data removed]",
      "text/plain": [
       "<Figure size 1440x720 with 2 Axes>"
      ]
     },
     "metadata": {
      "needs_background": "light"
     },
     "output_type": "display_data"
    }
   ],
   "source": [
    "box_plot(reviews_vectorized, vector_cols[40])"
   ]
  },
  {
   "cell_type": "markdown",
   "id": "0b8986b4",
   "metadata": {},
   "source": [
    "The median for 'restaurant' is 0, while the mean is offset from the median.  The data is highly positively skewed. Spread in the IQR is very small, with a large number of outliers. "
   ]
  },
  {
   "cell_type": "code",
   "execution_count": 162,
   "id": "ce1684bc",
   "metadata": {},
   "outputs": [
    {
     "data": {
      "text/plain": [
       "count    20789.000000\n",
       "mean         0.028422\n",
       "std          0.104790\n",
       "min          0.000000\n",
       "25%          0.000000\n",
       "50%          0.000000\n",
       "75%          0.000000\n",
       "max          1.000000\n",
       "Name: right, dtype: float64"
      ]
     },
     "execution_count": 162,
     "metadata": {},
     "output_type": "execute_result"
    }
   ],
   "source": [
    "reviews_vectorized[vector_cols[41]].describe()"
   ]
  },
  {
   "cell_type": "code",
   "execution_count": 163,
   "id": "a387b71e",
   "metadata": {},
   "outputs": [
    {
     "data": {
      "text/plain": [
       "4.168894574531875"
      ]
     },
     "execution_count": 163,
     "metadata": {},
     "output_type": "execute_result"
    }
   ],
   "source": [
    "reviews_vectorized[vector_cols[41]].skew()"
   ]
  },
  {
   "cell_type": "code",
   "execution_count": 164,
   "id": "c66e84c5",
   "metadata": {},
   "outputs": [
    {
     "data": {
      "image/png": "[encoded data removed]",
      "text/plain": [
       "<Figure size 1440x720 with 2 Axes>"
      ]
     },
     "metadata": {
      "needs_background": "light"
     },
     "output_type": "display_data"
    }
   ],
   "source": [
    "box_plot(reviews_vectorized, vector_cols[41])"
   ]
  },
  {
   "cell_type": "markdown",
   "id": "68565b4b",
   "metadata": {},
   "source": [
    "The median for 'right' is 0, while the mean is offset from the median.  The data is highly positively skewed. Spread in the IQR is very small, with a large number of outliers. "
   ]
  },
  {
   "cell_type": "code",
   "execution_count": 165,
   "id": "4e6e2210",
   "metadata": {},
   "outputs": [
    {
     "data": {
      "text/plain": [
       "count    20789.000000\n",
       "mean         0.029870\n",
       "std          0.112363\n",
       "min          0.000000\n",
       "25%          0.000000\n",
       "50%          0.000000\n",
       "75%          0.000000\n",
       "max          1.000000\n",
       "Name: said, dtype: float64"
      ]
     },
     "execution_count": 165,
     "metadata": {},
     "output_type": "execute_result"
    }
   ],
   "source": [
    "reviews_vectorized[vector_cols[42]].describe()"
   ]
  },
  {
   "cell_type": "code",
   "execution_count": 166,
   "id": "26fc9a95",
   "metadata": {},
   "outputs": [
    {
     "data": {
      "text/plain": [
       "4.256166605567571"
      ]
     },
     "execution_count": 166,
     "metadata": {},
     "output_type": "execute_result"
    }
   ],
   "source": [
    "reviews_vectorized[vector_cols[42]].skew()"
   ]
  },
  {
   "cell_type": "code",
   "execution_count": 167,
   "id": "b660db9f",
   "metadata": {},
   "outputs": [
    {
     "data": {
      "image/png": "[encoded data removed]",
      "text/plain": [
       "<Figure size 1440x720 with 2 Axes>"
      ]
     },
     "metadata": {
      "needs_background": "light"
     },
     "output_type": "display_data"
    }
   ],
   "source": [
    "box_plot(reviews_vectorized, vector_cols[42])"
   ]
  },
  {
   "cell_type": "markdown",
   "id": "cc56193c",
   "metadata": {},
   "source": [
    "The median for 'said' is 0, while the mean is offset from the median.  The data is highly positively skewed. Spread in the IQR is very small, with a large number of outliers. "
   ]
  },
  {
   "cell_type": "code",
   "execution_count": 168,
   "id": "9c3e99ae",
   "metadata": {},
   "outputs": [
    {
     "data": {
      "text/plain": [
       "count    20789.000000\n",
       "mean         0.081385\n",
       "std          0.158969\n",
       "min          0.000000\n",
       "25%          0.000000\n",
       "50%          0.000000\n",
       "75%          0.117614\n",
       "max          1.000000\n",
       "Name: service, dtype: float64"
      ]
     },
     "execution_count": 168,
     "metadata": {},
     "output_type": "execute_result"
    }
   ],
   "source": [
    "reviews_vectorized[vector_cols[43]].describe()"
   ]
  },
  {
   "cell_type": "code",
   "execution_count": 169,
   "id": "518cfa4b",
   "metadata": {},
   "outputs": [
    {
     "data": {
      "text/plain": [
       "2.179314026033231"
      ]
     },
     "execution_count": 169,
     "metadata": {},
     "output_type": "execute_result"
    }
   ],
   "source": [
    "reviews_vectorized[vector_cols[43]].skew()"
   ]
  },
  {
   "cell_type": "code",
   "execution_count": 170,
   "id": "d2fdb989",
   "metadata": {},
   "outputs": [
    {
     "data": {
      "image/png": "[encoded data removed]",
      "text/plain": [
       "<Figure size 1440x720 with 2 Axes>"
      ]
     },
     "metadata": {
      "needs_background": "light"
     },
     "output_type": "display_data"
    }
   ],
   "source": [
    "box_plot(reviews_vectorized, vector_cols[43])"
   ]
  },
  {
   "cell_type": "markdown",
   "id": "b7a068fc",
   "metadata": {},
   "source": [
    "The median for 'service' is 0, while the mean is offset from the median.  The data is highly positively skewed. Spread in the IQR is small, with a large number of outliers. "
   ]
  },
  {
   "cell_type": "code",
   "execution_count": 171,
   "id": "0fde1472",
   "metadata": {},
   "outputs": [
    {
     "data": {
      "text/plain": [
       "count    20789.000000\n",
       "mean         0.051911\n",
       "std          0.140476\n",
       "min          0.000000\n",
       "25%          0.000000\n",
       "50%          0.000000\n",
       "75%          0.000000\n",
       "max          1.000000\n",
       "Name: staff, dtype: float64"
      ]
     },
     "execution_count": 171,
     "metadata": {},
     "output_type": "execute_result"
    }
   ],
   "source": [
    "reviews_vectorized[vector_cols[44]].describe()"
   ]
  },
  {
   "cell_type": "code",
   "execution_count": 172,
   "id": "1aa75130",
   "metadata": {},
   "outputs": [
    {
     "data": {
      "text/plain": [
       "2.9461672398286636"
      ]
     },
     "execution_count": 172,
     "metadata": {},
     "output_type": "execute_result"
    }
   ],
   "source": [
    "reviews_vectorized[vector_cols[44]].skew()"
   ]
  },
  {
   "cell_type": "code",
   "execution_count": 173,
   "id": "ab2589f2",
   "metadata": {},
   "outputs": [
    {
     "data": {
      "image/png": "[encoded data removed]",
      "text/plain": [
       "<Figure size 1440x720 with 2 Axes>"
      ]
     },
     "metadata": {
      "needs_background": "light"
     },
     "output_type": "display_data"
    }
   ],
   "source": [
    "box_plot(reviews_vectorized, vector_cols[44])"
   ]
  },
  {
   "cell_type": "markdown",
   "id": "e4983f39",
   "metadata": {},
   "source": [
    "The median for 'staff' is 0, while the mean is offset from the median.  The data is highly positively skewed. Spread in the IQR is very small, with a large number of outliers. "
   ]
  },
  {
   "cell_type": "code",
   "execution_count": 174,
   "id": "387245f3",
   "metadata": {},
   "outputs": [
    {
     "data": {
      "text/plain": [
       "count    20789.000000\n",
       "mean         0.071264\n",
       "std          0.150341\n",
       "min          0.000000\n",
       "25%          0.000000\n",
       "50%          0.000000\n",
       "75%          0.000000\n",
       "max          1.000000\n",
       "Name: time, dtype: float64"
      ]
     },
     "execution_count": 174,
     "metadata": {},
     "output_type": "execute_result"
    }
   ],
   "source": [
    "reviews_vectorized[vector_cols[45]].describe()"
   ]
  },
  {
   "cell_type": "code",
   "execution_count": 175,
   "id": "1b62aed5",
   "metadata": {},
   "outputs": [
    {
     "data": {
      "text/plain": [
       "2.3473196332192225"
      ]
     },
     "execution_count": 175,
     "metadata": {},
     "output_type": "execute_result"
    }
   ],
   "source": [
    "reviews_vectorized[vector_cols[45]].skew()"
   ]
  },
  {
   "cell_type": "code",
   "execution_count": 176,
   "id": "a9fcf87b",
   "metadata": {},
   "outputs": [
    {
     "data": {
      "image/png": "[encoded data removed]",
      "text/plain": [
       "<Figure size 1440x720 with 2 Axes>"
      ]
     },
     "metadata": {
      "needs_background": "light"
     },
     "output_type": "display_data"
    }
   ],
   "source": [
    "box_plot(reviews_vectorized, vector_cols[45])"
   ]
  },
  {
   "cell_type": "markdown",
   "id": "4293e58f",
   "metadata": {},
   "source": [
    "The median for 'time' is 0, while the mean is offset from the median.  The data is highly positively skewed. Spread in the IQR is very small, with a large number of outliers. "
   ]
  },
  {
   "cell_type": "code",
   "execution_count": 177,
   "id": "b418aee3",
   "metadata": {},
   "outputs": [
    {
     "data": {
      "text/plain": [
       "count    20789.000000\n",
       "mean         0.037023\n",
       "std          0.116683\n",
       "min          0.000000\n",
       "25%          0.000000\n",
       "50%          0.000000\n",
       "75%          0.000000\n",
       "max          1.000000\n",
       "Name: try, dtype: float64"
      ]
     },
     "execution_count": 177,
     "metadata": {},
     "output_type": "execute_result"
    }
   ],
   "source": [
    "reviews_vectorized[vector_cols[46]].describe()"
   ]
  },
  {
   "cell_type": "code",
   "execution_count": 178,
   "id": "69ea800d",
   "metadata": {},
   "outputs": [
    {
     "data": {
      "text/plain": [
       "3.512089646594369"
      ]
     },
     "execution_count": 178,
     "metadata": {},
     "output_type": "execute_result"
    }
   ],
   "source": [
    "reviews_vectorized[vector_cols[46]].skew()"
   ]
  },
  {
   "cell_type": "code",
   "execution_count": 179,
   "id": "415828e3",
   "metadata": {},
   "outputs": [
    {
     "data": {
      "image/png": "[encoded data removed]",
      "text/plain": [
       "<Figure size 1440x720 with 2 Axes>"
      ]
     },
     "metadata": {
      "needs_background": "light"
     },
     "output_type": "display_data"
    }
   ],
   "source": [
    "box_plot(reviews_vectorized, vector_cols[46])"
   ]
  },
  {
   "cell_type": "markdown",
   "id": "38181740",
   "metadata": {},
   "source": [
    "The median for 'try' is 0, while the mean is offset from the median.  The data is highly positively skewed. Spread in the IQR is very small, with a large number of outliers. "
   ]
  },
  {
   "cell_type": "code",
   "execution_count": 180,
   "id": "994a5ea7",
   "metadata": {},
   "outputs": [
    {
     "data": {
      "text/plain": [
       "count    20789.000000\n",
       "mean         0.033154\n",
       "std          0.116265\n",
       "min          0.000000\n",
       "25%          0.000000\n",
       "50%          0.000000\n",
       "75%          0.000000\n",
       "max          1.000000\n",
       "Name: wait, dtype: float64"
      ]
     },
     "execution_count": 180,
     "metadata": {},
     "output_type": "execute_result"
    }
   ],
   "source": [
    "reviews_vectorized[vector_cols[47]].describe()"
   ]
  },
  {
   "cell_type": "code",
   "execution_count": 181,
   "id": "c8bbfc89",
   "metadata": {},
   "outputs": [
    {
     "data": {
      "text/plain": [
       "3.9003848738664737"
      ]
     },
     "execution_count": 181,
     "metadata": {},
     "output_type": "execute_result"
    }
   ],
   "source": [
    "reviews_vectorized[vector_cols[47]].skew()"
   ]
  },
  {
   "cell_type": "code",
   "execution_count": 182,
   "id": "7b4d7b5a",
   "metadata": {},
   "outputs": [
    {
     "data": {
      "image/png": "[encoded data removed]",
      "text/plain": [
       "<Figure size 1440x720 with 2 Axes>"
      ]
     },
     "metadata": {
      "needs_background": "light"
     },
     "output_type": "display_data"
    }
   ],
   "source": [
    "box_plot(reviews_vectorized, vector_cols[47])"
   ]
  },
  {
   "cell_type": "markdown",
   "id": "4808bf2d",
   "metadata": {},
   "source": [
    "The median for 'wait' is 0, while the mean is offset from the median.  The data is highly positively skewed. Spread in the IQR is very small, with a large number of outliers. "
   ]
  },
  {
   "cell_type": "code",
   "execution_count": 183,
   "id": "cf99a648",
   "metadata": {},
   "outputs": [
    {
     "data": {
      "text/plain": [
       "count    20789.000000\n",
       "mean         0.030216\n",
       "std          0.109096\n",
       "min          0.000000\n",
       "25%          0.000000\n",
       "50%          0.000000\n",
       "75%          0.000000\n",
       "max          1.000000\n",
       "Name: way, dtype: float64"
      ]
     },
     "execution_count": 183,
     "metadata": {},
     "output_type": "execute_result"
    }
   ],
   "source": [
    "reviews_vectorized[vector_cols[48]].describe()"
   ]
  },
  {
   "cell_type": "code",
   "execution_count": 184,
   "id": "aed1e2ed",
   "metadata": {},
   "outputs": [
    {
     "data": {
      "text/plain": [
       "4.075521358409976"
      ]
     },
     "execution_count": 184,
     "metadata": {},
     "output_type": "execute_result"
    }
   ],
   "source": [
    "reviews_vectorized[vector_cols[48]].skew()"
   ]
  },
  {
   "cell_type": "code",
   "execution_count": 185,
   "id": "4a390edd",
   "metadata": {},
   "outputs": [
    {
     "data": {
      "image/png": "[encoded data removed]",
      "text/plain": [
       "<Figure size 1440x720 with 2 Axes>"
      ]
     },
     "metadata": {
      "needs_background": "light"
     },
     "output_type": "display_data"
    }
   ],
   "source": [
    "box_plot(reviews_vectorized, vector_cols[48])"
   ]
  },
  {
   "cell_type": "markdown",
   "id": "4d430231",
   "metadata": {},
   "source": [
    "The median for 'way' is 0, while the mean is offset from the median.  The data is highly positively skewed. Spread in the IQR is very small, with a large number of outliers. "
   ]
  },
  {
   "cell_type": "code",
   "execution_count": null,
   "id": "b877574e",
   "metadata": {},
   "outputs": [],
   "source": []
  },
  {
   "cell_type": "code",
   "execution_count": 186,
   "id": "b538f540",
   "metadata": {},
   "outputs": [
    {
     "data": {
      "text/plain": [
       "count    20789.000000\n",
       "mean         0.030216\n",
       "std          0.109096\n",
       "min          0.000000\n",
       "25%          0.000000\n",
       "50%          0.000000\n",
       "75%          0.000000\n",
       "max          1.000000\n",
       "Name: way, dtype: float64"
      ]
     },
     "execution_count": 186,
     "metadata": {},
     "output_type": "execute_result"
    }
   ],
   "source": [
    "reviews_vectorized[vector_cols[48]].describe()"
   ]
  },
  {
   "cell_type": "code",
   "execution_count": 187,
   "id": "6da1c53f",
   "metadata": {},
   "outputs": [
    {
     "data": {
      "text/plain": [
       "4.075521358409976"
      ]
     },
     "execution_count": 187,
     "metadata": {},
     "output_type": "execute_result"
    }
   ],
   "source": [
    "reviews_vectorized[vector_cols[48]].skew()"
   ]
  },
  {
   "cell_type": "code",
   "execution_count": 188,
   "id": "6a7688dc",
   "metadata": {},
   "outputs": [
    {
     "data": {
      "image/png": "[encoded data removed]",
      "text/plain": [
       "<Figure size 1440x720 with 2 Axes>"
      ]
     },
     "metadata": {
      "needs_background": "light"
     },
     "output_type": "display_data"
    }
   ],
   "source": [
    "box_plot(reviews_vectorized, vector_cols[48])"
   ]
  },
  {
   "cell_type": "markdown",
   "id": "a951585a",
   "metadata": {},
   "source": [
    "The median for 'way' is 0, while the mean is offset from the median.  The data is highly positively skewed. Spread in the IQR is very small, with a large number of outliers. "
   ]
  },
  {
   "cell_type": "code",
   "execution_count": 189,
   "id": "9c68610b",
   "metadata": {},
   "outputs": [
    {
     "data": {
      "text/plain": [
       "count    20789.000000\n",
       "mean         0.038891\n",
       "std          0.120864\n",
       "min          0.000000\n",
       "25%          0.000000\n",
       "50%          0.000000\n",
       "75%          0.000000\n",
       "max          1.000000\n",
       "Name: went, dtype: float64"
      ]
     },
     "execution_count": 189,
     "metadata": {},
     "output_type": "execute_result"
    }
   ],
   "source": [
    "reviews_vectorized[vector_cols[49]].describe()"
   ]
  },
  {
   "cell_type": "code",
   "execution_count": 190,
   "id": "21ceb953",
   "metadata": {},
   "outputs": [
    {
     "data": {
      "text/plain": [
       "3.4682224139728612"
      ]
     },
     "execution_count": 190,
     "metadata": {},
     "output_type": "execute_result"
    }
   ],
   "source": [
    "reviews_vectorized[vector_cols[49]].skew()"
   ]
  },
  {
   "cell_type": "code",
   "execution_count": 191,
   "id": "f0d3973a",
   "metadata": {},
   "outputs": [
    {
     "data": {
      "image/png": "[encoded data removed]",
      "text/plain": [
       "<Figure size 1440x720 with 2 Axes>"
      ]
     },
     "metadata": {
      "needs_background": "light"
     },
     "output_type": "display_data"
    }
   ],
   "source": [
    "box_plot(reviews_vectorized, vector_cols[49])"
   ]
  },
  {
   "cell_type": "markdown",
   "id": "37feb11c",
   "metadata": {},
   "source": [
    "The median for 'went' is 0, while the mean is offset from the median.  The data is highly positively skewed. Spread in the IQR is very small, with a large number of outliers. "
   ]
  },
  {
   "cell_type": "markdown",
   "id": "036aa6af",
   "metadata": {},
   "source": [
    "### Summary"
   ]
  },
  {
   "cell_type": "markdown",
   "id": "4a26872c",
   "metadata": {},
   "source": [
    "The stars column did not need to be cleaned up of outliers as there are only values of 1-5 in the rows.  The largest number of rows had the value of five.  The column that the target was derived from (useful) needed to be pruned to get rid of extreme outliers, so rows were dropped that had greater than a 100 value.  The cool and funny columns were dropped because there were more zeroes than values greater than zero.  For the funny column, the maximum value was 35.  For the cool column, the maximum value was 303.  Neither had a great number of values over zero.  For the number of words column, rows were dropped that had values greater than 600.  The maximum number of words was 1,002.  For the number of characters column, rows were dropped with a value greater than 2,500.  The maximum number of characters was 4868.  \n",
    "\n",
    "I also vectorized the text column, and graphed the results.  In addition I generated summary statistics.  Overall, there are no surprises here.  The data for each word was heavily skewed, and the medians were zero.  There were large numbers of outliers in each case.  \n",
    "\n",
    "For risks following the EDA, having to drop the cool and funny columns reduces the number of yelp columns that I can feed into models.  This may have an impact on the scoring of the models.  There may also be limitations on how high a score can be achieved, as there are a large number of strings to parse.  "
   ]
  },
  {
   "cell_type": "markdown",
   "id": "f0b9baa6",
   "metadata": {},
   "source": [
    "### Next steps"
   ]
  },
  {
   "cell_type": "markdown",
   "id": "75347782",
   "metadata": {},
   "source": [
    "For proposed next steps, I will investigate vectorization of the data.  I will look into using TF-IDF or bag of words.  From there I will pass the vectorized data into several models to find the model with the best outcome.  A shortlist of models that I may investigate are: KNN, logistic regression, SVM, and random forest.  I may also look into convolutional neural networks.  Once I have identified the model with the best outcome I will tune the model, and generate metrics.  "
   ]
  },
  {
   "cell_type": "code",
   "execution_count": null,
   "id": "0ee68692",
   "metadata": {},
   "outputs": [],
   "source": []
  }
 ],
 "metadata": {
  "kernelspec": {
   "display_name": "Python 3 (ipykernel)",
   "language": "python",
   "name": "python3"
  },
  "language_info": {
   "codemirror_mode": {
    "name": "ipython",
    "version": 3
   },
   "file_extension": ".py",
   "mimetype": "text/x-python",
   "name": "python",
   "nbconvert_exporter": "python",
   "pygments_lexer": "ipython3",
   "version": "3.9.7"
  }
 },
 "nbformat": 4,
 "nbformat_minor": 5
}
