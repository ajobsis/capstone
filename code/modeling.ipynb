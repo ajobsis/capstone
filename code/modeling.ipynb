{
 "cells": [
  {
   "cell_type": "markdown",
   "id": "f1dbae42",
   "metadata": {},
   "source": [
    "## Modeling"
   ]
  },
  {
   "cell_type": "markdown",
   "id": "90254ebf",
   "metadata": {},
   "source": [
    "### Imports"
   ]
  },
  {
   "cell_type": "code",
   "execution_count": 1,
   "id": "68cc5583",
   "metadata": {},
   "outputs": [],
   "source": [
    "# imports\n",
    "import pandas as pd\n",
    "import numpy as np\n",
    "import sqlite3\n",
    "\n",
    "from sklearn.feature_extraction.text import TfidfVectorizer\n",
    "from sklearn.model_selection import (train_test_split, \n",
    "                                     cross_val_score,\n",
    "                                     StratifiedKFold,\n",
    "                                     GridSearchCV)\n",
    "\n",
    "from sklearn.linear_model import (LogisticRegression, \n",
    "                                  LassoCV, \n",
    "                                  Lasso)\n",
    "\n",
    "from sklearn.svm import SVC, LinearSVC\n",
    "from sklearn.calibration import CalibratedClassifierCV\n",
    "\n",
    "from sklearn.tree import DecisionTreeClassifier\n",
    "from sklearn.preprocessing import StandardScaler\n",
    "from sklearn.ensemble import RandomForestClassifier\n",
    "\n",
    "from nltk.stem.porter import *\n",
    "from  nltk.stem import PorterStemmer\n",
    "\n",
    "from sklearn.metrics import (precision_score,\n",
    "                             f1_score,\n",
    "                             recall_score,\n",
    "                             accuracy_score,\n",
    "                             confusion_matrix,\n",
    "                             ConfusionMatrixDisplay, \n",
    "                             classification_report,\n",
    "                             roc_curve,\n",
    "                             auc)\n",
    "\n",
    "import tensorflow as tf\n",
    "from tensorflow.keras.regularizers import l2\n",
    "from tensorflow.keras.models import Sequential\n",
    "from tensorflow.keras import layers\n",
    "\n",
    "from matplotlib import pyplot as plt\n",
    "np.random.seed(73)\n",
    "tf.random.set_seed(73)"
   ]
  },
  {
   "cell_type": "markdown",
   "id": "4c934589",
   "metadata": {},
   "source": [
    "### Functions"
   ]
  },
  {
   "cell_type": "code",
   "execution_count": 2,
   "id": "16b65ec7",
   "metadata": {},
   "outputs": [],
   "source": [
    "def score(model, name, X, y):\n",
    "    cv = StratifiedKFold(n_splits=10,\n",
    "                         random_state=73,\n",
    "                         shuffle=True)\n",
    "    s = cross_val_score(model, X, y, cv=cv,\n",
    "                        n_jobs=-1)\n",
    "    print('{} Score: {:.2f} +- {:.3f}'.format(name, \n",
    "                                              s.mean(), \n",
    "                                              2 * s.std()))"
   ]
  },
  {
   "cell_type": "code",
   "execution_count": 3,
   "id": "59a70148",
   "metadata": {},
   "outputs": [],
   "source": [
    "# confusion matrix\n",
    "def con_matrix(model, X, y, title):\n",
    "    conmat = np.array(confusion_matrix(y, \n",
    "                                       model.predict(X), \n",
    "                                       labels=[0, 1]))\n",
    "\n",
    "    print(classification_report(y,\n",
    "                        model.predict(X), \n",
    "                        zero_division=True,\n",
    "                        target_names=['Not Useful', 'Useful']))\n",
    "\n",
    "    matrix_display = ConfusionMatrixDisplay(confusion_matrix=conmat, \n",
    "                            display_labels=['Not useful','useful'])\n",
    "    matrix_display.plot()\n",
    "\n",
    "    figure = plt.gcf()\n",
    "    plt.title(title)\n",
    "    figure.set_size_inches(8, 8)"
   ]
  },
  {
   "cell_type": "code",
   "execution_count": 4,
   "id": "ed6fdbd4",
   "metadata": {},
   "outputs": [],
   "source": [
    "\n",
    "def roc_plot(model, X, y, title):\n",
    "    y_proba = model.predict_proba(X)\n",
    "    fpr, tpr, _ = roc_curve(y, y_proba[:,1], pos_label=1)\n",
    "    roc_auc = auc(fpr, tpr)\n",
    "\n",
    "\n",
    "    plt.figure(figsize=[8,8])\n",
    "    plt.plot(fpr, tpr, label='ROC curve (area = %0.2f)' % roc_auc, linewidth=4)\n",
    "    plt.plot([0, 1], [0, 1], 'k--', linewidth=4)\n",
    "    plt.xlim([-0.05, 1.0])\n",
    "    plt.ylim([-0.05, 1.05])\n",
    "    plt.xlabel('False Positive Rate', fontsize=14)\n",
    "    plt.ylabel('True Positive Rate', fontsize=14)\n",
    "    plt.title('ROC for Useful Reviews ({})'.format(title), fontsize=16)\n",
    "    plt.legend(loc=\"lower right\")\n",
    "    ;"
   ]
  },
  {
   "cell_type": "markdown",
   "id": "dc9a1662",
   "metadata": {},
   "source": [
    "## Baseline"
   ]
  },
  {
   "cell_type": "code",
   "execution_count": 5,
   "id": "a7bdeb77",
   "metadata": {},
   "outputs": [],
   "source": [
    "# load data\n",
    "db_con = sqlite3.connect('../data/yelp.db.sqlite')"
   ]
  },
  {
   "cell_type": "code",
   "execution_count": 6,
   "id": "34fbba64",
   "metadata": {},
   "outputs": [],
   "source": [
    "# create dataframe\n",
    "reviews = pd.DataFrame(pd.read_sql('select * from \\\n",
    "reviews_cleaned;',\n",
    "           con=db_con))"
   ]
  },
  {
   "cell_type": "code",
   "execution_count": 7,
   "id": "c78533c9",
   "metadata": {},
   "outputs": [
    {
     "data": {
      "text/plain": [
       "0    0.555053\n",
       "1    0.444947\n",
       "Name: target, dtype: float64"
      ]
     },
     "execution_count": 7,
     "metadata": {},
     "output_type": "execute_result"
    }
   ],
   "source": [
    "reviews.target.value_counts(normalize=True)"
   ]
  },
  {
   "cell_type": "markdown",
   "id": "7a66a2cf",
   "metadata": {},
   "source": [
    "The baseline of the target is 0.56, for reviews with zero useful votes."
   ]
  },
  {
   "cell_type": "markdown",
   "id": "ef63231f",
   "metadata": {},
   "source": [
    "### Pre-processing\n",
    "\n",
    "The following section applies stemming to the corpus.  The data is then vectorized using TD-IDF.  From there, lasso is used to reduce the number of vectorized columns.  The final result of that is then concatenated with the original dataframe to produce the final modeling columns."
   ]
  },
  {
   "cell_type": "code",
   "execution_count": 8,
   "id": "8156ae84",
   "metadata": {},
   "outputs": [],
   "source": [
    "# apply stemmer\n",
    "stemmer = PorterStemmer()\n",
    "reviews['text'] = reviews['text'].apply(lambda x: stemmer.stem(x))"
   ]
  },
  {
   "cell_type": "code",
   "execution_count": 9,
   "id": "10299cc8",
   "metadata": {},
   "outputs": [
    {
     "data": {
      "text/plain": [
       "TfidfVectorizer(max_df=0.6, max_features=200, stop_words='english',\n",
       "                strip_accents='ascii')"
      ]
     },
     "execution_count": 9,
     "metadata": {},
     "output_type": "execute_result"
    }
   ],
   "source": [
    "## instantiate vectorizer\n",
    "tvec = TfidfVectorizer(stop_words = 'english',\n",
    "                       strip_accents = 'ascii',\n",
    "                       max_features = 200,\n",
    "                       max_df = .60,\n",
    "                       norm = 'l2'\n",
    "                      )\n",
    "tvec.fit(reviews.text)"
   ]
  },
  {
   "cell_type": "code",
   "execution_count": 10,
   "id": "a2e04434",
   "metadata": {},
   "outputs": [],
   "source": [
    "# create vectorized dataframe\n",
    "reviews_tvec = pd.DataFrame(tvec.transform(reviews.text).todense(),\n",
    "                  columns = tvec.get_feature_names())"
   ]
  },
  {
   "cell_type": "code",
   "execution_count": 11,
   "id": "4f4f4449",
   "metadata": {},
   "outputs": [],
   "source": [
    "# add target to tvec data\n",
    "reviews_tvec['target'] = reviews.target"
   ]
  },
  {
   "cell_type": "code",
   "execution_count": 12,
   "id": "23dbc4ba",
   "metadata": {},
   "outputs": [],
   "source": [
    "# instsantiate X and y for tvec data\n",
    "X_tvec = reviews_tvec.drop(['target'], axis = 1)\n",
    "y_tvec = reviews_tvec.target"
   ]
  },
  {
   "cell_type": "markdown",
   "id": "ce2ccf0d",
   "metadata": {},
   "source": [
    "***Note*** we are using lasso to reduce collumns"
   ]
  },
  {
   "cell_type": "code",
   "execution_count": 13,
   "id": "f91a03dc",
   "metadata": {},
   "outputs": [],
   "source": [
    "# instantiate LassoCV model\n",
    "lasso_cv = LassoCV(cv=5, max_iter=10000, tol=0.001)\\\n",
    ".fit(X_tvec, y_tvec)"
   ]
  },
  {
   "cell_type": "code",
   "execution_count": 14,
   "id": "bd6be020",
   "metadata": {},
   "outputs": [],
   "source": [
    "# fit model and generate columns for modeling\n",
    "new_lasso = Lasso(alpha=lasso_cv.alpha_)\n",
    "\n",
    "new_lasso.fit(X_tvec, y_tvec)\n",
    "\n",
    "final_col_for_modeling_best_alpha = [col for col, \\\n",
    "        coef in zip(X_tvec.columns, new_lasso.coef_) if coef]"
   ]
  },
  {
   "cell_type": "code",
   "execution_count": 15,
   "id": "86cda0ef",
   "metadata": {},
   "outputs": [],
   "source": [
    "# generate new dataframe using final columns\n",
    "reviews_tvec = reviews_tvec[final_col_for_modeling_best_alpha]"
   ]
  },
  {
   "cell_type": "code",
   "execution_count": 16,
   "id": "5093dbbf",
   "metadata": {},
   "outputs": [],
   "source": [
    "# concat vectorized and reviews dataframes\n",
    "reviews_final = pd.concat([reviews,reviews_tvec],axis=1)"
   ]
  },
  {
   "cell_type": "markdown",
   "id": "d1eb3cc6",
   "metadata": {},
   "source": [
    "We then instantiate X and y, do a train test split, and standard scale in preparation for modeling."
   ]
  },
  {
   "cell_type": "code",
   "execution_count": 17,
   "id": "061cf44c",
   "metadata": {},
   "outputs": [],
   "source": [
    "# instantiate X and y\n",
    "X = reviews_final.drop(['review_id', 'user_id', 'business_id', \n",
    "                        'date','text','useful','target'], axis=1)\n",
    "y = reviews_final.target"
   ]
  },
  {
   "cell_type": "code",
   "execution_count": 18,
   "id": "23e5ab1c",
   "metadata": {},
   "outputs": [],
   "source": [
    "# set up train test split\n",
    "X_train, X_test, y_train, y_test = train_test_split(X, y,\n",
    "                        test_size=0.2, random_state=73)"
   ]
  },
  {
   "cell_type": "code",
   "execution_count": 19,
   "id": "ade64648",
   "metadata": {},
   "outputs": [],
   "source": [
    "# standard scale the data\n",
    "ss = StandardScaler()\n",
    "X_train_ss = ss.fit_transform(X_train)\n",
    "\n",
    "X_test_ss = ss.transform(X_test)"
   ]
  },
  {
   "cell_type": "markdown",
   "id": "31cc0a31",
   "metadata": {},
   "source": [
    "### Logistic Regression Model"
   ]
  },
  {
   "cell_type": "code",
   "execution_count": 20,
   "id": "35e52550",
   "metadata": {},
   "outputs": [],
   "source": [
    "# set up gridsearch params\n",
    "log_params = {'C': [10.0, 100.0]}\n",
    "\n",
    "# Instantiate GridSearchCV object.\n",
    "log_grid = GridSearchCV(LogisticRegression(),\n",
    "                              log_params,\n",
    "                              cv=5,\n",
    "                              verbose=0)"
   ]
  },
  {
   "cell_type": "code",
   "execution_count": 21,
   "id": "25da58ee",
   "metadata": {},
   "outputs": [
    {
     "data": {
      "text/plain": [
       "GridSearchCV(cv=5, estimator=LogisticRegression(),\n",
       "             param_grid={'C': [10.0, 100.0]})"
      ]
     },
     "execution_count": 21,
     "metadata": {},
     "output_type": "execute_result"
    }
   ],
   "source": [
    "# run gridsearch\n",
    "log_grid.fit(X_train_ss, y_train)"
   ]
  },
  {
   "cell_type": "code",
   "execution_count": 22,
   "id": "e82d3932",
   "metadata": {},
   "outputs": [
    {
     "name": "stdout",
     "output_type": "stream",
     "text": [
      "0.6228724655016509 best score\n",
      "LogisticRegression(C=100.0) best model\n",
      "{'C': 100.0} best params\n"
     ]
    }
   ],
   "source": [
    "print(str(log_grid.best_score_) + ' best score')\n",
    "print(str(log_grid.best_estimator_) + ' best model')\n",
    "print(str(log_grid.best_params_) + ' best params')"
   ]
  },
  {
   "cell_type": "code",
   "execution_count": 20,
   "id": "99167a57",
   "metadata": {
    "scrolled": true
   },
   "outputs": [
    {
     "data": {
      "text/plain": [
       "LogisticRegression(C=10, random_state=73, solver='liblinear')"
      ]
     },
     "execution_count": 20,
     "metadata": {},
     "output_type": "execute_result"
    }
   ],
   "source": [
    "lr = LogisticRegression(solver='liblinear',\n",
    "                       C=10,\n",
    "                       penalty='l2',\n",
    "                       random_state=73\n",
    "                       )\n",
    "\n",
    "lr.fit(X_train_ss, y_train)"
   ]
  },
  {
   "cell_type": "code",
   "execution_count": 21,
   "id": "ee1a9d79",
   "metadata": {},
   "outputs": [],
   "source": [
    "lr_imp = {feature: importance for feature, importance in zip(X.columns, \n",
    "                                lr.coef_[0])}"
   ]
  },
  {
   "cell_type": "markdown",
   "id": "56b9b824",
   "metadata": {},
   "source": [
    "- An increase in one standard deviation **num_chars** is associated with 1.58 increase in the odds of a useful post.\n",
    "\n",
    "- An increase in one standard deviation **need** is associated with 1.07 increase in the odds of a useful post.\n",
    "\n",
    "- An increase in one standard deviation **new** is associated with 1.06 increase in the odds of a useful post.\n",
    "\n",
    "- An increase in one standard deviation **store** is associated with 1.06 increase in the odds of a useful post.\n",
    "\n",
    "- An increase in one standard deviation **shop** is associated with 1.06 increase in the odds of a useful post.\n",
    "\n",
    "- An increase in one standard deviation **place** is associated with 1.06 increase in the odds of a useful post.\n",
    "\n",
    "- An increase in one standard deviation **review** is associated with 1.06 increase in the odds of a useful post.\n",
    "\n",
    "- An increase in one standard deviation **way** is associated with 1.05 increase in the odds of a useful post.\n",
    "\n",
    "- An increase in one standard deviation **decided** is associated with 1.05 increase in the odds of a useful post.\n",
    "\n",
    "- An increase in one standard deviation **youre** is associated with 1.05 increase in the odds of a useful post.\n",
    "\n",
    "- An increase in one standard deviation **num_words** is associated with 0.92 decrease in the odds of a useful post.\n",
    "\n",
    "- An increase in one standard deviation **atmosphere** is associated with 0.94 decrease in the odds of a useful post.\n",
    "\n",
    "- An increase in one standard deviation **food** is associated with 0.95 decrease in the odds of a useful post.\n",
    "\n",
    "- An increase in one standard deviation **server** is associated with 0.96 decrease in the odds of a useful post.\n",
    "\n",
    "- An increase in one standard deviation **table** is associated with 0.96 decrease in the odds of a useful post.\n",
    "\n"
   ]
  },
  {
   "cell_type": "markdown",
   "id": "e8776505",
   "metadata": {},
   "source": [
    "### Logistic regression Metrics"
   ]
  },
  {
   "cell_type": "code",
   "execution_count": 22,
   "id": "0d32e9c5",
   "metadata": {
    "scrolled": true
   },
   "outputs": [
    {
     "name": "stdout",
     "output_type": "stream",
     "text": [
      "Logistic regression Score: 0.62 +- 0.024\n"
     ]
    }
   ],
   "source": [
    "# score the X_train\n",
    "score(lr, 'Logistic regression', X_train_ss, y_train)"
   ]
  },
  {
   "cell_type": "code",
   "execution_count": 23,
   "id": "e4d0a3bb",
   "metadata": {},
   "outputs": [
    {
     "name": "stdout",
     "output_type": "stream",
     "text": [
      "Logistic regression Score: 0.62 +- 0.036\n"
     ]
    }
   ],
   "source": [
    "# score the X_test\n",
    "score(lr, 'Logistic regression', X_test_ss, y_test)"
   ]
  },
  {
   "cell_type": "code",
   "execution_count": 24,
   "id": "4ce0cf41",
   "metadata": {},
   "outputs": [
    {
     "name": "stdout",
     "output_type": "stream",
     "text": [
      "              precision    recall  f1-score   support\n",
      "\n",
      "  Not Useful       0.64      0.77      0.70      2327\n",
      "      Useful       0.61      0.45      0.52      1831\n",
      "\n",
      "    accuracy                           0.63      4158\n",
      "   macro avg       0.63      0.61      0.61      4158\n",
      "weighted avg       0.63      0.63      0.62      4158\n",
      "\n"
     ]
    },
    {
     "data": {
      "image/png": "[encoded data removed]",
      "text/plain": [
       "<Figure size 576x576 with 2 Axes>"
      ]
     },
     "metadata": {
      "needs_background": "light"
     },
     "output_type": "display_data"
    }
   ],
   "source": [
    "con_matrix(lr, X_test_ss, y_test, 'Logistic Regression Confusion Matrix')"
   ]
  },
  {
   "cell_type": "code",
   "execution_count": 25,
   "id": "2d4516d2",
   "metadata": {},
   "outputs": [
    {
     "data": {
      "image/png": "[encoded data removed]",
      "text/plain": [
       "<Figure size 576x576 with 1 Axes>"
      ]
     },
     "metadata": {
      "needs_background": "light"
     },
     "output_type": "display_data"
    }
   ],
   "source": [
    "roc_plot(lr, X_test_ss, y_test, 'Logistic Regression')"
   ]
  },
  {
   "cell_type": "markdown",
   "id": "ddbb42e4",
   "metadata": {},
   "source": [
    "The logistic regression model had an r-squared score of 0.62 +/- 0.036 for training data, while the test data scored slightly better with 0.62 +/- 0.038.  For precision, out of all the reviews that the model predicted would be useful, only 61% actually were.  For recall, out of all the reviews that actually were useful, the model predicted this outcome correctly for 61% of those reviews.  For the F-1 score, this value isn’t very close to 1, it tells us that the model does a poor job of predicting whether or not reviews will be useful.  The ROC score is below the acceptable range of 0.7+.  The model is better a predicting true and false negatives. The model performs above the baseline of 0.56."
   ]
  },
  {
   "cell_type": "markdown",
   "id": "78562681",
   "metadata": {},
   "source": [
    "### Random Forest Model"
   ]
  },
  {
   "cell_type": "code",
   "execution_count": 26,
   "id": "e83205d9",
   "metadata": {},
   "outputs": [],
   "source": [
    "# set up gridsearch params\n",
    "forest_params = {'n_estimators': [10, 50, 100, 200],\n",
    "                    'min_samples_leaf': [1, 5, 10]\n",
    "                }\n",
    "\n",
    "# Instantiate GridSearchCV object.\n",
    "forest_grid = GridSearchCV(RandomForestClassifier(),\n",
    "                              forest_params,\n",
    "                              cv=5,\n",
    "                              verbose=0)"
   ]
  },
  {
   "cell_type": "code",
   "execution_count": 27,
   "id": "4b3964bd",
   "metadata": {},
   "outputs": [
    {
     "data": {
      "text/plain": [
       "GridSearchCV(cv=5, estimator=RandomForestClassifier(),\n",
       "             param_grid={'min_samples_leaf': [1, 5, 10],\n",
       "                         'n_estimators': [10, 50, 100, 200]})"
      ]
     },
     "execution_count": 27,
     "metadata": {},
     "output_type": "execute_result"
    }
   ],
   "source": [
    "# run gridsearch\n",
    "forest_grid.fit(X_train, y_train)"
   ]
  },
  {
   "cell_type": "code",
   "execution_count": 31,
   "id": "78fe32ae",
   "metadata": {},
   "outputs": [
    {
     "name": "stdout",
     "output_type": "stream",
     "text": [
      "0.6324930536992023 best score\n",
      "{'min_samples_leaf': 10, 'n_estimators': 200} best params\n"
     ]
    }
   ],
   "source": [
    "print(str(forest_grid.best_score_) + ' best score')\n",
    "print(str(forest_grid.best_params_) + ' best params')"
   ]
  },
  {
   "cell_type": "code",
   "execution_count": 31,
   "id": "719c7cd6",
   "metadata": {},
   "outputs": [
    {
     "data": {
      "text/plain": [
       "RandomForestClassifier(min_samples_leaf=10, n_estimators=50, n_jobs=-1,\n",
       "                       random_state=73, warm_start=True)"
      ]
     },
     "execution_count": 31,
     "metadata": {},
     "output_type": "execute_result"
    }
   ],
   "source": [
    "# instantiate and fit\n",
    "rf = RandomForestClassifier(n_jobs=-1,\n",
    "                            random_state=73,\n",
    "                            n_estimators=50,\n",
    "                            min_samples_leaf=10,\n",
    "                            warm_start=True)\n",
    "rf.fit(X_train, y_train)"
   ]
  },
  {
   "cell_type": "code",
   "execution_count": 105,
   "id": "0ba29862",
   "metadata": {},
   "outputs": [],
   "source": [
    "rf_import = {feature: importance for feature, importance in zip(X.columns, \n",
    "                                    rf.feature_importances_)}"
   ]
  },
  {
   "cell_type": "markdown",
   "id": "5238a80f",
   "metadata": {},
   "source": [
    "The top 10 features of importance are:\n",
    "- num_words: 0.116852603839513\n",
    "- num_chars: 0.116775248360491\n",
    "- great: 0.0219457440853888\n",
    "- food: 0.021819203442455\n",
    "- like: 0.0185179958853776\n",
    "- just:\t0.0181470784017227\n",
    "- good:\t0.0180133322368666\n",
    "- place: 0.0175578033980874\n",
    "- service:\t0.0164868162826096\n",
    "- time:\t0.0129833720952967\n",
    "\n",
    "The bottom 5 features of importance are:\n",
    "- rice:\t0.0008681280395603\n",
    "- house: 0.000835254650819013\n",
    "- soup:\t0.000777326018836878\n",
    "- sushi: 0.000769274024751508\n",
    "- inside: 0.000595344306760098"
   ]
  },
  {
   "cell_type": "markdown",
   "id": "97c5821c",
   "metadata": {},
   "source": [
    "### Random Forest Metrics"
   ]
  },
  {
   "cell_type": "code",
   "execution_count": 33,
   "id": "549dbfff",
   "metadata": {
    "scrolled": true
   },
   "outputs": [
    {
     "name": "stdout",
     "output_type": "stream",
     "text": [
      "Random Forest Score: 0.63 +- 0.018\n"
     ]
    }
   ],
   "source": [
    "# score the X_train\n",
    "score(rf, 'Random Forest', X_train, y_train)"
   ]
  },
  {
   "cell_type": "code",
   "execution_count": 34,
   "id": "344ccb16",
   "metadata": {},
   "outputs": [
    {
     "name": "stdout",
     "output_type": "stream",
     "text": [
      "Random Forest Score: 0.64 +- 0.036\n"
     ]
    }
   ],
   "source": [
    "# score the X_test\n",
    "score(rf, 'Random Forest', X_test, y_test)"
   ]
  },
  {
   "cell_type": "code",
   "execution_count": 35,
   "id": "5555ea35",
   "metadata": {},
   "outputs": [
    {
     "name": "stdout",
     "output_type": "stream",
     "text": [
      "              precision    recall  f1-score   support\n",
      "\n",
      "  Not Useful       0.66      0.71      0.69      2327\n",
      "      Useful       0.60      0.54      0.57      1831\n",
      "\n",
      "    accuracy                           0.64      4158\n",
      "   macro avg       0.63      0.63      0.63      4158\n",
      "weighted avg       0.63      0.64      0.63      4158\n",
      "\n"
     ]
    },
    {
     "data": {
      "image/png": "[encoded data removed]",
      "text/plain": [
       "<Figure size 576x576 with 2 Axes>"
      ]
     },
     "metadata": {
      "needs_background": "light"
     },
     "output_type": "display_data"
    }
   ],
   "source": [
    "con_matrix(rf, X_test, y_test, 'Random Forest Confusion Matrix')"
   ]
  },
  {
   "cell_type": "code",
   "execution_count": 36,
   "id": "4c683750",
   "metadata": {},
   "outputs": [
    {
     "data": {
      "image/png": "[encoded data removed]",
      "text/plain": [
       "<Figure size 576x576 with 1 Axes>"
      ]
     },
     "metadata": {
      "needs_background": "light"
     },
     "output_type": "display_data"
    }
   ],
   "source": [
    "roc_plot(rf, X_test, y_test, 'Random Forest')"
   ]
  },
  {
   "cell_type": "markdown",
   "id": "73f6b4af",
   "metadata": {},
   "source": [
    "The random forest model had an r-squared score of 0.63 +/- 0.018 for training data, while the test data scored slightly better with 0.64 +/- 0.036.  For precision, out of all the reviews that the model predicted would be useful, only 60% actually were.  For recall, out of all the reviews that actually were useful, the model predicted this outcome correctly for 54% of those reviews.  For the F-1 score, this value isn’t very close to 1, it tells us that the model does a poor job of predicting whether or not reviews will be useful.  The ROC score is slightly below the acceptable range of 0.7+.  The model is better at predicting true negatives over true positives. The model performs slightly worse than the regression model for predicting true negatives, and slightly better than the regression model for predicting true positives. The model performs above the baseline of 0.56.\n"
   ]
  },
  {
   "cell_type": "markdown",
   "id": "9dd6e1a7",
   "metadata": {},
   "source": [
    "### SVM"
   ]
  },
  {
   "cell_type": "code",
   "execution_count": 54,
   "id": "21f868de",
   "metadata": {},
   "outputs": [],
   "source": [
    "# set up gridsearch params\n",
    "svm_params = {\"C\":[1e-4, 1e-3, 1e-2],\"max_iter\":[900, 1000]}\n",
    "\n",
    "# Instantiate GridSearchCV object.\n",
    "svm_grid = GridSearchCV(LinearSVC(),\n",
    "                              svm_params,\n",
    "                              cv=5,\n",
    "                              verbose=0)"
   ]
  },
  {
   "cell_type": "code",
   "execution_count": 55,
   "id": "d01835b3",
   "metadata": {},
   "outputs": [
    {
     "data": {
      "text/plain": [
       "GridSearchCV(cv=5, estimator=LinearSVC(),\n",
       "             param_grid={'C': [0.0001, 0.001, 0.01], 'max_iter': [900, 1000]})"
      ]
     },
     "execution_count": 55,
     "metadata": {},
     "output_type": "execute_result"
    }
   ],
   "source": [
    "# run gridsearch\n",
    "svm_grid.fit(X_train_ss, y_train)"
   ]
  },
  {
   "cell_type": "code",
   "execution_count": 57,
   "id": "1df4f073",
   "metadata": {},
   "outputs": [
    {
     "name": "stdout",
     "output_type": "stream",
     "text": [
      "0.6241950867200898 best score\n",
      "{'C': 0.0001, 'max_iter': 900} best params\n"
     ]
    }
   ],
   "source": [
    "print(str(svm_grid.best_score_) + ' best score')\n",
    "print(str(svm_grid.best_params_) + ' best params')"
   ]
  },
  {
   "cell_type": "code",
   "execution_count": 37,
   "id": "c1d2169a",
   "metadata": {},
   "outputs": [
    {
     "data": {
      "text/plain": [
       "LinearSVC(C=0.0001, class_weight='balanced', max_iter=900, random_state=73)"
      ]
     },
     "execution_count": 37,
     "metadata": {},
     "output_type": "execute_result"
    }
   ],
   "source": [
    "svm = LinearSVC(random_state=73, C=0.0001, \n",
    "               max_iter=900, class_weight='balanced'\n",
    "               )\n",
    "\n",
    "svm.fit(X_train_ss, y_train)"
   ]
  },
  {
   "cell_type": "code",
   "execution_count": 112,
   "id": "6afc9adb",
   "metadata": {},
   "outputs": [],
   "source": [
    "svm_imp = {feature: importance for feature, importance in zip(X.columns, \n",
    "                                svm.coef_[0])}"
   ]
  },
  {
   "cell_type": "markdown",
   "id": "5c355a27",
   "metadata": {},
   "source": [
    "The top 10 features of importance are:\n",
    "- num_chars: 0.0731074709023004\n",
    "- num_words: 0.0706336909297431\n",
    "- need: 0.0243700158090742\n",
    "- store: 0.0233206964159656\n",
    "- new: 0.0226733283983515\n",
    "- shop:\t0.0220623101765558\n",
    "- review: 0.0209544714195946\n",
    "- place: 0.0201454488498059\n",
    "- way: 0.0195850505076461\n",
    "- decided: 0.0186947795954821\n",
    "\n",
    "The bottom 5 features of importance are:\n",
    "- table: -0.0116831907590799\n",
    "- server: -0.0144903206662121\n",
    "- wonderful: -0.0147141976595887\n",
    "- food: -0.0200203133655886\n",
    "- atmosphere: -0.0213550597853493"
   ]
  },
  {
   "cell_type": "markdown",
   "id": "5bc17e34",
   "metadata": {},
   "source": [
    "### SVM Metrics"
   ]
  },
  {
   "cell_type": "code",
   "execution_count": 39,
   "id": "62bffa0f",
   "metadata": {
    "scrolled": true
   },
   "outputs": [
    {
     "name": "stdout",
     "output_type": "stream",
     "text": [
      "SVM Score: 0.62 +- 0.017\n"
     ]
    }
   ],
   "source": [
    "# score the X_train\n",
    "score(svm, 'SVM', X_train_ss, y_train)"
   ]
  },
  {
   "cell_type": "code",
   "execution_count": 40,
   "id": "82858abe",
   "metadata": {},
   "outputs": [
    {
     "name": "stdout",
     "output_type": "stream",
     "text": [
      "SVM Score: 0.62 +- 0.043\n"
     ]
    }
   ],
   "source": [
    "# score the X_test\n",
    "score(svm, 'SVM', X_test_ss, y_test)"
   ]
  },
  {
   "cell_type": "code",
   "execution_count": 41,
   "id": "fd3c0046",
   "metadata": {},
   "outputs": [
    {
     "name": "stdout",
     "output_type": "stream",
     "text": [
      "              precision    recall  f1-score   support\n",
      "\n",
      "  Not Useful       0.67      0.67      0.67      2327\n",
      "      Useful       0.58      0.58      0.58      1831\n",
      "\n",
      "    accuracy                           0.63      4158\n",
      "   macro avg       0.62      0.62      0.62      4158\n",
      "weighted avg       0.63      0.63      0.63      4158\n",
      "\n"
     ]
    },
    {
     "data": {
      "image/png": "[encoded data removed]",
      "text/plain": [
       "<Figure size 576x576 with 2 Axes>"
      ]
     },
     "metadata": {
      "needs_background": "light"
     },
     "output_type": "display_data"
    }
   ],
   "source": [
    "# generate confusion matrix\n",
    "con_matrix(svm, X_test_ss, y_test, 'SVM Confusion Matrix')"
   ]
  },
  {
   "cell_type": "code",
   "execution_count": 42,
   "id": "3e8e1b3c",
   "metadata": {},
   "outputs": [
    {
     "data": {
      "text/plain": [
       "CalibratedClassifierCV(base_estimator=LinearSVC(C=0.0001,\n",
       "                                                class_weight='balanced',\n",
       "                                                max_iter=900, random_state=73))"
      ]
     },
     "execution_count": 42,
     "metadata": {},
     "output_type": "execute_result"
    }
   ],
   "source": [
    "# convert to calibrated classifier to access proba\n",
    "clf = CalibratedClassifierCV(svm)\n",
    "clf.fit(X_train_ss, y_train)"
   ]
  },
  {
   "cell_type": "code",
   "execution_count": 43,
   "id": "0bb54723",
   "metadata": {},
   "outputs": [
    {
     "data": {
      "image/png": "[encoded data removed]",
      "text/plain": [
       "<Figure size 576x576 with 1 Axes>"
      ]
     },
     "metadata": {
      "needs_background": "light"
     },
     "output_type": "display_data"
    }
   ],
   "source": [
    "# plot roc curve\n",
    "roc_plot(clf, X_test_ss, y_test, 'SVM')"
   ]
  },
  {
   "cell_type": "markdown",
   "id": "a2b42bc4",
   "metadata": {},
   "source": [
    "The logistic regression model had an r-squared score of 0.62 +/- 0.017 for training data, while the test data scored slightly better with 0.62 +/- 0.043.  For precision, out of all the reviews that the model predicted would be useful, only 58% actually were.  For recall, out of all the reviews that actually were useful, the model predicted this outcome correctly for 58% of those reviews.  For the F-1 score, this value isn’t very close to 1, it tells us that the model does a poor job of predicting whether or not reviews will be useful.  The ROC curve is below the acceptable range of 0.7+.  The model performed the best in predicting true positives, but didn't perform as well as the logistic regression or the random forest for predicting true positives.  The model performs above the baseline of 0.56."
   ]
  },
  {
   "cell_type": "markdown",
   "id": "7b410e2f",
   "metadata": {},
   "source": [
    "### Neural Network"
   ]
  },
  {
   "cell_type": "code",
   "execution_count": 97,
   "id": "ecc4deb7",
   "metadata": {},
   "outputs": [],
   "source": [
    "# initialize the model\n",
    "model = Sequential() \n",
    "\n",
    "model.add(layers.Dense(1024, \n",
    "        input_shape=(X.shape[1],), \n",
    "        kernel_regularizer=l2(0.001),\n",
    "        activation='relu')) \n",
    "\n",
    "model.add(layers.Dense(512, \n",
    "        kernel_regularizer=l2(0.001),\n",
    "        activation='relu')) \n",
    "\n",
    "model.add(layers.Dense(128, \n",
    "        kernel_regularizer=l2(0.001),\n",
    "        activation='relu')) \n",
    "\n",
    "model.add(layers.Dense(32, \n",
    "        kernel_regularizer=l2(0.001),\n",
    "        activation='relu'))\n",
    "\n",
    "model.add(layers.Dense(1, \n",
    "        kernel_regularizer=l2(0.001),\n",
    "        activation='sigmoid')) \n",
    "\n",
    "\n",
    "model.compile(optimizer='adam', \n",
    "                            loss='binary_crossentropy', metrics=['accuracy'])"
   ]
  },
  {
   "cell_type": "code",
   "execution_count": 101,
   "id": "458a3457",
   "metadata": {},
   "outputs": [
    {
     "name": "stdout",
     "output_type": "stream",
     "text": [
      "Epoch 1/10\n",
      "167/167 [==============================] - 5s 29ms/step - loss: 0.8254 - accuracy: 0.6157 - val_loss: 0.8085 - val_accuracy: 0.6376\n",
      "Epoch 2/10\n",
      "167/167 [==============================] - 5s 30ms/step - loss: 0.8151 - accuracy: 0.6136 - val_loss: 0.7975 - val_accuracy: 0.6342\n",
      "Epoch 3/10\n",
      "167/167 [==============================] - 5s 31ms/step - loss: 0.8075 - accuracy: 0.6111 - val_loss: 0.7909 - val_accuracy: 0.6409\n",
      "Epoch 4/10\n",
      "167/167 [==============================] - 5s 31ms/step - loss: 0.7942 - accuracy: 0.6176 - val_loss: 0.7804 - val_accuracy: 0.6412\n",
      "Epoch 5/10\n",
      "167/167 [==============================] - 6s 34ms/step - loss: 0.7822 - accuracy: 0.6191 - val_loss: 0.7723 - val_accuracy: 0.6376\n",
      "Epoch 6/10\n",
      "167/167 [==============================] - 6s 33ms/step - loss: 0.7748 - accuracy: 0.6207 - val_loss: 0.7619 - val_accuracy: 0.6397\n",
      "Epoch 7/10\n",
      "167/167 [==============================] - 6s 38ms/step - loss: 0.7658 - accuracy: 0.6220 - val_loss: 0.7523 - val_accuracy: 0.6364\n",
      "Epoch 8/10\n",
      "167/167 [==============================] - 6s 38ms/step - loss: 0.7585 - accuracy: 0.6176 - val_loss: 0.7496 - val_accuracy: 0.6352\n",
      "Epoch 9/10\n",
      "167/167 [==============================] - 8s 49ms/step - loss: 0.7532 - accuracy: 0.6196 - val_loss: 0.7398 - val_accuracy: 0.6316\n",
      "Epoch 10/10\n",
      "167/167 [==============================] - 7s 41ms/step - loss: 0.7451 - accuracy: 0.6182 - val_loss: 0.7401 - val_accuracy: 0.6323\n"
     ]
    }
   ],
   "source": [
    "# fit the mpdel\n",
    "history = model.fit(X_train, y_train, \n",
    "    validation_data = (X_test, y_test), \n",
    "    batch_size = 100, epochs = 10)\n",
    "\n"
   ]
  },
  {
   "cell_type": "code",
   "execution_count": 102,
   "id": "b8d87341",
   "metadata": {},
   "outputs": [
    {
     "data": {
      "image/png": "[encoded data removed]",
      "text/plain": [
       "<Figure size 864x576 with 1 Axes>"
      ]
     },
     "metadata": {
      "needs_background": "light"
     },
     "output_type": "display_data"
    }
   ],
   "source": [
    "\n",
    "# Check out our train loss and test loss over epochs\n",
    "train_loss = history.history['loss']\n",
    "test_loss = history.history['val_loss']\n",
    "\n",
    "# Set figure size\n",
    "plt.figure(figsize=(12, 8))\n",
    "\n",
    "# Generate line plot of training, testing loss over epochs\n",
    "plt.plot(train_loss, label='Training Loss', color='#185fad')\n",
    "plt.plot(test_loss, label='Testing Loss', color='orange')\n",
    "\n",
    "# Set title\n",
    "plt.title('Training and Testing Loss by Epoch', fontsize = 25)\n",
    "plt.xlabel('Epoch', fontsize = 18)\n",
    "plt.ylabel('Categorical Crossentropy', fontsize = 18)\n",
    "plt.xticks(np.arange(10), np.arange(10))\n",
    "\n",
    "plt.legend(fontsize = 18);"
   ]
  },
  {
   "cell_type": "code",
   "execution_count": 103,
   "id": "834b7977",
   "metadata": {},
   "outputs": [
    {
     "name": "stdout",
     "output_type": "stream",
     "text": [
      "130/130 [==============================] - 1s 8ms/step - loss: 0.7401 - accuracy: 0.6323\n",
      "loss: 0.7401441335678101\n",
      "accuracy: 0.6322751045227051\n"
     ]
    }
   ],
   "source": [
    "\n",
    "# Evaluate model on test data\n",
    "score = model.evaluate(X_test,\n",
    "                       y_test,\n",
    "                       verbose=1)\n",
    "\n",
    "labels = model.metrics_names\n",
    "\n",
    "# Show model performance\n",
    "print(f'{labels[0]}: {score[0]}')\n",
    "print(f'{labels[1]}: {score[1]}')"
   ]
  },
  {
   "cell_type": "markdown",
   "id": "c9e2b77a",
   "metadata": {},
   "source": [
    "The neural network was set up with 3 hidden layers and run for 10 epochs.  It generally scores similar results to the SVM, logistic regression, and random forest (in the ballpark of around 0.63 r-squared).  Loss seems to decrease to around 0.75-0.85."
   ]
  },
  {
   "cell_type": "markdown",
   "id": "451512bf",
   "metadata": {},
   "source": [
    "### Conclusion"
   ]
  },
  {
   "cell_type": "markdown",
   "id": "6742de65",
   "metadata": {},
   "source": [
    "In determining whether a yelp review is useful or not, over 20,000 features were analyzed.  These features were passed through TF-IDF to vectorize, which generated 200 vectors for analysis.  These vectors were subset with lasso, then fed into four models: logistic regression, random forest, SVM, and a neural network.  \n",
    "\n",
    "The models all seemed to perform comparatively when it came to producing r-squared scores.  The neural network and random forest models both performed slightly better with r-squared scores of and 0.63 and 0.64.  All models beat the baseline of 0.56.  \n",
    "\n",
    "When predicting the true negatives (successfully predicting reviews that had no useful votes), the logistic regression model performed better than SVM and random forest. However, when it came to predicting true positives (successfully predicting reviews that had useful votes), SVM had the best results.  Random forest had the lowest score for predicting true positives.  \n",
    "\n",
    "The logistic regression model had the best precision for predicting useful reviews.  In other words,  this model had the best ability to determine what measure of “useful” identifications were actually correctly identified as useful.  While SVM, on the other hand, had the worst precision. SVM did, however, have the best recall/sensitivity rate, which is the models ability to find all relevant cases of usefulness.  Finally, SVM also had the best f1-score.  \n",
    "\n",
    "When it comes to analyzing the word vectors themselves, there is extensive overlap between the highest logistic regression coefficients, and the SVM feature importances.  The following word tokens are shared between the two models: ‘shop', 'new', 'need', 'way', ‘num_chars’, 'decided', 'store', 'review', ‘place’.  While ‘place’ and ‘num_chars’ is shared among logistic regression, random forest, and SVM.  \n",
    "\n",
    "As far as themes, there seem to be at least a couple of themes in the word tokens with the highest values (either in coefficients, or feature importances).  The first theme is location.  Words such as ‘place’, ‘store’, and ‘shop’, for example, are all examples of location-based word tokens.  The second theme that stands out is compliments.  Words such as ‘great’, ‘good’, and (possibly, depending on context) ‘like’.  One interesting note, is that the compliments theme comes exclusively from the random forest model.  There doesn’t seem to be features with high values that are compliments in either the logistic regression model or the SVM.  There is only one location-based word token for the random forest model.  There **are** a couple of temporal word tokens (‘new’, and ‘time’) that appear in the logistic regression and random forest model respectively. Finally, tokens such as ‘service’ and ‘food’ are interesting too, because they’re representative of transaction.  \n",
    "\n",
    "Finally, I would say that the best performing model was the SVM model.  It had the most consistent results with precision/recall/f1-score.  It also had a high number of true positive **and** true negative predictions, and only had a 1-2% drop in r-squared score compared to the neural network and the random forest model."
   ]
  },
  {
   "cell_type": "code",
   "execution_count": null,
   "id": "7784bb07",
   "metadata": {},
   "outputs": [],
   "source": []
  }
 ],
 "metadata": {
  "kernelspec": {
   "display_name": "Python 3 (ipykernel)",
   "language": "python",
   "name": "python3"
  },
  "language_info": {
   "codemirror_mode": {
    "name": "ipython",
    "version": 3
   },
   "file_extension": ".py",
   "mimetype": "text/x-python",
   "name": "python",
   "nbconvert_exporter": "python",
   "pygments_lexer": "ipython3",
   "version": "3.9.7"
  }
 },
 "nbformat": 4,
 "nbformat_minor": 5
}
