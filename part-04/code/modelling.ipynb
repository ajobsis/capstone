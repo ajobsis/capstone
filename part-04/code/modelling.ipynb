{
 "cells": [
  {
   "cell_type": "markdown",
   "id": "f1dbae42",
   "metadata": {},
   "source": [
    "## Modelling"
   ]
  },
  {
   "cell_type": "markdown",
   "id": "90254ebf",
   "metadata": {},
   "source": [
    "### Imports"
   ]
  },
  {
   "cell_type": "code",
   "execution_count": 95,
   "id": "68cc5583",
   "metadata": {},
   "outputs": [],
   "source": [
    "# imports\n",
    "import pandas as pd\n",
    "import numpy as np\n",
    "import sqlite3\n",
    "\n",
    "from sklearn.feature_extraction.text import TfidfVectorizer\n",
    "from sklearn.model_selection import (train_test_split, \n",
    "                                     cross_val_score,\n",
    "                                     StratifiedKFold,\n",
    "                                     GridSearchCV)\n",
    "\n",
    "from sklearn.linear_model import (LogisticRegression, \n",
    "                                  LassoCV, \n",
    "                                  Lasso)\n",
    "\n",
    "from sklearn.tree import DecisionTreeClassifier\n",
    "from sklearn.preprocessing import StandardScaler\n",
    "from sklearn.ensemble import (RandomForestClassifier, \n",
    "                                BaggingClassifier)\n",
    "from nltk.stem.porter import *\n",
    "from  nltk.stem import PorterStemmer\n",
    "\n",
    "from sklearn.metrics import (precision_score,\n",
    "                             f1_score,\n",
    "                             recall_score,\n",
    "                             accuracy_score,\n",
    "                             confusion_matrix,\n",
    "                             ConfusionMatrixDisplay, \n",
    "                             classification_report,\n",
    "                             roc_curve,\n",
    "                             auc)\n",
    "\n",
    "from matplotlib import pyplot as plt\n",
    "np.random.seed(73)"
   ]
  },
  {
   "cell_type": "markdown",
   "id": "4c934589",
   "metadata": {},
   "source": [
    "### Functions"
   ]
  },
  {
   "cell_type": "code",
   "execution_count": 3,
   "id": "16b65ec7",
   "metadata": {},
   "outputs": [],
   "source": [
    "def score(model, name, X, y):\n",
    "    cv = StratifiedKFold(n_splits=10,\n",
    "                         random_state=73,\n",
    "                         shuffle=True)\n",
    "    s = cross_val_score(model, X, y, cv=cv,\n",
    "                        n_jobs=-1)\n",
    "    print('{} Score: {:.2f} +- {:.3f}'.format(name, \n",
    "                                              s.mean(), \n",
    "                                              2 * s.std()))"
   ]
  },
  {
   "cell_type": "code",
   "execution_count": 128,
   "id": "59a70148",
   "metadata": {},
   "outputs": [],
   "source": [
    "# confusion matrix\n",
    "def con_matrix(model, X, y, title):\n",
    "    conmat = np.array(confusion_matrix(y, \n",
    "                                       model.predict(X), \n",
    "                                       labels=[0, 1]))\n",
    "\n",
    "    print(classification_report(y,\n",
    "                        model.predict(X), \n",
    "                        zero_division=True,\n",
    "                        target_names=['Not Useful', 'Useful']))\n",
    "\n",
    "    matrix_display = ConfusionMatrixDisplay(confusion_matrix=conmat, \n",
    "                            display_labels=['Not useful','useful'])\n",
    "    matrix_display.plot()\n",
    "\n",
    "    figure = plt.gcf()\n",
    "    plt.title(title)\n",
    "    figure.set_size_inches(8, 8)"
   ]
  },
  {
   "cell_type": "code",
   "execution_count": 136,
   "id": "ed6fdbd4",
   "metadata": {},
   "outputs": [],
   "source": [
    "\n",
    "def roc_plot(model, X, y, title):\n",
    "    y_proba = model.predict_proba(X)\n",
    "    fpr, tpr, _ = roc_curve(y, y_proba[:,1], pos_label=1)\n",
    "    roc_auc = auc(fpr, tpr)\n",
    "\n",
    "\n",
    "    plt.figure(figsize=[8,8])\n",
    "    plt.plot(fpr, tpr, label='ROC curve (area = %0.2f)' % roc_auc, linewidth=4)\n",
    "    plt.plot([0, 1], [0, 1], 'k--', linewidth=4)\n",
    "    plt.xlim([-0.05, 1.0])\n",
    "    plt.ylim([-0.05, 1.05])\n",
    "    plt.xlabel('False Positive Rate', fontsize=14)\n",
    "    plt.ylabel('True Positive Rate', fontsize=14)\n",
    "    plt.title('ROC for Useful Reviews ({})'.format(title), fontsize=16)\n",
    "    plt.legend(loc=\"lower right\")\n",
    "    ;"
   ]
  },
  {
   "cell_type": "markdown",
   "id": "dc9a1662",
   "metadata": {},
   "source": [
    "## Baseline"
   ]
  },
  {
   "cell_type": "code",
   "execution_count": 6,
   "id": "a7bdeb77",
   "metadata": {},
   "outputs": [],
   "source": [
    "# load data\n",
    "db_con = sqlite3.connect('../../part-02/data/yelp.db.sqlite')"
   ]
  },
  {
   "cell_type": "code",
   "execution_count": 7,
   "id": "34fbba64",
   "metadata": {},
   "outputs": [],
   "source": [
    "# create dataframe\n",
    "reviews = pd.DataFrame(pd.read_sql('select * from \\\n",
    "reviews_cleaned;',\n",
    "           con=db_con))"
   ]
  },
  {
   "cell_type": "code",
   "execution_count": 8,
   "id": "c78533c9",
   "metadata": {},
   "outputs": [
    {
     "data": {
      "text/plain": [
       "0    0.555053\n",
       "1    0.444947\n",
       "Name: target, dtype: float64"
      ]
     },
     "execution_count": 8,
     "metadata": {},
     "output_type": "execute_result"
    }
   ],
   "source": [
    "reviews.target.value_counts(normalize=True)"
   ]
  },
  {
   "cell_type": "markdown",
   "id": "7a66a2cf",
   "metadata": {},
   "source": [
    "The baseline of the target is 0.56, for reviews with zero useful votes."
   ]
  },
  {
   "cell_type": "markdown",
   "id": "ef63231f",
   "metadata": {},
   "source": [
    "### Pre-processing"
   ]
  },
  {
   "cell_type": "code",
   "execution_count": 9,
   "id": "8156ae84",
   "metadata": {},
   "outputs": [],
   "source": [
    "# apply stemmer\n",
    "stemmer = PorterStemmer()\n",
    "reviews['text'] = reviews['text'].apply(lambda x: stemmer.stem(x))"
   ]
  },
  {
   "cell_type": "code",
   "execution_count": 10,
   "id": "10299cc8",
   "metadata": {},
   "outputs": [
    {
     "data": {
      "text/plain": [
       "TfidfVectorizer(max_df=0.6, max_features=200, stop_words='english',\n",
       "                strip_accents='ascii')"
      ]
     },
     "execution_count": 10,
     "metadata": {},
     "output_type": "execute_result"
    }
   ],
   "source": [
    "## instantiate vectorizer\n",
    "tvec = TfidfVectorizer(stop_words = 'english',\n",
    "                       strip_accents = 'ascii',\n",
    "                       max_features = 200,\n",
    "                       max_df = .60,\n",
    "                       norm = 'l2'\n",
    "                      )\n",
    "tvec.fit(reviews.text)"
   ]
  },
  {
   "cell_type": "code",
   "execution_count": 11,
   "id": "a2e04434",
   "metadata": {},
   "outputs": [],
   "source": [
    "# create vectorized dataframe\n",
    "reviews_tvec = pd.DataFrame(tvec.transform(reviews.text).todense(),\n",
    "                  columns = tvec.get_feature_names())"
   ]
  },
  {
   "cell_type": "code",
   "execution_count": 12,
   "id": "4f4f4449",
   "metadata": {},
   "outputs": [],
   "source": [
    "# add target to tvec data\n",
    "reviews_tvec['target'] = reviews.target"
   ]
  },
  {
   "cell_type": "code",
   "execution_count": 13,
   "id": "23dbc4ba",
   "metadata": {},
   "outputs": [],
   "source": [
    "# instsantiate X and y for tvec data\n",
    "X_tvec = reviews_tvec.drop(['target'], axis = 1)\n",
    "y_tvec = reviews_tvec.target"
   ]
  },
  {
   "cell_type": "markdown",
   "id": "ce2ccf0d",
   "metadata": {},
   "source": [
    "***Note*** we are using lasso to reduce collumns"
   ]
  },
  {
   "cell_type": "code",
   "execution_count": 14,
   "id": "f91a03dc",
   "metadata": {},
   "outputs": [],
   "source": [
    "# instantiate LassoCV model\n",
    "lasso_cv = LassoCV(cv=5, max_iter=10000, tol=0.001)\\\n",
    ".fit(X_tvec, y_tvec)"
   ]
  },
  {
   "cell_type": "code",
   "execution_count": 15,
   "id": "bd6be020",
   "metadata": {},
   "outputs": [],
   "source": [
    "# fit model and generate columns for modelling\n",
    "new_lasso = Lasso(alpha=lasso_cv.alpha_)\n",
    "\n",
    "new_lasso.fit(X_tvec, y_tvec)\n",
    "\n",
    "final_col_for_modeling_best_alpha = [col for col, \\\n",
    "        coef in zip(X_tvec.columns, new_lasso.coef_) if coef]"
   ]
  },
  {
   "cell_type": "code",
   "execution_count": 16,
   "id": "86cda0ef",
   "metadata": {},
   "outputs": [],
   "source": [
    "# generate new dataframe using final columns\n",
    "reviews_tvec = reviews_tvec[final_col_for_modeling_best_alpha]"
   ]
  },
  {
   "cell_type": "code",
   "execution_count": 17,
   "id": "5093dbbf",
   "metadata": {},
   "outputs": [],
   "source": [
    "# concat vectorized and reviews dataframes\n",
    "reviews_final = pd.concat([reviews,reviews_tvec],axis=1)"
   ]
  },
  {
   "cell_type": "code",
   "execution_count": 43,
   "id": "061cf44c",
   "metadata": {},
   "outputs": [],
   "source": [
    "# instantiate X and y\n",
    "X = reviews_final.drop(['review_id', 'user_id', 'business_id', \n",
    "                        'date','text','useful','target'], axis=1)\n",
    "y = reviews_final.target"
   ]
  },
  {
   "cell_type": "code",
   "execution_count": 45,
   "id": "23e5ab1c",
   "metadata": {},
   "outputs": [],
   "source": [
    "# set up train test split\n",
    "X_train, X_test, y_train, y_test = train_test_split(X, y,\n",
    "                        test_size=0.2, random_state=73)"
   ]
  },
  {
   "cell_type": "code",
   "execution_count": 46,
   "id": "ade64648",
   "metadata": {},
   "outputs": [],
   "source": [
    "# standard scale the data\n",
    "ss = StandardScaler()\n",
    "X_train_ss = ss.fit_transform(X_train)\n",
    "\n",
    "X_test_ss = ss.transform(X_test)"
   ]
  },
  {
   "cell_type": "markdown",
   "id": "31cc0a31",
   "metadata": {},
   "source": [
    "### Logistic Regression Model"
   ]
  },
  {
   "cell_type": "code",
   "execution_count": 47,
   "id": "35e52550",
   "metadata": {},
   "outputs": [],
   "source": [
    "# set up gridsearch params\n",
    "log_params = {'C': [10.0, 100.0]}\n",
    "\n",
    "# Instantiate GridSearchCV object.\n",
    "log_grid = GridSearchCV(LogisticRegression(),\n",
    "                              log_params,\n",
    "                              cv=5,\n",
    "                              verbose=0)"
   ]
  },
  {
   "cell_type": "code",
   "execution_count": 48,
   "id": "25da58ee",
   "metadata": {},
   "outputs": [
    {
     "data": {
      "text/plain": [
       "GridSearchCV(cv=5, estimator=LogisticRegression(),\n",
       "             param_grid={'C': [10.0, 100.0]})"
      ]
     },
     "execution_count": 48,
     "metadata": {},
     "output_type": "execute_result"
    }
   ],
   "source": [
    "# run gridsearch\n",
    "log_grid.fit(X_train_ss, y_train)"
   ]
  },
  {
   "cell_type": "code",
   "execution_count": 64,
   "id": "e82d3932",
   "metadata": {},
   "outputs": [
    {
     "name": "stdout",
     "output_type": "stream",
     "text": [
      "0.6228724655016509 best score\n",
      "LogisticRegression(C=100.0) best model\n",
      "{'C': 100.0} best params\n"
     ]
    }
   ],
   "source": [
    "print(str(log_grid.best_score_) + ' best score')\n",
    "print(str(log_grid.best_estimator_) + ' best model')\n",
    "print(str(log_grid.best_params_) + ' best params')"
   ]
  },
  {
   "cell_type": "code",
   "execution_count": 50,
   "id": "99167a57",
   "metadata": {
    "scrolled": true
   },
   "outputs": [
    {
     "data": {
      "text/plain": [
       "LogisticRegression(C=10, random_state=73, solver='liblinear')"
      ]
     },
     "execution_count": 50,
     "metadata": {},
     "output_type": "execute_result"
    }
   ],
   "source": [
    "lr = LogisticRegression(solver='liblinear',\n",
    "                       C=10,\n",
    "                       penalty='l2',\n",
    "                       random_state=73\n",
    "                       )\n",
    "\n",
    "lr.fit(X_train_ss, y_train)"
   ]
  },
  {
   "cell_type": "code",
   "execution_count": 73,
   "id": "ee1a9d79",
   "metadata": {},
   "outputs": [
    {
     "data": {
      "text/plain": [
       "{'stars': 0.011020641675220912,\n",
       " 'num_words': -0.08037249575312072,\n",
       " 'num_chars': 0.46037616310192647,\n",
       " '10': 0.0357688720766842,\n",
       " 'absolutely': 0.005295384814105092,\n",
       " 'actually': 0.023962412466421442,\n",
       " 'amazing': -0.020640632829300516,\n",
       " 'area': 0.0013566430002849804,\n",
       " 'ask': -0.009400132142171431,\n",
       " 'atmosphere': -0.06199192844309234,\n",
       " 'away': 0.003230171406548237,\n",
       " 'awesome': -0.024800613134699844,\n",
       " 'bad': 0.01924095704348621,\n",
       " 'bar': 0.03228343204132346,\n",
       " 'beer': 0.005432089571074677,\n",
       " 'best': 0.003467518293732753,\n",
       " 'better': 0.003410594750995316,\n",
       " 'big': 0.017792054103906885,\n",
       " 'bit': 0.013876365883553147,\n",
       " 'bread': 0.027708459184038352,\n",
       " 'breakfast': 0.006519389021454949,\n",
       " 'burger': -0.009474940578123071,\n",
       " 'business': 0.01607014409907883,\n",
       " 'busy': 0.009095116813814162,\n",
       " 'called': 0.026976155668239528,\n",
       " 'came': -0.002648619775627772,\n",
       " 'car': 0.04577305332749927,\n",
       " 'care': 0.009888920714745838,\n",
       " 'check': 0.021148427265499294,\n",
       " 'cheese': 0.00932036121208762,\n",
       " 'chicken': -0.009980574727438291,\n",
       " 'clean': 0.025925939895862938,\n",
       " 'coffee': 0.03568632376836608,\n",
       " 'come': 0.005671398184886285,\n",
       " 'coming': 0.019660429963498597,\n",
       " 'cream': 0.02370727248330186,\n",
       " 'customer': 0.01033436815365945,\n",
       " 'day': 0.015986190417300605,\n",
       " 'decided': 0.048209043653197024,\n",
       " 'definitely': 0.0006245676499209986,\n",
       " 'did': -0.03734094860860857,\n",
       " 'different': 0.003843657889017408,\n",
       " 'dish': 0.0037676147344085343,\n",
       " 'dont': 0.03519518029376076,\n",
       " 'drink': 0.02700802350194104,\n",
       " 'eat': 0.0023847717169453576,\n",
       " 'enjoyed': 0.03880638064751284,\n",
       " 'excellent': -0.01016236976806892,\n",
       " 'experience': 0.0300821318456496,\n",
       " 'family': -0.007186082900075993,\n",
       " 'fast': 0.03691457752338244,\n",
       " 'favorite': 0.01362902391448702,\n",
       " 'feel': 0.012116669030009955,\n",
       " 'fish': -0.006468063866102558,\n",
       " 'flavor': 0.009313379357348986,\n",
       " 'food': -0.04889293017686537,\n",
       " 'free': 0.03512274208408969,\n",
       " 'fresh': 0.010361005731956873,\n",
       " 'fried': 0.028760610892131243,\n",
       " 'friend': 0.015385380448327627,\n",
       " 'friends': 0.006658056216330436,\n",
       " 'fries': 0.0031331904127062135,\n",
       " 'fun': 0.009240801332501686,\n",
       " 'gave': 0.0002873863528178917,\n",
       " 'getting': -0.0035289386471514354,\n",
       " 'going': 0.019075698892836095,\n",
       " 'good': -0.02984433498424723,\n",
       " 'got': 0.030924449900759286,\n",
       " 'great': -0.019735020620480024,\n",
       " 'half': 0.021675204082463796,\n",
       " 'happy': -0.0009089679746022655,\n",
       " 'hard': -0.002176873308460605,\n",
       " 'helpful': -0.004119575488745173,\n",
       " 'highly': 0.03589748521711416,\n",
       " 'home': 0.023032089818034906,\n",
       " 'hot': 0.007691025095527428,\n",
       " 'hour': 0.03122449470213228,\n",
       " 'house': 0.0018256920645809448,\n",
       " 'huge': 0.0075098575807744485,\n",
       " 'husband': -0.0029572388647276233,\n",
       " 'id': 0.025210037115310044,\n",
       " 'ill': 0.013766423692684455,\n",
       " 'im': 0.039666482920824475,\n",
       " 'inside': 0.018583926388044278,\n",
       " 'items': 0.019475507966802055,\n",
       " 'ive': 0.037471544052152736,\n",
       " 'job': 0.0094217005489887,\n",
       " 'just': 0.030499062689786173,\n",
       " 'kind': 0.01631283788935467,\n",
       " 'know': 0.027921229213863034,\n",
       " 'large': 0.017346867435639894,\n",
       " 'left': -0.01699218675298695,\n",
       " 'let': -0.018371558060573303,\n",
       " 'like': 0.014569059332190288,\n",
       " 'little': 0.014011369550588605,\n",
       " 'location': 0.0011634350761103637,\n",
       " 'long': 0.0013302917280827817,\n",
       " 'look': 0.03875515135176176,\n",
       " 'looking': 0.0359541024712458,\n",
       " 'lot': 0.006477203861979821,\n",
       " 'love': 0.040817752003798745,\n",
       " 'loved': 0.025536852872483116,\n",
       " 'lunch': 0.025698121320390788,\n",
       " 'make': 0.014771584594860807,\n",
       " 'meat': -0.009354868868162794,\n",
       " 'menu': 0.02892877832064779,\n",
       " 'minutes': -0.012022900691654041,\n",
       " 'need': 0.06429490527639196,\n",
       " 'new': 0.06011102470424733,\n",
       " 'nice': 0.014672808383240287,\n",
       " 'night': 0.023371532622403234,\n",
       " 'ok': -0.018104952809668638,\n",
       " 'old': -0.0013196323789552728,\n",
       " 'open': 0.024463526428132622,\n",
       " 'options': 0.03288792355897087,\n",
       " 'order': -0.024219519983519348,\n",
       " 'ordered': -0.018109345436908387,\n",
       " 'outside': -0.009682745271060939,\n",
       " 'overall': 0.0034716759605099216,\n",
       " 'parking': 0.000481279104124638,\n",
       " 'people': 0.013762334847560656,\n",
       " 'perfect': 0.009177781603039671,\n",
       " 'pizza': 0.010675431259606552,\n",
       " 'place': 0.056708966570185836,\n",
       " 'places': 0.037719850937709694,\n",
       " 'pretty': 0.011346788740111871,\n",
       " 'price': 0.020039120208417038,\n",
       " 'prices': 0.03378673176446738,\n",
       " 'probably': 0.005894143681052006,\n",
       " 'quality': 0.03685748850372057,\n",
       " 'quick': 0.005613672158121227,\n",
       " 'quite': 0.012192495600086442,\n",
       " 'really': 0.04000160859421215,\n",
       " 'recommend': -0.03798871555627039,\n",
       " 'restaurant': -0.020776466753427713,\n",
       " 'return': 0.029264442424150543,\n",
       " 'review': 0.05484285045373631,\n",
       " 'rice': 0.018759581860350052,\n",
       " 'right': 0.016474348389556203,\n",
       " 'room': 0.017692596755956302,\n",
       " 'said': -0.003319736549381398,\n",
       " 'salad': 0.035476323846141765,\n",
       " 'sandwich': -0.005263013744601526,\n",
       " 'sauce': 0.011624996331558269,\n",
       " 'say': 0.009096844417347956,\n",
       " 'selection': 0.04502075407082452,\n",
       " 'served': -0.000611928471413037,\n",
       " 'server': -0.042430511244134946,\n",
       " 'service': -0.02315713891404468,\n",
       " 'shop': 0.058549857295548395,\n",
       " 'shrimp': 0.02460302015695763,\n",
       " 'small': -0.007301595183192071,\n",
       " 'soup': 0.02927582707448151,\n",
       " 'special': 0.026551272440685076,\n",
       " 'spot': 0.023850463318610907,\n",
       " 'staff': 0.029328112715160896,\n",
       " 'store': 0.05997908021532286,\n",
       " 'super': -0.016619788403361074,\n",
       " 'sushi': 0.013688096455115026,\n",
       " 'sweet': -0.004607397342737786,\n",
       " 'table': -0.041349204183791094,\n",
       " 'taste': 0.017852950999613416,\n",
       " 'tasty': -0.03008861611673212,\n",
       " 'thats': 0.02661049207540917,\n",
       " 'thing': -0.0001079956940380557,\n",
       " 'things': 0.02781603094142826,\n",
       " 'think': 0.03287891232676788,\n",
       " 'thought': 0.00995530966954513,\n",
       " 'time': -0.0004115665594688976,\n",
       " 'times': -0.007170946759329803,\n",
       " 'told': -0.01218540185568751,\n",
       " 'took': 0.03288704232434959,\n",
       " 'town': 0.010181845416905397,\n",
       " 'tried': 0.009951255730331917,\n",
       " 'try': 0.03450167778064467,\n",
       " 'use': -0.003980281554639226,\n",
       " 'used': 0.014289224033201148,\n",
       " 'visit': -0.027110096686050862,\n",
       " 'wait': -0.021559401212172487,\n",
       " 'waiting': 0.016558417975548828,\n",
       " 'waitress': -0.02004612383577578,\n",
       " 'want': 0.04404840146529207,\n",
       " 'wanted': -0.0003310454820833198,\n",
       " 'wasnt': 0.009147087792415862,\n",
       " 'way': 0.049278850384834115,\n",
       " 'wonderful': -0.040048785694915795,\n",
       " 'work': 0.03605359607229142,\n",
       " 'worth': 0.023667493139575738,\n",
       " 'years': 0.03246975919854256,\n",
       " 'youre': 0.045825283505993256}"
      ]
     },
     "execution_count": 73,
     "metadata": {},
     "output_type": "execute_result"
    }
   ],
   "source": [
    "{feature: importance for feature, importance in zip(X.columns, \n",
    "                                lr.coef_[0])}\n"
   ]
  },
  {
   "attachments": {},
   "cell_type": "markdown",
   "id": "56b9b824",
   "metadata": {},
   "source": [
    "- An increase in one standard deviation num_words is associated with 0.92 decrease in the odds of a useful post.\n",
    "\n",
    "- An increase in one standard deviation atmosphere is associated with 0.94 decrease in the odds of a useful post.\n",
    "\n",
    "- An increase in one standard deviation food is associated with 0.95 decrease in the odds of a useful post.\n",
    "\n",
    "- An increase in one standard deviation server is associated with 0.96 decrease in the odds of a useful post.\n",
    "\n",
    "- An increase in one standard deviation table is associated with 0.96 decrease in the odds of a useful post.\n",
    "\n",
    "- An increase in one standard deviation num_chars is associated with 1.58 increase in the odds of a useful post.\n",
    "\n",
    "- An increase in one standard deviation need is associated with 1.07 increase in the odds of a useful post.\n",
    "\n",
    "- An increase in one standard deviation new is associated with 1.06 increase in the odds of a useful post.\n",
    "\n",
    "- An increase in one standard deviation store is associated with 1.06 increase in the odds of a useful post.\n",
    "\n",
    "- An increase in one standard deviation shop is associated with 1.06 increase in the odds of a useful post."
   ]
  },
  {
   "cell_type": "markdown",
   "id": "e8776505",
   "metadata": {},
   "source": [
    "### Logistic regression Metrics"
   ]
  },
  {
   "cell_type": "code",
   "execution_count": 130,
   "id": "0d32e9c5",
   "metadata": {
    "scrolled": true
   },
   "outputs": [
    {
     "name": "stdout",
     "output_type": "stream",
     "text": [
      "Logistic regression Score: 0.62 +- 0.024\n"
     ]
    }
   ],
   "source": [
    "# score the X_train\n",
    "score(lr, 'Logistic regression', X_train_ss, y_train)"
   ]
  },
  {
   "cell_type": "code",
   "execution_count": 131,
   "id": "e4d0a3bb",
   "metadata": {},
   "outputs": [
    {
     "name": "stdout",
     "output_type": "stream",
     "text": [
      "Logistic regression Score: 0.62 +- 0.036\n"
     ]
    }
   ],
   "source": [
    "# score the X_test\n",
    "score(lr, 'Logistic regression', X_test_ss, y_test)"
   ]
  },
  {
   "cell_type": "code",
   "execution_count": 150,
   "id": "4ce0cf41",
   "metadata": {},
   "outputs": [
    {
     "name": "stdout",
     "output_type": "stream",
     "text": [
      "              precision    recall  f1-score   support\n",
      "\n",
      "  Not Useful       0.64      0.77      0.70      2327\n",
      "      Useful       0.61      0.45      0.52      1831\n",
      "\n",
      "    accuracy                           0.63      4158\n",
      "   macro avg       0.63      0.61      0.61      4158\n",
      "weighted avg       0.63      0.63      0.62      4158\n",
      "\n"
     ]
    },
    {
     "data": {
      "image/png": "[encoded data removed]",
      "text/plain": [
       "<Figure size 576x576 with 2 Axes>"
      ]
     },
     "metadata": {
      "needs_background": "light"
     },
     "output_type": "display_data"
    }
   ],
   "source": [
    "con_matrix(lr, X_test_ss, y_test, 'Logistic Regression Confusion Matrix')"
   ]
  },
  {
   "cell_type": "code",
   "execution_count": 137,
   "id": "2d4516d2",
   "metadata": {},
   "outputs": [
    {
     "data": {
      "image/png": "[encoded data removed]",
      "text/plain": [
       "<Figure size 576x576 with 1 Axes>"
      ]
     },
     "metadata": {
      "needs_background": "light"
     },
     "output_type": "display_data"
    }
   ],
   "source": [
    "roc_plot(lr, X_test_ss, y_test, 'Logistic Regression')"
   ]
  },
  {
   "cell_type": "markdown",
   "id": "ddbb42e4",
   "metadata": {},
   "source": [
    "The logistic regression model had an r-squared score of 0.62 +/- 0.036 for training data, while the test data scored slightly better with 0.62 +/- 0.038.  For precision, out of all the reviews that the model predicted would be useful, only 61% actually were.  For recall, out of all the reviews that actually were useful, the model predicted this outcome correctly for 61% of those reviews.  For the F-1 score, this value isn’t very close to 1, it tells us that the model does a poor job of predicting whether or not reviews will be useful.  The ROC score is below the acceptable range of 0.7+."
   ]
  },
  {
   "cell_type": "markdown",
   "id": "78562681",
   "metadata": {},
   "source": [
    "### Random Forest Model"
   ]
  },
  {
   "cell_type": "code",
   "execution_count": 140,
   "id": "e83205d9",
   "metadata": {},
   "outputs": [],
   "source": [
    "# set up gridsearch params\n",
    "forest_params = {'n_estimators': [10, 50, 100, 200],\n",
    "                    'min_samples_leaf': [1, 5, 10]\n",
    "                }\n",
    "\n",
    "# Instantiate GridSearchCV object.\n",
    "forest_grid = GridSearchCV(RandomForestClassifier(),\n",
    "                              forest_params,\n",
    "                              cv=5,\n",
    "                              verbose=0)"
   ]
  },
  {
   "cell_type": "code",
   "execution_count": 141,
   "id": "4b3964bd",
   "metadata": {},
   "outputs": [
    {
     "data": {
      "text/plain": [
       "GridSearchCV(cv=5, estimator=RandomForestClassifier(),\n",
       "             param_grid={'min_samples_leaf': [1, 5, 10],\n",
       "                         'n_estimators': [10, 50, 100, 200]})"
      ]
     },
     "execution_count": 141,
     "metadata": {},
     "output_type": "execute_result"
    }
   ],
   "source": [
    "# run gridsearch\n",
    "forest_grid.fit(X_train, y_train)"
   ]
  },
  {
   "cell_type": "code",
   "execution_count": 143,
   "id": "78fe32ae",
   "metadata": {},
   "outputs": [
    {
     "name": "stdout",
     "output_type": "stream",
     "text": [
      "0.6349582426694905 best score\n",
      "{'min_samples_leaf': 10, 'n_estimators': 50} best params\n"
     ]
    }
   ],
   "source": [
    "print(str(forest_grid.best_score_) + ' best score')\n",
    "print(str(forest_grid.best_params_) + ' best params')"
   ]
  },
  {
   "cell_type": "code",
   "execution_count": 144,
   "id": "719c7cd6",
   "metadata": {},
   "outputs": [
    {
     "data": {
      "text/plain": [
       "RandomForestClassifier(min_samples_leaf=10, n_estimators=50, n_jobs=-1,\n",
       "                       random_state=73, warm_start=True)"
      ]
     },
     "execution_count": 144,
     "metadata": {},
     "output_type": "execute_result"
    }
   ],
   "source": [
    "# instantiate and fit\n",
    "rf = RandomForestClassifier(n_jobs=-1,\n",
    "                            random_state=73,\n",
    "                            n_estimators=50,\n",
    "                            min_samples_leaf=10,\n",
    "                            warm_start=True)\n",
    "rf.fit(X_train, y_train)"
   ]
  },
  {
   "cell_type": "code",
   "execution_count": 145,
   "id": "0ba29862",
   "metadata": {},
   "outputs": [
    {
     "data": {
      "text/plain": [
       "{'stars': 0.001294538191432103,\n",
       " 'num_words': 0.11685260383951282,\n",
       " 'num_chars': 0.11677524836049062,\n",
       " '10': 0.002323678810929376,\n",
       " 'absolutely': 0.0014954066866299965,\n",
       " 'actually': 0.002424080542226686,\n",
       " 'amazing': 0.007106464045846962,\n",
       " 'area': 0.004301568203339695,\n",
       " 'ask': 0.0014674185937507995,\n",
       " 'atmosphere': 0.007427406897757289,\n",
       " 'away': 0.002376169161528532,\n",
       " 'awesome': 0.0038172353978293667,\n",
       " 'bad': 0.004217533047841527,\n",
       " 'bar': 0.004645439766099847,\n",
       " 'beer': 0.0019119195393241914,\n",
       " 'best': 0.008603199689902884,\n",
       " 'better': 0.004668486351722934,\n",
       " 'big': 0.0020808316520513517,\n",
       " 'bit': 0.002206936740808826,\n",
       " 'bread': 0.0016463156069798236,\n",
       " 'breakfast': 0.001763260145038728,\n",
       " 'burger': 0.001541762589594377,\n",
       " 'business': 0.0015577461149859743,\n",
       " 'busy': 0.0014298005831487014,\n",
       " 'called': 0.00260112794869594,\n",
       " 'came': 0.005783582287833341,\n",
       " 'car': 0.001604379022082095,\n",
       " 'care': 0.0009815981084642185,\n",
       " 'check': 0.0023309154409552842,\n",
       " 'cheese': 0.0031705412130878783,\n",
       " 'chicken': 0.005924463017644337,\n",
       " 'clean': 0.003952606097714749,\n",
       " 'coffee': 0.0031163361407555976,\n",
       " 'come': 0.005157701483796755,\n",
       " 'coming': 0.0018214881899642154,\n",
       " 'cream': 0.0010370323321713447,\n",
       " 'customer': 0.0028615478947139495,\n",
       " 'day': 0.005853094310058736,\n",
       " 'decided': 0.0024061823902472475,\n",
       " 'definitely': 0.006498506409898617,\n",
       " 'did': 0.006573265164728764,\n",
       " 'different': 0.0022389970843112042,\n",
       " 'dish': 0.0015409633555472594,\n",
       " 'dont': 0.010722604093391395,\n",
       " 'drink': 0.003295887113387917,\n",
       " 'eat': 0.0035825326612597564,\n",
       " 'enjoyed': 0.0020902786523979006,\n",
       " 'excellent': 0.003658356788061247,\n",
       " 'experience': 0.005646596798240278,\n",
       " 'family': 0.001884360155008411,\n",
       " 'fast': 0.0023571162790869096,\n",
       " 'favorite': 0.002534618234989167,\n",
       " 'feel': 0.001409624158192123,\n",
       " 'fish': 0.0011968528632798543,\n",
       " 'flavor': 0.002628859415641315,\n",
       " 'food': 0.021819203442455033,\n",
       " 'free': 0.0021819824851443017,\n",
       " 'fresh': 0.004705367174508753,\n",
       " 'fried': 0.0015832221910239887,\n",
       " 'friend': 0.0011893466380855605,\n",
       " 'friends': 0.0022272822962836484,\n",
       " 'fries': 0.001586470752210386,\n",
       " 'fun': 0.001570053459731144,\n",
       " 'gave': 0.0019386011637719492,\n",
       " 'getting': 0.0015639788851856558,\n",
       " 'going': 0.0062928091347168764,\n",
       " 'good': 0.018013332236866637,\n",
       " 'got': 0.008642501586220146,\n",
       " 'great': 0.021945744085388758,\n",
       " 'half': 0.001430128681309468,\n",
       " 'happy': 0.0025521854879440556,\n",
       " 'hard': 0.0011853461748049371,\n",
       " 'helpful': 0.0016512997795134212,\n",
       " 'highly': 0.0029475096667978392,\n",
       " 'home': 0.002693145203474993,\n",
       " 'hot': 0.0028781717872299064,\n",
       " 'hour': 0.0022593615301821778,\n",
       " 'house': 0.000835254650819013,\n",
       " 'huge': 0.001495034625276433,\n",
       " 'husband': 0.0014952398459533907,\n",
       " 'id': 0.002078066335399343,\n",
       " 'ill': 0.0011169673793495212,\n",
       " 'im': 0.011179282067169517,\n",
       " 'inside': 0.0005953443067600975,\n",
       " 'items': 0.0010413000199408088,\n",
       " 'ive': 0.0070962436314429625,\n",
       " 'job': 0.0016647016731590862,\n",
       " 'just': 0.018147078401722708,\n",
       " 'kind': 0.0023613226788089265,\n",
       " 'know': 0.006666246524151929,\n",
       " 'large': 0.0013436305441384565,\n",
       " 'left': 0.0025136064118968233,\n",
       " 'let': 0.0010515328239018955,\n",
       " 'like': 0.0185179958853776,\n",
       " 'little': 0.0050852949839260125,\n",
       " 'location': 0.0026023102305739484,\n",
       " 'long': 0.0021589408175111085,\n",
       " 'look': 0.002585780709751905,\n",
       " 'looking': 0.00368616564566742,\n",
       " 'lot': 0.0030667803916419054,\n",
       " 'love': 0.006292093708829932,\n",
       " 'loved': 0.0026692469546275447,\n",
       " 'lunch': 0.0030168147609183414,\n",
       " 'make': 0.006745104965690614,\n",
       " 'meat': 0.0011917396365579524,\n",
       " 'menu': 0.0051870886391090915,\n",
       " 'minutes': 0.0040607220463123065,\n",
       " 'need': 0.007483013475826625,\n",
       " 'new': 0.008173572239760073,\n",
       " 'nice': 0.007727984648126644,\n",
       " 'night': 0.0039758956207378805,\n",
       " 'ok': 0.00180017477907017,\n",
       " 'old': 0.0015101939006535257,\n",
       " 'open': 0.00198439244121415,\n",
       " 'options': 0.0016160510736302374,\n",
       " 'order': 0.008034343710014494,\n",
       " 'ordered': 0.008424208799995543,\n",
       " 'outside': 0.0013924254200396219,\n",
       " 'overall': 0.0025230935647526306,\n",
       " 'parking': 0.0012278379861284149,\n",
       " 'people': 0.0047817538462218406,\n",
       " 'perfect': 0.0020705075658819573,\n",
       " 'pizza': 0.0022352326447075354,\n",
       " 'place': 0.017557803398087404,\n",
       " 'places': 0.0023854011248916006,\n",
       " 'pretty': 0.003099845959303537,\n",
       " 'price': 0.002594159883204858,\n",
       " 'prices': 0.0035999222058160866,\n",
       " 'probably': 0.0022682041506743365,\n",
       " 'quality': 0.0032418131900101717,\n",
       " 'quick': 0.0016544265441045373,\n",
       " 'quite': 0.0016152370230980715,\n",
       " 'really': 0.011725790257903069,\n",
       " 'recommend': 0.006795644865784908,\n",
       " 'restaurant': 0.0074644720759591615,\n",
       " 'return': 0.0019488457372198904,\n",
       " 'review': 0.0038826189484576865,\n",
       " 'rice': 0.0008681280395603002,\n",
       " 'right': 0.005093228006301496,\n",
       " 'room': 0.002877290792406748,\n",
       " 'said': 0.005118780560938513,\n",
       " 'salad': 0.002816871927626751,\n",
       " 'sandwich': 0.0022143373038673404,\n",
       " 'sauce': 0.0025536451581487387,\n",
       " 'say': 0.005923038107963283,\n",
       " 'selection': 0.00250477366696256,\n",
       " 'served': 0.0014318287380164967,\n",
       " 'server': 0.0025014646115399507,\n",
       " 'service': 0.016486816282609645,\n",
       " 'shop': 0.003166273345273017,\n",
       " 'shrimp': 0.0015901323734783084,\n",
       " 'small': 0.003774591876898352,\n",
       " 'soup': 0.0007773260188368776,\n",
       " 'special': 0.0013079270766061443,\n",
       " 'spot': 0.0022774550568174373,\n",
       " 'staff': 0.008584083068007361,\n",
       " 'store': 0.004002927411358797,\n",
       " 'super': 0.0024447846538294456,\n",
       " 'sushi': 0.0007692740247515085,\n",
       " 'sweet': 0.001907498707207519,\n",
       " 'table': 0.0045904323547387264,\n",
       " 'taste': 0.0016280356736740145,\n",
       " 'tasty': 0.002364878884550528,\n",
       " 'thats': 0.0026952203029551257,\n",
       " 'thing': 0.0026950331326862456,\n",
       " 'things': 0.0029136581564564363,\n",
       " 'think': 0.005483407755293406,\n",
       " 'thought': 0.0015185854608304285,\n",
       " 'time': 0.012983372095296706,\n",
       " 'times': 0.0037556128547449677,\n",
       " 'told': 0.0034730495645238614,\n",
       " 'took': 0.005234690821791214,\n",
       " 'town': 0.0014966840147112926,\n",
       " 'tried': 0.0025964381548890508,\n",
       " 'try': 0.005955567027884197,\n",
       " 'use': 0.0018925878303449255,\n",
       " 'used': 0.0015233829340792694,\n",
       " 'visit': 0.0026332247422300504,\n",
       " 'wait': 0.0049928951967338426,\n",
       " 'waiting': 0.0017549062803849573,\n",
       " 'waitress': 0.0014707112598221785,\n",
       " 'want': 0.006817261468606291,\n",
       " 'wanted': 0.0018972802017110193,\n",
       " 'wasnt': 0.003633567941057755,\n",
       " 'way': 0.007024786948066649,\n",
       " 'wonderful': 0.0032799040568039974,\n",
       " 'work': 0.004683624187831032,\n",
       " 'worth': 0.0031819455720205362,\n",
       " 'years': 0.003012190538740002,\n",
       " 'youre': 0.0044240475346577915}"
      ]
     },
     "execution_count": 145,
     "metadata": {},
     "output_type": "execute_result"
    }
   ],
   "source": [
    "{feature: importance for feature, importance in zip(X.columns, \n",
    "                                    rf.feature_importances_)}"
   ]
  },
  {
   "attachments": {},
   "cell_type": "markdown",
   "id": "5238a80f",
   "metadata": {},
   "source": [
    "The top 5 features of importance are:\n",
    "- num_words: 0.116852603839513\n",
    "- num_chars: 0.116775248360491\n",
    "- great: 0.0219457440853888\n",
    "- food: 0.021819203442455\n",
    "- like: 0.0185179958853776\n",
    "\n",
    "The bottom 5 features of importance are:\n",
    "- rice:\t0.0008681280395603\n",
    "- house: 0.000835254650819013\n",
    "- soup:\t0.000777326018836878\n",
    "- sushi: 0.000769274024751508\n",
    "- inside: 0.000595344306760098"
   ]
  },
  {
   "cell_type": "markdown",
   "id": "97c5821c",
   "metadata": {},
   "source": [
    "### Random Forest Metrics"
   ]
  },
  {
   "cell_type": "code",
   "execution_count": 147,
   "id": "549dbfff",
   "metadata": {
    "scrolled": true
   },
   "outputs": [
    {
     "name": "stdout",
     "output_type": "stream",
     "text": [
      "Random Forest Score: 0.63 +- 0.018\n"
     ]
    }
   ],
   "source": [
    "# score the X_train\n",
    "score(rf, 'Random Forest', X_train, y_train)"
   ]
  },
  {
   "cell_type": "code",
   "execution_count": 148,
   "id": "344ccb16",
   "metadata": {},
   "outputs": [
    {
     "name": "stdout",
     "output_type": "stream",
     "text": [
      "Random Forest Score: 0.64 +- 0.036\n"
     ]
    }
   ],
   "source": [
    "# score the X_test\n",
    "score(rf, 'Random Forest', X_test, y_test)"
   ]
  },
  {
   "cell_type": "code",
   "execution_count": 149,
   "id": "5555ea35",
   "metadata": {},
   "outputs": [
    {
     "name": "stdout",
     "output_type": "stream",
     "text": [
      "              precision    recall  f1-score   support\n",
      "\n",
      "  Not Useful       0.66      0.71      0.69      2327\n",
      "      Useful       0.60      0.54      0.57      1831\n",
      "\n",
      "    accuracy                           0.64      4158\n",
      "   macro avg       0.63      0.63      0.63      4158\n",
      "weighted avg       0.63      0.64      0.63      4158\n",
      "\n"
     ]
    },
    {
     "data": {
      "image/png": "[encoded data removed]",
      "text/plain": [
       "<Figure size 576x576 with 2 Axes>"
      ]
     },
     "metadata": {
      "needs_background": "light"
     },
     "output_type": "display_data"
    }
   ],
   "source": [
    "con_matrix(rf, X_test, y_test, 'Random Forest Confusion Matrix')"
   ]
  },
  {
   "cell_type": "code",
   "execution_count": 151,
   "id": "4c683750",
   "metadata": {},
   "outputs": [
    {
     "data": {
      "image/png": "[encoded data removed]",
      "text/plain": [
       "<Figure size 576x576 with 1 Axes>"
      ]
     },
     "metadata": {
      "needs_background": "light"
     },
     "output_type": "display_data"
    }
   ],
   "source": [
    "roc_plot(rf, X_test, y_test, 'Random Forest')"
   ]
  },
  {
   "cell_type": "markdown",
   "id": "73f6b4af",
   "metadata": {},
   "source": [
    "The random forest model had an r-squared score of 0.63 +/- 0.018 for training data, while the test data scored slightly better with 0.64 +/- 0.036.  For precision, out of all the reviews that the model predicted would be useful, only 60% actually were.  For recall, out of all the reviews that actually were useful, the model predicted this outcome correctly for 54% of those reviews.  For the F-1 score, this value isn’t very close to 1, it tells us that the model does a poor job of predicting whether or not reviews will be useful.  The ROC score is slightly below the acceptable range of 0.7+.  The model is better at predicting true negatives over true positives. The model performs slightly worse than the regression model for predicting true negatives, and slightly better than the regression model for predicting true positives. \n"
   ]
  },
  {
   "cell_type": "code",
   "execution_count": null,
   "id": "b11caaad",
   "metadata": {},
   "outputs": [],
   "source": []
  }
 ],
 "metadata": {
  "kernelspec": {
   "display_name": "Python 3 (ipykernel)",
   "language": "python",
   "name": "python3"
  },
  "language_info": {
   "codemirror_mode": {
    "name": "ipython",
    "version": 3
   },
   "file_extension": ".py",
   "mimetype": "text/x-python",
   "name": "python",
   "nbconvert_exporter": "python",
   "pygments_lexer": "ipython3",
   "version": "3.9.7"
  }
 },
 "nbformat": 4,
 "nbformat_minor": 5
}
