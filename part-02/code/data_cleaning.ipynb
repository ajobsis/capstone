{
 "cells": [
  {
   "cell_type": "markdown",
   "id": "94a46479",
   "metadata": {},
   "source": [
    "### Data Importing and Cleaning"
   ]
  },
  {
   "cell_type": "markdown",
   "id": "de007aee",
   "metadata": {},
   "source": [
    "#### Problem Statement\n",
    "\n",
    "Yelp is a platform that allows users to make reservations, leave reviews, and find businesses. In addition, users can mark which reviews they find useful.  Reviews can be both very helpful and very harmful for businesses. Being able to determine what makes a useful review can help businesses create better, more  targeted listings. \n",
    "\n"
   ]
  },
  {
   "cell_type": "code",
   "execution_count": 132,
   "id": "01ae4107",
   "metadata": {},
   "outputs": [],
   "source": [
    "# imports\n",
    "import pandas as pd\n",
    "import sqlite3"
   ]
  },
  {
   "cell_type": "code",
   "execution_count": 139,
   "id": "21d68757",
   "metadata": {},
   "outputs": [],
   "source": [
    "# read in yelp json lines \n",
    "# (json was randomly sampled from source data* using perl)\n",
    "yelp = pd.read_json('../data/yelp.json',lines=True)"
   ]
  },
  {
   "cell_type": "markdown",
   "id": "ea054516",
   "metadata": {},
   "source": [
    "*Yelp dataset sourced from <a href=\"https://www.yelp.com/dataset\">here</a>."
   ]
  },
  {
   "cell_type": "markdown",
   "id": "154f2c9d",
   "metadata": {},
   "source": [
    "#### Review Data"
   ]
  },
  {
   "cell_type": "code",
   "execution_count": 118,
   "id": "2402f9be",
   "metadata": {},
   "outputs": [
    {
     "data": {
      "text/html": [
       "<div>\n",
       "<style scoped>\n",
       "    .dataframe tbody tr th:only-of-type {\n",
       "        vertical-align: middle;\n",
       "    }\n",
       "\n",
       "    .dataframe tbody tr th {\n",
       "        vertical-align: top;\n",
       "    }\n",
       "\n",
       "    .dataframe thead th {\n",
       "        text-align: right;\n",
       "    }\n",
       "</style>\n",
       "<table border=\"1\" class=\"dataframe\">\n",
       "  <thead>\n",
       "    <tr style=\"text-align: right;\">\n",
       "      <th></th>\n",
       "      <th>review_id</th>\n",
       "      <th>user_id</th>\n",
       "      <th>business_id</th>\n",
       "      <th>stars</th>\n",
       "      <th>useful</th>\n",
       "      <th>funny</th>\n",
       "      <th>cool</th>\n",
       "      <th>text</th>\n",
       "      <th>date</th>\n",
       "    </tr>\n",
       "  </thead>\n",
       "  <tbody>\n",
       "    <tr>\n",
       "      <th>0</th>\n",
       "      <td>-P5E9BYUaK7s3PwBF5oAyg</td>\n",
       "      <td>Jha0USGDMefGFRLik_xFQg</td>\n",
       "      <td>bMratNjTG5ZFEA6hVyr-xQ</td>\n",
       "      <td>5</td>\n",
       "      <td>0</td>\n",
       "      <td>0</td>\n",
       "      <td>0</td>\n",
       "      <td>First time there and it was excellent!!! It fe...</td>\n",
       "      <td>2017-02-19 13:32:05</td>\n",
       "    </tr>\n",
       "    <tr>\n",
       "      <th>1</th>\n",
       "      <td>dQ3EU6cevDqHAr_ygy1O8A</td>\n",
       "      <td>CNyXcn0c0V5CFmigqqw-Xg</td>\n",
       "      <td>oY5LFo6Yxxf32ePna6mEUQ</td>\n",
       "      <td>5</td>\n",
       "      <td>1</td>\n",
       "      <td>0</td>\n",
       "      <td>0</td>\n",
       "      <td>I absolutely love this place!\\n\\nGreat hours, ...</td>\n",
       "      <td>2014-12-30 17:55:51</td>\n",
       "    </tr>\n",
       "    <tr>\n",
       "      <th>2</th>\n",
       "      <td>Pgh9POx-bH7JFggKXqXWMQ</td>\n",
       "      <td>8fL5qUckzt_nAC1uwvbr0w</td>\n",
       "      <td>uW8L6awmCyjovD9OhWPo7g</td>\n",
       "      <td>5</td>\n",
       "      <td>1</td>\n",
       "      <td>0</td>\n",
       "      <td>1</td>\n",
       "      <td>As far as I know, this is the best video renta...</td>\n",
       "      <td>2008-04-30 15:49:16</td>\n",
       "    </tr>\n",
       "    <tr>\n",
       "      <th>3</th>\n",
       "      <td>Sgs-rER85vBaOBSPVo96xw</td>\n",
       "      <td>EIi4Fy_JW_6v7DaRDet1uw</td>\n",
       "      <td>Q1HHAb4FzrzfnnrRyA8fgg</td>\n",
       "      <td>4</td>\n",
       "      <td>0</td>\n",
       "      <td>0</td>\n",
       "      <td>0</td>\n",
       "      <td>Great atmosphere and service! I don't know how...</td>\n",
       "      <td>2015-07-28 14:26:48</td>\n",
       "    </tr>\n",
       "    <tr>\n",
       "      <th>4</th>\n",
       "      <td>yqJv_8CoXNb-NpaEiTY4yw</td>\n",
       "      <td>ZiI40HVbRbFE-tv2K8OQkw</td>\n",
       "      <td>45siW2fI0Cuv5ZKCS23knA</td>\n",
       "      <td>5</td>\n",
       "      <td>0</td>\n",
       "      <td>0</td>\n",
       "      <td>0</td>\n",
       "      <td>Great new location on Central. Great staff and...</td>\n",
       "      <td>2014-04-19 13:06:28</td>\n",
       "    </tr>\n",
       "  </tbody>\n",
       "</table>\n",
       "</div>"
      ],
      "text/plain": [
       "                review_id                 user_id             business_id  \\\n",
       "0  -P5E9BYUaK7s3PwBF5oAyg  Jha0USGDMefGFRLik_xFQg  bMratNjTG5ZFEA6hVyr-xQ   \n",
       "1  dQ3EU6cevDqHAr_ygy1O8A  CNyXcn0c0V5CFmigqqw-Xg  oY5LFo6Yxxf32ePna6mEUQ   \n",
       "2  Pgh9POx-bH7JFggKXqXWMQ  8fL5qUckzt_nAC1uwvbr0w  uW8L6awmCyjovD9OhWPo7g   \n",
       "3  Sgs-rER85vBaOBSPVo96xw  EIi4Fy_JW_6v7DaRDet1uw  Q1HHAb4FzrzfnnrRyA8fgg   \n",
       "4  yqJv_8CoXNb-NpaEiTY4yw  ZiI40HVbRbFE-tv2K8OQkw  45siW2fI0Cuv5ZKCS23knA   \n",
       "\n",
       "   stars  useful  funny  cool  \\\n",
       "0      5       0      0     0   \n",
       "1      5       1      0     0   \n",
       "2      5       1      0     1   \n",
       "3      4       0      0     0   \n",
       "4      5       0      0     0   \n",
       "\n",
       "                                                text                date  \n",
       "0  First time there and it was excellent!!! It fe... 2017-02-19 13:32:05  \n",
       "1  I absolutely love this place!\\n\\nGreat hours, ... 2014-12-30 17:55:51  \n",
       "2  As far as I know, this is the best video renta... 2008-04-30 15:49:16  \n",
       "3  Great atmosphere and service! I don't know how... 2015-07-28 14:26:48  \n",
       "4  Great new location on Central. Great staff and... 2014-04-19 13:06:28  "
      ]
     },
     "execution_count": 118,
     "metadata": {},
     "output_type": "execute_result"
    }
   ],
   "source": [
    "# visualize the data\n",
    "yelp.head()"
   ]
  },
  {
   "cell_type": "code",
   "execution_count": 97,
   "id": "4dbb934f",
   "metadata": {},
   "outputs": [
    {
     "data": {
      "text/plain": [
       "(21032, 9)"
      ]
     },
     "execution_count": 97,
     "metadata": {},
     "output_type": "execute_result"
    }
   ],
   "source": [
    "# get shape of data\n",
    "yelp.shape"
   ]
  },
  {
   "cell_type": "code",
   "execution_count": 98,
   "id": "e0eb043c",
   "metadata": {},
   "outputs": [
    {
     "data": {
      "text/plain": [
       "review_id      0\n",
       "user_id        0\n",
       "business_id    0\n",
       "stars          0\n",
       "useful         0\n",
       "funny          0\n",
       "cool           0\n",
       "text           0\n",
       "date           0\n",
       "dtype: int64"
      ]
     },
     "execution_count": 98,
     "metadata": {},
     "output_type": "execute_result"
    }
   ],
   "source": [
    "# check for nulls\n",
    "yelp.isnull().sum()"
   ]
  },
  {
   "cell_type": "code",
   "execution_count": 99,
   "id": "accbd622",
   "metadata": {},
   "outputs": [
    {
     "data": {
      "text/plain": [
       "review_id              object\n",
       "user_id                object\n",
       "business_id            object\n",
       "stars                   int64\n",
       "useful                  int64\n",
       "funny                   int64\n",
       "cool                    int64\n",
       "text                   object\n",
       "date           datetime64[ns]\n",
       "dtype: object"
      ]
     },
     "execution_count": 99,
     "metadata": {},
     "output_type": "execute_result"
    }
   ],
   "source": [
    "# check datatypes\n",
    "yelp.dtypes"
   ]
  },
  {
   "cell_type": "code",
   "execution_count": 100,
   "id": "8b3394e3",
   "metadata": {},
   "outputs": [
    {
     "data": {
      "text/plain": [
       "review_id      21032\n",
       "user_id        19931\n",
       "business_id    15494\n",
       "stars              5\n",
       "useful            43\n",
       "funny             27\n",
       "cool              38\n",
       "text           21032\n",
       "date           21032\n",
       "dtype: int64"
      ]
     },
     "execution_count": 100,
     "metadata": {},
     "output_type": "execute_result"
    }
   ],
   "source": [
    "# check review_ids are unique\n",
    "yelp.nunique()"
   ]
  },
  {
   "cell_type": "markdown",
   "id": "1750948a",
   "metadata": {},
   "source": [
    "#### Data Preparation"
   ]
  },
  {
   "cell_type": "code",
   "execution_count": 119,
   "id": "39f3ba74",
   "metadata": {},
   "outputs": [],
   "source": [
    "# replace newlines with spaces & remove punctuation\n",
    "yelp.text = yelp.text.str.replace('\\n', ' ')\n",
    "yelp.text = yelp.text.replace('[^a-zA-Z0-9 ]', '', regex=True)"
   ]
  },
  {
   "cell_type": "code",
   "execution_count": 120,
   "id": "56b5f23e",
   "metadata": {},
   "outputs": [],
   "source": [
    "# create target\n",
    "yelp['target'] = yelp.useful.apply(lambda x: 0 if x < 1 else 1)"
   ]
  },
  {
   "cell_type": "code",
   "execution_count": 126,
   "id": "4f6e72b2",
   "metadata": {},
   "outputs": [],
   "source": [
    "# calculate number of words in text\n",
    "yelp['num_words'] = yelp.text.apply(lambda x: len(x.split(' ')))"
   ]
  },
  {
   "cell_type": "code",
   "execution_count": 128,
   "id": "a8518b94",
   "metadata": {},
   "outputs": [],
   "source": [
    "# calculate number of chars in text\n",
    "yelp['num_chars'] = yelp.text.apply(lambda x: len(x))"
   ]
  },
  {
   "cell_type": "code",
   "execution_count": 129,
   "id": "7ab88b65",
   "metadata": {},
   "outputs": [
    {
     "data": {
      "text/plain": [
       "0"
      ]
     },
     "execution_count": 129,
     "metadata": {},
     "output_type": "execute_result"
    }
   ],
   "source": [
    "# check for empty texts\n",
    "yelp.text.isnull().sum()"
   ]
  },
  {
   "cell_type": "markdown",
   "id": "f1656cc2",
   "metadata": {},
   "source": [
    "#### Export Data"
   ]
  },
  {
   "cell_type": "code",
   "execution_count": 130,
   "id": "fed78792",
   "metadata": {},
   "outputs": [],
   "source": [
    "# export clean data to csv\n",
    "yelp.to_csv('../data/yelp.csv',index=False)"
   ]
  },
  {
   "cell_type": "code",
   "execution_count": 134,
   "id": "c1c82870",
   "metadata": {},
   "outputs": [],
   "source": [
    "# export data to db\n",
    "db_connection = sqlite3.connect('../data/yelp.db.sqlite')\n",
    "yelp.to_sql(\n",
    "    'reviews',\n",
    "    con=db_connection,\n",
    "    if_exists = 'replace',\n",
    "    index=False\n",
    ")"
   ]
  },
  {
   "cell_type": "code",
   "execution_count": 138,
   "id": "dac69bbb",
   "metadata": {},
   "outputs": [
    {
     "data": {
      "text/html": [
       "<div>\n",
       "<style scoped>\n",
       "    .dataframe tbody tr th:only-of-type {\n",
       "        vertical-align: middle;\n",
       "    }\n",
       "\n",
       "    .dataframe tbody tr th {\n",
       "        vertical-align: top;\n",
       "    }\n",
       "\n",
       "    .dataframe thead th {\n",
       "        text-align: right;\n",
       "    }\n",
       "</style>\n",
       "<table border=\"1\" class=\"dataframe\">\n",
       "  <thead>\n",
       "    <tr style=\"text-align: right;\">\n",
       "      <th></th>\n",
       "      <th>count</th>\n",
       "    </tr>\n",
       "  </thead>\n",
       "  <tbody>\n",
       "    <tr>\n",
       "      <th>0</th>\n",
       "      <td>21032</td>\n",
       "    </tr>\n",
       "  </tbody>\n",
       "</table>\n",
       "</div>"
      ],
      "text/plain": [
       "   count\n",
       "0  21032"
      ]
     },
     "execution_count": 138,
     "metadata": {},
     "output_type": "execute_result"
    }
   ],
   "source": [
    "# check numbers of rows in db\n",
    "pd.read_sql('select count(*) as count from reviews;',\n",
    "           con=db_connection)"
   ]
  },
  {
   "cell_type": "markdown",
   "id": "2c1fe643",
   "metadata": {},
   "source": [
    "### Data Dictionary"
   ]
  },
  {
   "cell_type": "markdown",
   "id": "b0fb287c",
   "metadata": {},
   "source": [
    "|Feature|Type|Dataset|Description|\n",
    "|---|---|---|---|\n",
    "|review_id|object|Yelp|Unique review id key|\n",
    "|user_id|object|Yelp|User id key of the reviewer who left the review|\n",
    "|business_id|object|Yelp|Business id key of the business being reviewed|\n",
    "|stars|int64|Yelp|Yelp review star rating (between 1-5 stars|\n",
    "|useful|int64|Yelp|Number of \"useful\" votes received|\n",
    "|funny|int64|Yelp|Number of \"funny\" votes received|\n",
    "|cool|int64|Yelp|Number of \"cool\" votes on the review|\n",
    "|text|object|Yelp|The review text|\n",
    "|date|datetime64|Yelp|Date review was posted|\n",
    "|target|int64|Calculated|Binary 1 = useful, 0 = not useful|\n",
    "|num_words|int64|Calculated|Number of words in the review text|\n",
    "|num_chars|int64|Calculated|Number of characters in the review text"
   ]
  },
  {
   "cell_type": "code",
   "execution_count": null,
   "id": "7116afb7",
   "metadata": {},
   "outputs": [],
   "source": []
  }
 ],
 "metadata": {
  "kernelspec": {
   "display_name": "Python 3 (ipykernel)",
   "language": "python",
   "name": "python3"
  },
  "language_info": {
   "codemirror_mode": {
    "name": "ipython",
    "version": 3
   },
   "file_extension": ".py",
   "mimetype": "text/x-python",
   "name": "python",
   "nbconvert_exporter": "python",
   "pygments_lexer": "ipython3",
   "version": "3.9.7"
  }
 },
 "nbformat": 4,
 "nbformat_minor": 5
}
